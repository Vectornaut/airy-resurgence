{
 "cells": [
  {
   "cell_type": "code",
   "execution_count": 4,
   "metadata": {},
   "outputs": [],
   "source": [
    "%display latex"
   ]
  },
  {
   "cell_type": "code",
   "execution_count": 227,
   "metadata": {},
   "outputs": [
    {
     "data": {
      "text/latex": [
       "\\begin{align*}\n",
       "z & = (-1)^n \\tfrac{1}{a+1} y^{a+1} & a & = \\tfrac{1}{n-1} \\\\\n",
       "& = (-1)^n \\tfrac{n-1}{n} y^{n/(n-1)} \\\\\n",
       "(\\tfrac{n}{n-1} z)^{n-1} & = y^n\n",
       "\\end{align*}\n"
      ],
      "text/plain": [
       "<IPython.core.display.Latex object>"
      ]
     },
     "metadata": {},
     "output_type": "display_data"
    }
   ],
   "source": [
    "%%latex\n",
    "\\begin{align*}\n",
    "z & = (-1)^n \\tfrac{1}{a+1} y^{a+1} & a & = \\tfrac{1}{n-1} \\\\\n",
    "& = (-1)^n \\tfrac{n-1}{n} y^{n/(n-1)} \\\\\n",
    "(\\tfrac{n}{n-1} z)^{n-1} & = y^n\n",
    "\\end{align*}"
   ]
  },
  {
   "cell_type": "code",
   "execution_count": 228,
   "metadata": {},
   "outputs": [],
   "source": [
    "z, y, a = var('z y a')\n",
    "K = function('K')\n",
    "def in_coord_y(expr, n):\n",
    "  return expr.subs({z: (1 if is_even(n) else -1) * y^(a+1) / (a+1)})\n",
    "def in_coord_z(expr, n, top_power):\n",
    "  for k in range(top_power + 1):\n",
    "    expr = expr.subs({y^(k*a+k): ((1 if is_even(n) else -1) * (a+1) * z)^k})\n",
    "  expr = expr.subs({y^(a+n+1): ((1 if is_even(n) else -1) * (a+1) * z)^n})\n",
    "  expr = expr.subs({y^n: ((a+1) * z)^(n-1)})\n",
    "  return expr"
   ]
  },
  {
   "cell_type": "code",
   "execution_count": 229,
   "metadata": {},
   "outputs": [
    {
     "data": {
      "text/latex": [
       "When we write the hyper-Airy function as\n",
       "\\[ \\operatorname{Ai}_n(y) = y^a K\\big((-1)^n \\tfrac{1}{a+1} y^{a+1}\\big), \\]\n",
       "the higher Airy equation\n",
       "\\[ \\left[\\left(-\\tfrac{\\partial}{\\partial y}\\right)^{n-1} - y\\right] Ai_n = 0 \\]\n",
       "becomes an equation for $K$, given by higher_airy_eqn(n).\n"
      ],
      "text/plain": [
       "<IPython.core.display.Latex object>"
      ]
     },
     "metadata": {},
     "output_type": "display_data"
    }
   ],
   "source": [
    "%%latex\n",
    "When we write the hyper-Airy function as\n",
    "\\[ \\operatorname{Ai}_n(y) = y^a K\\big((-1)^n \\tfrac{1}{a+1} y^{a+1}\\big), \\]\n",
    "the higher Airy equation\n",
    "\\[ \\left[\\left(-\\tfrac{\\partial}{\\partial y}\\right)^{n-1} - y\\right] Ai_n = 0 \\]\n",
    "becomes an equation for $K$, given by higher_airy_eqn(n)."
   ]
  },
  {
   "cell_type": "code",
   "execution_count": 321,
   "metadata": {},
   "outputs": [],
   "source": [
    "from sage.symbolic.operators import add_vararg\n",
    "\n",
    "def factor_terms(expr):\n",
    "  if (expr.operator() == add_vararg):\n",
    "    return sum([term.factor() for term in expr.operands()])\n",
    "  else:\n",
    "    return expr\n",
    "\n",
    "def simplify_terms(expr):\n",
    "  if (expr.operator() == add_vararg):\n",
    "    return sum([term.simplify() for term in expr.operands()])\n",
    "  else:\n",
    "    return expr\n",
    "\n",
    "def hyper_airy(n):\n",
    "  return y^a * in_coord_y(K(z), n)\n",
    "\n",
    "def higher_airy_eqn(n):\n",
    "  diff_in_y = (y^(-a-1)*y^n * (-1)^(n-1) * hyper_airy(n).derivative(y, n-1)).canonicalize_radical()\n",
    "  mult_in_y = (y^(-a-1)*y^(n+1) * hyper_airy(n)).canonicalize_radical()\n",
    "  return (in_coord_z(diff_in_y - mult_in_y, n, n)).simplify()"
   ]
  },
  {
   "cell_type": "code",
   "execution_count": 322,
   "metadata": {},
   "outputs": [
    {
     "data": {
      "text/html": [
       "<html><script type=\"math/tex; mode=display\">\\newcommand{\\Bold}[1]{\\mathbf{#1}}-z^{2} K\\left(z\\right) + z^{2} \\frac{\\partial^{2}}{(\\partial z)^{2}}K\\left(z\\right) + z \\frac{\\partial}{\\partial z}K\\left(z\\right) - \\frac{1}{9} \\, K\\left(z\\right)</script></html>"
      ],
      "text/plain": [
       "-z^{2} K\\left(z\\right) + z^{2} \\frac{\\partial^{2}}{(\\partial z)^{2}}K\\left(z\\right) + z \\frac{\\partial}{\\partial z}K\\left(z\\right) - \\frac{1}{9} \\, K\\left(z\\right)"
      ]
     },
     "metadata": {},
     "output_type": "display_data"
    },
    {
     "data": {
      "text/html": [
       "<html><script type=\"math/tex; mode=display\">\\newcommand{\\Bold}[1]{\\mathbf{#1}}-z^{3} K\\left(z\\right) - z^{3} \\frac{\\partial^{3}}{(\\partial z)^{3}}K\\left(z\\right) - \\frac{3}{2} \\, z^{2} \\frac{\\partial^{2}}{(\\partial z)^{2}}K\\left(z\\right) + \\frac{5}{16} \\, z \\frac{\\partial}{\\partial z}K\\left(z\\right) - \\frac{5}{32} \\, K\\left(z\\right)</script></html>"
      ],
      "text/plain": [
       "-z^{3} K\\left(z\\right) - z^{3} \\frac{\\partial^{3}}{(\\partial z)^{3}}K\\left(z\\right) - \\frac{3}{2} \\, z^{2} \\frac{\\partial^{2}}{(\\partial z)^{2}}K\\left(z\\right) + \\frac{5}{16} \\, z \\frac{\\partial}{\\partial z}K\\left(z\\right) - \\frac{5}{32} \\, K\\left(z\\right)"
      ]
     },
     "metadata": {},
     "output_type": "display_data"
    },
    {
     "data": {
      "text/html": [
       "<html><script type=\"math/tex; mode=display\">\\newcommand{\\Bold}[1]{\\mathbf{#1}}-z^{4} K\\left(z\\right) + z^{4} \\frac{\\partial^{4}}{(\\partial z)^{4}}K\\left(z\\right) + 2 \\, z^{3} \\frac{\\partial^{3}}{(\\partial z)^{3}}K\\left(z\\right) - \\frac{3}{5} \\, z^{2} \\frac{\\partial^{2}}{(\\partial z)^{2}}K\\left(z\\right) + \\frac{3}{5} \\, z \\frac{\\partial}{\\partial z}K\\left(z\\right) - \\frac{231}{625} \\, K\\left(z\\right)</script></html>"
      ],
      "text/plain": [
       "-z^{4} K\\left(z\\right) + z^{4} \\frac{\\partial^{4}}{(\\partial z)^{4}}K\\left(z\\right) + 2 \\, z^{3} \\frac{\\partial^{3}}{(\\partial z)^{3}}K\\left(z\\right) - \\frac{3}{5} \\, z^{2} \\frac{\\partial^{2}}{(\\partial z)^{2}}K\\left(z\\right) + \\frac{3}{5} \\, z \\frac{\\partial}{\\partial z}K\\left(z\\right) - \\frac{231}{625} \\, K\\left(z\\right)"
      ]
     },
     "metadata": {},
     "output_type": "display_data"
    },
    {
     "data": {
      "text/html": [
       "<html><script type=\"math/tex; mode=display\">\\newcommand{\\Bold}[1]{\\mathbf{#1}}-z^{5} K\\left(z\\right) - z^{5} \\frac{\\partial^{5}}{(\\partial z)^{5}}K\\left(z\\right) - \\frac{5}{2} \\, z^{4} \\frac{\\partial^{4}}{(\\partial z)^{4}}K\\left(z\\right) + \\frac{35}{36} \\, z^{3} \\frac{\\partial^{3}}{(\\partial z)^{3}}K\\left(z\\right) - \\frac{35}{24} \\, z^{2} \\frac{\\partial^{2}}{(\\partial z)^{2}}K\\left(z\\right) + \\frac{581}{324} \\, z \\frac{\\partial}{\\partial z}K\\left(z\\right) - \\frac{133}{108} \\, K\\left(z\\right)</script></html>"
      ],
      "text/plain": [
       "-z^{5} K\\left(z\\right) - z^{5} \\frac{\\partial^{5}}{(\\partial z)^{5}}K\\left(z\\right) - \\frac{5}{2} \\, z^{4} \\frac{\\partial^{4}}{(\\partial z)^{4}}K\\left(z\\right) + \\frac{35}{36} \\, z^{3} \\frac{\\partial^{3}}{(\\partial z)^{3}}K\\left(z\\right) - \\frac{35}{24} \\, z^{2} \\frac{\\partial^{2}}{(\\partial z)^{2}}K\\left(z\\right) + \\frac{581}{324} \\, z \\frac{\\partial}{\\partial z}K\\left(z\\right) - \\frac{133}{108} \\, K\\left(z\\right)"
      ]
     },
     "metadata": {},
     "output_type": "display_data"
    },
    {
     "data": {
      "text/html": [
       "<html><script type=\"math/tex; mode=display\">\\newcommand{\\Bold}[1]{\\mathbf{#1}}-z^{6} K\\left(z\\right) + z^{6} \\frac{\\partial^{6}}{(\\partial z)^{6}}K\\left(z\\right) + 3 \\, z^{5} \\frac{\\partial^{5}}{(\\partial z)^{5}}K\\left(z\\right) - \\frac{10}{7} \\, z^{4} \\frac{\\partial^{4}}{(\\partial z)^{4}}K\\left(z\\right) + \\frac{20}{7} \\, z^{3} \\frac{\\partial^{3}}{(\\partial z)^{3}}K\\left(z\\right) - \\frac{1805}{343} \\, z^{2} \\frac{\\partial^{2}}{(\\partial z)^{2}}K\\left(z\\right) + \\frac{2475}{343} \\, z \\frac{\\partial}{\\partial z}K\\left(z\\right) - \\frac{623645}{117649} \\, K\\left(z\\right)</script></html>"
      ],
      "text/plain": [
       "-z^{6} K\\left(z\\right) + z^{6} \\frac{\\partial^{6}}{(\\partial z)^{6}}K\\left(z\\right) + 3 \\, z^{5} \\frac{\\partial^{5}}{(\\partial z)^{5}}K\\left(z\\right) - \\frac{10}{7} \\, z^{4} \\frac{\\partial^{4}}{(\\partial z)^{4}}K\\left(z\\right) + \\frac{20}{7} \\, z^{3} \\frac{\\partial^{3}}{(\\partial z)^{3}}K\\left(z\\right) - \\frac{1805}{343} \\, z^{2} \\frac{\\partial^{2}}{(\\partial z)^{2}}K\\left(z\\right) + \\frac{2475}{343} \\, z \\frac{\\partial}{\\partial z}K\\left(z\\right) - \\frac{623645}{117649} \\, K\\left(z\\right)"
      ]
     },
     "metadata": {},
     "output_type": "display_data"
    },
    {
     "data": {
      "text/html": [
       "<html><script type=\"math/tex; mode=display\">\\newcommand{\\Bold}[1]{\\mathbf{#1}}-z^{7} K\\left(z\\right) - z^{7} \\frac{\\partial^{7}}{(\\partial z)^{7}}K\\left(z\\right) - \\frac{7}{2} \\, z^{6} \\frac{\\partial^{6}}{(\\partial z)^{6}}K\\left(z\\right) + \\frac{63}{32} \\, z^{5} \\frac{\\partial^{5}}{(\\partial z)^{5}}K\\left(z\\right) - \\frac{315}{64} \\, z^{4} \\frac{\\partial^{4}}{(\\partial z)^{4}}K\\left(z\\right) + \\frac{49455}{4096} \\, z^{3} \\frac{\\partial^{3}}{(\\partial z)^{3}}K\\left(z\\right) - \\frac{203175}{8192} \\, z^{2} \\frac{\\partial^{2}}{(\\partial z)^{2}}K\\left(z\\right) + \\frac{2385045}{65536} \\, z \\frac{\\partial}{\\partial z}K\\left(z\\right) - \\frac{3669705}{131072} \\, K\\left(z\\right)</script></html>"
      ],
      "text/plain": [
       "-z^{7} K\\left(z\\right) - z^{7} \\frac{\\partial^{7}}{(\\partial z)^{7}}K\\left(z\\right) - \\frac{7}{2} \\, z^{6} \\frac{\\partial^{6}}{(\\partial z)^{6}}K\\left(z\\right) + \\frac{63}{32} \\, z^{5} \\frac{\\partial^{5}}{(\\partial z)^{5}}K\\left(z\\right) - \\frac{315}{64} \\, z^{4} \\frac{\\partial^{4}}{(\\partial z)^{4}}K\\left(z\\right) + \\frac{49455}{4096} \\, z^{3} \\frac{\\partial^{3}}{(\\partial z)^{3}}K\\left(z\\right) - \\frac{203175}{8192} \\, z^{2} \\frac{\\partial^{2}}{(\\partial z)^{2}}K\\left(z\\right) + \\frac{2385045}{65536} \\, z \\frac{\\partial}{\\partial z}K\\left(z\\right) - \\frac{3669705}{131072} \\, K\\left(z\\right)"
      ]
     },
     "metadata": {},
     "output_type": "display_data"
    },
    {
     "data": {
      "text/html": [
       "<html><script type=\"math/tex; mode=display\">\\newcommand{\\Bold}[1]{\\mathbf{#1}}-z^{8} K\\left(z\\right) + z^{8} \\frac{\\partial^{8}}{(\\partial z)^{8}}K\\left(z\\right) + 4 \\, z^{7} \\frac{\\partial^{7}}{(\\partial z)^{7}}K\\left(z\\right) - \\frac{70}{27} \\, z^{6} \\frac{\\partial^{6}}{(\\partial z)^{6}}K\\left(z\\right) + \\frac{70}{9} \\, z^{5} \\frac{\\partial^{5}}{(\\partial z)^{5}}K\\left(z\\right) - \\frac{52115}{2187} \\, z^{4} \\frac{\\partial^{4}}{(\\partial z)^{4}}K\\left(z\\right) + \\frac{47530}{729} \\, z^{3} \\frac{\\partial^{3}}{(\\partial z)^{3}}K\\left(z\\right) - \\frac{76186495}{531441} \\, z^{2} \\frac{\\partial^{2}}{(\\partial z)^{2}}K\\left(z\\right) + \\frac{117107375}{531441} \\, z \\frac{\\partial}{\\partial z}K\\left(z\\right) - \\frac{838612775}{4782969} \\, K\\left(z\\right)</script></html>"
      ],
      "text/plain": [
       "-z^{8} K\\left(z\\right) + z^{8} \\frac{\\partial^{8}}{(\\partial z)^{8}}K\\left(z\\right) + 4 \\, z^{7} \\frac{\\partial^{7}}{(\\partial z)^{7}}K\\left(z\\right) - \\frac{70}{27} \\, z^{6} \\frac{\\partial^{6}}{(\\partial z)^{6}}K\\left(z\\right) + \\frac{70}{9} \\, z^{5} \\frac{\\partial^{5}}{(\\partial z)^{5}}K\\left(z\\right) - \\frac{52115}{2187} \\, z^{4} \\frac{\\partial^{4}}{(\\partial z)^{4}}K\\left(z\\right) + \\frac{47530}{729} \\, z^{3} \\frac{\\partial^{3}}{(\\partial z)^{3}}K\\left(z\\right) - \\frac{76186495}{531441} \\, z^{2} \\frac{\\partial^{2}}{(\\partial z)^{2}}K\\left(z\\right) + \\frac{117107375}{531441} \\, z \\frac{\\partial}{\\partial z}K\\left(z\\right) - \\frac{838612775}{4782969} \\, K\\left(z\\right)"
      ]
     },
     "metadata": {},
     "output_type": "display_data"
    }
   ],
   "source": [
    "ord = var('n')\n",
    "for n in range(3,10):\n",
    "  display(latex((((n-1)/n)^(n-1) * higher_airy_eqn(n)).subs({a: 1/(n-1)})))\n",
    "  ##display(latex(expand((((ord-1)/ord)^(n-1) * higher_airy_eqn(n)).subs({a: 1/(ord-1)})).collect(K(z)).collect(K(z).derivative(z)).collect(K(z).derivative(z, 2))))"
   ]
  },
  {
   "cell_type": "code",
   "execution_count": 275,
   "metadata": {},
   "outputs": [
    {
     "data": {
      "text/html": [
       "<html><script type=\"math/tex; mode=display\">\\newcommand{\\Bold}[1]{\\mathbf{#1}}\\left[9, 64, 625, 7776, 117649\\right]</script></html>"
      ],
      "text/plain": [
       "[9, 64, 625, 7776, 117649]"
      ]
     },
     "execution_count": 275,
     "metadata": {},
     "output_type": "execute_result"
    }
   ],
   "source": [
    "[n^(n-1) for n in range(3,8)]"
   ]
  },
  {
   "cell_type": "code",
   "execution_count": 309,
   "metadata": {},
   "outputs": [
    {
     "data": {
      "text/html": [
       "<html><script type=\"math/tex; mode=display\">\\newcommand{\\Bold}[1]{\\mathbf{#1}}\\left[\\frac{1}{9}, \\frac{5}{16}, \\frac{3}{5}, \\frac{35}{36}, \\frac{10}{7}, \\frac{63}{32}, \\frac{70}{27}\\right]</script></html>"
      ],
      "text/plain": [
       "[1/9, 5/16, 3/5, 35/36, 10/7, 63/32, 70/27]"
      ]
     },
     "execution_count": 309,
     "metadata": {},
     "output_type": "execute_result"
    }
   ],
   "source": [
    "[1/3^2, 5/4^2, 15/5^2, 35/6^2, 70/7^2, 126/8^2, 210/9^2]"
   ]
  },
  {
   "cell_type": "code",
   "execution_count": 312,
   "metadata": {},
   "outputs": [
    {
     "data": {
      "text/html": [
       "<html><script type=\"math/tex; mode=display\">\\newcommand{\\Bold}[1]{\\mathbf{#1}}\\left[5, 3 \\cdot 5, 5 \\cdot 7, 2 \\cdot 5 \\cdot 7, 2 \\cdot 3^{2} \\cdot 7, 2 \\cdot 3 \\cdot 5 \\cdot 7\\right]</script></html>"
      ],
      "text/plain": [
       "[5, 3 * 5, 5 * 7, 2 * 5 * 7, 2 * 3^2 * 7, 2 * 3 * 5 * 7]"
      ]
     },
     "execution_count": 312,
     "metadata": {},
     "output_type": "execute_result"
    }
   ],
   "source": [
    "[factor(num) for num in [5, 15, 35, 70, 126, 210]]"
   ]
  },
  {
   "cell_type": "code",
   "execution_count": null,
   "metadata": {},
   "outputs": [],
   "source": []
  }
 ],
 "metadata": {
  "kernelspec": {
   "display_name": "SageMath 9.0",
   "language": "sage",
   "name": "sagemath"
  },
  "language_info": {
   "codemirror_mode": {
    "name": "ipython",
    "version": 3
   },
   "file_extension": ".py",
   "mimetype": "text/x-python",
   "name": "python",
   "nbconvert_exporter": "python",
   "pygments_lexer": "ipython3",
   "version": "3.8.10"
  }
 },
 "nbformat": 4,
 "nbformat_minor": 4
}
