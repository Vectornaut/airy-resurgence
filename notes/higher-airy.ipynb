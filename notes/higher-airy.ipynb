{
 "cells": [
  {
   "cell_type": "code",
   "execution_count": 4,
   "metadata": {},
   "outputs": [],
   "source": [
    "%display latex"
   ]
  },
  {
   "cell_type": "code",
   "execution_count": 227,
   "metadata": {},
   "outputs": [
    {
     "data": {
      "text/latex": [
       "\\begin{align*}\n",
       "z & = (-1)^n \\tfrac{1}{a+1} y^{a+1} & a & = \\tfrac{1}{n-1} \\\\\n",
       "& = (-1)^n \\tfrac{n-1}{n} y^{n/(n-1)} \\\\\n",
       "(\\tfrac{n}{n-1} z)^{n-1} & = y^n\n",
       "\\end{align*}\n"
      ],
      "text/plain": [
       "<IPython.core.display.Latex object>"
      ]
     },
     "metadata": {},
     "output_type": "display_data"
    }
   ],
   "source": [
    "%%latex\n",
    "\\begin{align*}\n",
    "z & = (-1)^n \\tfrac{1}{a+1} y^{a+1} & a & = \\tfrac{1}{n-1} \\\\\n",
    "& = (-1)^n \\tfrac{n-1}{n} y^{n/(n-1)} \\\\\n",
    "(\\tfrac{n}{n-1} z)^{n-1} & = y^n\n",
    "\\end{align*}"
   ]
  },
  {
   "cell_type": "code",
   "execution_count": 228,
   "metadata": {},
   "outputs": [],
   "source": [
    "z, y, a = var('z y a')\n",
    "K = function('K')\n",
    "def in_coord_y(expr, n):\n",
    "  return expr.subs({z: (1 if is_even(n) else -1) * y^(a+1) / (a+1)})\n",
    "def in_coord_z(expr, n, top_power):\n",
    "  for k in range(top_power + 1):\n",
    "    expr = expr.subs({y^(k*a+k): ((1 if is_even(n) else -1) * (a+1) * z)^k})\n",
    "  expr = expr.subs({y^(a+n+1): ((1 if is_even(n) else -1) * (a+1) * z)^n})\n",
    "  expr = expr.subs({y^n: ((a+1) * z)^(n-1)})\n",
    "  return expr"
   ]
  },
  {
   "cell_type": "code",
   "execution_count": 229,
   "metadata": {},
   "outputs": [
    {
     "data": {
      "text/latex": [
       "When we write the hyper-Airy function as\n",
       "\\[ \\operatorname{Ai}_n(y) = y^a K\\big((-1)^n \\tfrac{1}{a+1} y^{a+1}\\big), \\]\n",
       "the higher Airy equation\n",
       "\\[ \\left[\\left(-\\tfrac{\\partial}{\\partial y}\\right)^{n-1} - y\\right] Ai_n = 0 \\]\n",
       "becomes an equation for $K$, given by higher_airy_eqn(n).\n"
      ],
      "text/plain": [
       "<IPython.core.display.Latex object>"
      ]
     },
     "metadata": {},
     "output_type": "display_data"
    }
   ],
   "source": [
    "%%latex\n",
    "When we write the hyper-Airy function as\n",
    "\\[ \\operatorname{Ai}_n(y) = y^a K\\big((-1)^n \\tfrac{1}{a+1} y^{a+1}\\big), \\]\n",
    "the higher Airy equation\n",
    "\\[ \\left[\\left(-\\tfrac{\\partial}{\\partial y}\\right)^{n-1} - y\\right] Ai_n = 0 \\]\n",
    "becomes an equation for $K$, given by higher_airy_eqn(n)."
   ]
  },
  {
   "cell_type": "code",
   "execution_count": 753,
   "metadata": {},
   "outputs": [],
   "source": [
    "from sage.symbolic.operators import add_vararg, mul_vararg\n",
    "\n",
    "def rational_factor(expr):\n",
    "  if expr in QQ:\n",
    "    return expr\n",
    "  elif (expr.operator() == mul_vararg):\n",
    "    return product(filter(lambda fac: fac in QQ, expr.operands()))\n",
    "  else:\n",
    "    return 1\n",
    "\n",
    "def rational_coefficient(expr, var, k):\n",
    "  return rational_factor(expr.coefficient(var, k))\n",
    "\n",
    "def factor_terms(expr):\n",
    "  if (expr.operator() == add_vararg):\n",
    "    return sum([term.factor() for term in expr.operands()])\n",
    "  else:\n",
    "    return expr.factor()\n",
    "\n",
    "def simplify_terms(expr):\n",
    "  if (expr.operator() == add_vararg):\n",
    "    return sum([term.simplify() for term in expr.operands()])\n",
    "  else:\n",
    "    return expr\n",
    "\n",
    "def hyper_airy(n):\n",
    "  return y^a * in_coord_y(K(z), n)\n",
    "\n",
    "def higher_airy_eqn(n):\n",
    "  diff_in_y = (y^(-a-1)*y^n * (-1)^(n-1) * hyper_airy(n).derivative(y, n-1)).canonicalize_radical()\n",
    "  mult_in_y = (y^(-a-1)*y^(n+1) * hyper_airy(n)).canonicalize_radical()\n",
    "  return (in_coord_z(diff_in_y - mult_in_y, n, n)).simplify()"
   ]
  },
  {
   "cell_type": "code",
   "execution_count": 588,
   "metadata": {},
   "outputs": [
    {
     "data": {
      "text/html": [
       "<html><script type=\"math/tex; mode=display\">\\newcommand{\\Bold}[1]{\\mathbf{#1}}-{\\left(a + 1\\right)}^{2} z^{2} K\\left(z\\right) + {\\left(a + 1\\right)}^{2} z^{2} \\frac{\\partial^{2}}{(\\partial z)^{2}}K\\left(z\\right) + 3 \\, {\\left(a + 1\\right)} a z \\frac{\\partial}{\\partial z}K\\left(z\\right) + {\\left(a - 1\\right)} a K\\left(z\\right)</script></html>"
      ],
      "text/plain": [
       "-{\\left(a + 1\\right)}^{2} z^{2} K\\left(z\\right) + {\\left(a + 1\\right)}^{2} z^{2} \\frac{\\partial^{2}}{(\\partial z)^{2}}K\\left(z\\right) + 3 \\, {\\left(a + 1\\right)} a z \\frac{\\partial}{\\partial z}K\\left(z\\right) + {\\left(a - 1\\right)} a K\\left(z\\right)"
      ]
     },
     "metadata": {},
     "output_type": "display_data"
    },
    {
     "data": {
      "text/html": [
       "<html><script type=\"math/tex; mode=display\">\\newcommand{\\Bold}[1]{\\mathbf{#1}}-{\\left(a + 1\\right)}^{3} z^{3} K\\left(z\\right) - {\\left(a + 1\\right)}^{3} z^{3} \\frac{\\partial^{3}}{(\\partial z)^{3}}K\\left(z\\right) - 6 \\, {\\left(a + 1\\right)}^{2} a z^{2} \\frac{\\partial^{2}}{(\\partial z)^{2}}K\\left(z\\right) - {\\left(7 \\, a - 4\\right)} {\\left(a + 1\\right)} a z \\frac{\\partial}{\\partial z}K\\left(z\\right) - {\\left(a - 1\\right)} {\\left(a - 2\\right)} a K\\left(z\\right)</script></html>"
      ],
      "text/plain": [
       "-{\\left(a + 1\\right)}^{3} z^{3} K\\left(z\\right) - {\\left(a + 1\\right)}^{3} z^{3} \\frac{\\partial^{3}}{(\\partial z)^{3}}K\\left(z\\right) - 6 \\, {\\left(a + 1\\right)}^{2} a z^{2} \\frac{\\partial^{2}}{(\\partial z)^{2}}K\\left(z\\right) - {\\left(7 \\, a - 4\\right)} {\\left(a + 1\\right)} a z \\frac{\\partial}{\\partial z}K\\left(z\\right) - {\\left(a - 1\\right)} {\\left(a - 2\\right)} a K\\left(z\\right)"
      ]
     },
     "metadata": {},
     "output_type": "display_data"
    },
    {
     "data": {
      "text/html": [
       "<html><script type=\"math/tex; mode=display\">\\newcommand{\\Bold}[1]{\\mathbf{#1}}-{\\left(a + 1\\right)}^{4} z^{4} K\\left(z\\right) + {\\left(a + 1\\right)}^{4} z^{4} \\frac{\\partial^{4}}{(\\partial z)^{4}}K\\left(z\\right) + 10 \\, {\\left(a + 1\\right)}^{3} a z^{3} \\frac{\\partial^{3}}{(\\partial z)^{3}}K\\left(z\\right) + 5 \\, {\\left(5 \\, a - 2\\right)} {\\left(a + 1\\right)}^{2} a z^{2} \\frac{\\partial^{2}}{(\\partial z)^{2}}K\\left(z\\right) + 5 \\, {\\left(3 \\, a - 2\\right)} {\\left(a + 1\\right)} {\\left(a - 1\\right)} a z \\frac{\\partial}{\\partial z}K\\left(z\\right) + {\\left(a - 1\\right)} {\\left(a - 2\\right)} {\\left(a - 3\\right)} a K\\left(z\\right)</script></html>"
      ],
      "text/plain": [
       "-{\\left(a + 1\\right)}^{4} z^{4} K\\left(z\\right) + {\\left(a + 1\\right)}^{4} z^{4} \\frac{\\partial^{4}}{(\\partial z)^{4}}K\\left(z\\right) + 10 \\, {\\left(a + 1\\right)}^{3} a z^{3} \\frac{\\partial^{3}}{(\\partial z)^{3}}K\\left(z\\right) + 5 \\, {\\left(5 \\, a - 2\\right)} {\\left(a + 1\\right)}^{2} a z^{2} \\frac{\\partial^{2}}{(\\partial z)^{2}}K\\left(z\\right) + 5 \\, {\\left(3 \\, a - 2\\right)} {\\left(a + 1\\right)} {\\left(a - 1\\right)} a z \\frac{\\partial}{\\partial z}K\\left(z\\right) + {\\left(a - 1\\right)} {\\left(a - 2\\right)} {\\left(a - 3\\right)} a K\\left(z\\right)"
      ]
     },
     "metadata": {},
     "output_type": "display_data"
    },
    {
     "data": {
      "text/html": [
       "<html><script type=\"math/tex; mode=display\">\\newcommand{\\Bold}[1]{\\mathbf{#1}}-{\\left(a + 1\\right)}^{5} z^{5} K\\left(z\\right) - {\\left(a + 1\\right)}^{5} z^{5} \\frac{\\partial^{5}}{(\\partial z)^{5}}K\\left(z\\right) - 15 \\, {\\left(a + 1\\right)}^{4} a z^{4} \\frac{\\partial^{4}}{(\\partial z)^{4}}K\\left(z\\right) - 5 \\, {\\left(13 \\, a - 4\\right)} {\\left(a + 1\\right)}^{3} a z^{3} \\frac{\\partial^{3}}{(\\partial z)^{3}}K\\left(z\\right) - 15 \\, {\\left(3 \\, a - 2\\right)} {\\left(2 \\, a - 1\\right)} {\\left(a + 1\\right)}^{2} a z^{2} \\frac{\\partial^{2}}{(\\partial z)^{2}}K\\left(z\\right) - {\\left(a - 1\\right)} {\\left(a - 2\\right)} {\\left(a - 3\\right)} {\\left(a - 4\\right)} a K\\left(z\\right) - {\\left(31 \\, a^{2} - 70 \\, a + 36\\right)} {\\left(a + 1\\right)} {\\left(a - 1\\right)} a z \\frac{\\partial}{\\partial z}K\\left(z\\right)</script></html>"
      ],
      "text/plain": [
       "-{\\left(a + 1\\right)}^{5} z^{5} K\\left(z\\right) - {\\left(a + 1\\right)}^{5} z^{5} \\frac{\\partial^{5}}{(\\partial z)^{5}}K\\left(z\\right) - 15 \\, {\\left(a + 1\\right)}^{4} a z^{4} \\frac{\\partial^{4}}{(\\partial z)^{4}}K\\left(z\\right) - 5 \\, {\\left(13 \\, a - 4\\right)} {\\left(a + 1\\right)}^{3} a z^{3} \\frac{\\partial^{3}}{(\\partial z)^{3}}K\\left(z\\right) - 15 \\, {\\left(3 \\, a - 2\\right)} {\\left(2 \\, a - 1\\right)} {\\left(a + 1\\right)}^{2} a z^{2} \\frac{\\partial^{2}}{(\\partial z)^{2}}K\\left(z\\right) - {\\left(a - 1\\right)} {\\left(a - 2\\right)} {\\left(a - 3\\right)} {\\left(a - 4\\right)} a K\\left(z\\right) - {\\left(31 \\, a^{2} - 70 \\, a + 36\\right)} {\\left(a + 1\\right)} {\\left(a - 1\\right)} a z \\frac{\\partial}{\\partial z}K\\left(z\\right)"
      ]
     },
     "metadata": {},
     "output_type": "display_data"
    },
    {
     "data": {
      "text/html": [
       "<html><script type=\"math/tex; mode=display\">\\newcommand{\\Bold}[1]{\\mathbf{#1}}-{\\left(a + 1\\right)}^{6} z^{6} K\\left(z\\right) + {\\left(a + 1\\right)}^{6} z^{6} \\frac{\\partial^{6}}{(\\partial z)^{6}}K\\left(z\\right) + 21 \\, {\\left(a + 1\\right)}^{5} a z^{5} \\frac{\\partial^{5}}{(\\partial z)^{5}}K\\left(z\\right) + 35 \\, {\\left(4 \\, a - 1\\right)} {\\left(a + 1\\right)}^{4} a z^{4} \\frac{\\partial^{4}}{(\\partial z)^{4}}K\\left(z\\right) + 35 \\, {\\left(5 \\, a - 2\\right)} {\\left(2 \\, a - 1\\right)} {\\left(a + 1\\right)}^{3} a z^{3} \\frac{\\partial^{3}}{(\\partial z)^{3}}K\\left(z\\right) + 21 \\, {\\left(3 \\, a - 4\\right)} {\\left(a + 1\\right)} {\\left(a - 1\\right)}^{2} {\\left(a - 2\\right)} a z \\frac{\\partial}{\\partial z}K\\left(z\\right) + 7 \\, {\\left(43 \\, a^{2} - 55 \\, a + 18\\right)} {\\left(a + 1\\right)}^{2} {\\left(a - 1\\right)} a z^{2} \\frac{\\partial^{2}}{(\\partial z)^{2}}K\\left(z\\right) + {\\left(a - 1\\right)} {\\left(a - 2\\right)} {\\left(a - 3\\right)} {\\left(a - 4\\right)} {\\left(a - 5\\right)} a K\\left(z\\right)</script></html>"
      ],
      "text/plain": [
       "-{\\left(a + 1\\right)}^{6} z^{6} K\\left(z\\right) + {\\left(a + 1\\right)}^{6} z^{6} \\frac{\\partial^{6}}{(\\partial z)^{6}}K\\left(z\\right) + 21 \\, {\\left(a + 1\\right)}^{5} a z^{5} \\frac{\\partial^{5}}{(\\partial z)^{5}}K\\left(z\\right) + 35 \\, {\\left(4 \\, a - 1\\right)} {\\left(a + 1\\right)}^{4} a z^{4} \\frac{\\partial^{4}}{(\\partial z)^{4}}K\\left(z\\right) + 35 \\, {\\left(5 \\, a - 2\\right)} {\\left(2 \\, a - 1\\right)} {\\left(a + 1\\right)}^{3} a z^{3} \\frac{\\partial^{3}}{(\\partial z)^{3}}K\\left(z\\right) + 21 \\, {\\left(3 \\, a - 4\\right)} {\\left(a + 1\\right)} {\\left(a - 1\\right)}^{2} {\\left(a - 2\\right)} a z \\frac{\\partial}{\\partial z}K\\left(z\\right) + 7 \\, {\\left(43 \\, a^{2} - 55 \\, a + 18\\right)} {\\left(a + 1\\right)}^{2} {\\left(a - 1\\right)} a z^{2} \\frac{\\partial^{2}}{(\\partial z)^{2}}K\\left(z\\right) + {\\left(a - 1\\right)} {\\left(a - 2\\right)} {\\left(a - 3\\right)} {\\left(a - 4\\right)} {\\left(a - 5\\right)} a K\\left(z\\right)"
      ]
     },
     "metadata": {},
     "output_type": "display_data"
    }
   ],
   "source": [
    "for n in range(3,8):\n",
    "  display(latex(factor_terms(higher_airy_eqn(n))))"
   ]
  },
  {
   "cell_type": "code",
   "execution_count": 638,
   "metadata": {},
   "outputs": [
    {
     "data": {
      "text/html": [
       "<html><script type=\"math/tex; mode=display\">\\newcommand{\\Bold}[1]{\\mathbf{#1}}5 \\, {\\left(3 \\, a - 2\\right)} {\\left(a - 1\\right)} a z \\frac{\\partial}{\\partial z}K\\left(z\\right)</script></html>"
      ],
      "text/plain": [
       "5*(3*a - 2)*(a - 1)*a*z*diff(K(z), z)"
      ]
     },
     "metadata": {},
     "output_type": "display_data"
    },
    {
     "data": {
      "text/html": [
       "<html><script type=\"math/tex; mode=display\">\\newcommand{\\Bold}[1]{\\mathbf{#1}}-15 \\, {\\left(3 \\, a - 2\\right)} {\\left(2 \\, a - 1\\right)} a z^{2} \\frac{\\partial^{2}}{(\\partial z)^{2}}K\\left(z\\right)</script></html>"
      ],
      "text/plain": [
       "-15*(3*a - 2)*(2*a - 1)*a*z^2*diff(K(z), z, z)"
      ]
     },
     "metadata": {},
     "output_type": "display_data"
    },
    {
     "data": {
      "text/html": [
       "<html><script type=\"math/tex; mode=display\">\\newcommand{\\Bold}[1]{\\mathbf{#1}}35 \\, {\\left(5 \\, a - 2\\right)} {\\left(2 \\, a - 1\\right)} a z^{3} \\frac{\\partial^{3}}{(\\partial z)^{3}}K\\left(z\\right)</script></html>"
      ],
      "text/plain": [
       "35*(5*a - 2)*(2*a - 1)*a*z^3*diff(K(z), z, z, z)"
      ]
     },
     "metadata": {},
     "output_type": "display_data"
    },
    {
     "data": {
      "text/html": [
       "<html><script type=\"math/tex; mode=display\">\\newcommand{\\Bold}[1]{\\mathbf{#1}}-70 \\, {\\left(5 \\, a - 2\\right)} {\\left(3 \\, a - 1\\right)} a z^{4} \\frac{\\partial^{4}}{(\\partial z)^{4}}K\\left(z\\right)</script></html>"
      ],
      "text/plain": [
       "-70*(5*a - 2)*(3*a - 1)*a*z^4*diff(K(z), z, z, z, z)"
      ]
     },
     "metadata": {},
     "output_type": "display_data"
    },
    {
     "data": {
      "text/html": [
       "<html><script type=\"math/tex; mode=display\">\\newcommand{\\Bold}[1]{\\mathbf{#1}}126 \\, {\\left(7 \\, a - 2\\right)} {\\left(3 \\, a - 1\\right)} a z^{5} \\frac{\\partial^{5}}{(\\partial z)^{5}}K\\left(z\\right)</script></html>"
      ],
      "text/plain": [
       "126*(7*a - 2)*(3*a - 1)*a*z^5*diff(K(z), z, z, z, z, z)"
      ]
     },
     "metadata": {},
     "output_type": "display_data"
    },
    {
     "data": {
      "text/html": [
       "<html><script type=\"math/tex; mode=display\">\\newcommand{\\Bold}[1]{\\mathbf{#1}}-210 \\, {\\left(7 \\, a - 2\\right)} {\\left(4 \\, a - 1\\right)} a z^{6} \\frac{\\partial^{6}}{(\\partial z)^{6}}K\\left(z\\right)</script></html>"
      ],
      "text/plain": [
       "-210*(7*a - 2)*(4*a - 1)*a*z^6*diff(K(z), z, z, z, z, z, z)"
      ]
     },
     "metadata": {},
     "output_type": "display_data"
    },
    {
     "data": {
      "text/html": [
       "<html><script type=\"math/tex; mode=display\">\\newcommand{\\Bold}[1]{\\mathbf{#1}}330 \\, {\\left(9 \\, a - 2\\right)} {\\left(4 \\, a - 1\\right)} a z^{7} \\frac{\\partial^{7}}{(\\partial z)^{7}}K\\left(z\\right)</script></html>"
      ],
      "text/plain": [
       "330*(9*a - 2)*(4*a - 1)*a*z^7*diff(K(z), z, z, z, z, z, z, z)"
      ]
     },
     "metadata": {},
     "output_type": "display_data"
    }
   ],
   "source": [
    "view = 3\n",
    "##ord = var('n')\n",
    "for n in range(view+2, view+9):\n",
    "  eqn = factor_terms(higher_airy_eqn(n))\n",
    "  display(eqn.operands()[view+1] / (a+1)^(n-1-view))\n",
    "  ##display((ord-1)^view * (eqn.operands()[view+1] / (a+1)^(n-1-view)).subs({a: 1/(ord-1)}))"
   ]
  },
  {
   "cell_type": "code",
   "execution_count": 647,
   "metadata": {},
   "outputs": [
    {
     "data": {
      "text/html": [
       "<html><script type=\"math/tex; mode=display\">\\newcommand{\\Bold}[1]{\\mathbf{#1}}\\left[-2 \\, n + 5, -n + 2\\right]</script></html>"
      ],
      "text/plain": [
       "[-2*n + 5, -n + 2]"
      ]
     },
     "metadata": {},
     "output_type": "display_data"
    },
    {
     "data": {
      "text/html": [
       "<html><script type=\"math/tex; mode=display\">\\newcommand{\\Bold}[1]{\\mathbf{#1}}\\left[-2 \\, n + 5, -n + 3\\right]</script></html>"
      ],
      "text/plain": [
       "[-2*n + 5, -n + 3]"
      ]
     },
     "metadata": {},
     "output_type": "display_data"
    },
    {
     "data": {
      "text/html": [
       "<html><script type=\"math/tex; mode=display\">\\newcommand{\\Bold}[1]{\\mathbf{#1}}\\left[-2 \\, n + 7, -n + 3\\right]</script></html>"
      ],
      "text/plain": [
       "[-2*n + 7, -n + 3]"
      ]
     },
     "metadata": {},
     "output_type": "display_data"
    },
    {
     "data": {
      "text/html": [
       "<html><script type=\"math/tex; mode=display\">\\newcommand{\\Bold}[1]{\\mathbf{#1}}\\left[-2 \\, n + 7, -n + 4\\right]</script></html>"
      ],
      "text/plain": [
       "[-2*n + 7, -n + 4]"
      ]
     },
     "metadata": {},
     "output_type": "display_data"
    },
    {
     "data": {
      "text/html": [
       "<html><script type=\"math/tex; mode=display\">\\newcommand{\\Bold}[1]{\\mathbf{#1}}\\left[-2 \\, n + 9, -n + 4\\right]</script></html>"
      ],
      "text/plain": [
       "[-2*n + 9, -n + 4]"
      ]
     },
     "metadata": {},
     "output_type": "display_data"
    },
    {
     "data": {
      "text/html": [
       "<html><script type=\"math/tex; mode=display\">\\newcommand{\\Bold}[1]{\\mathbf{#1}}\\left[-2 \\, n + 9, -n + 5\\right]</script></html>"
      ],
      "text/plain": [
       "[-2*n + 9, -n + 5]"
      ]
     },
     "metadata": {},
     "output_type": "display_data"
    }
   ],
   "source": [
    "ord = var('n')\n",
    "for expr in [\n",
    "  [3-2*(ord-1), 1-(ord-1)],\n",
    "  [3-2*(ord-1), 2-(ord-1)],\n",
    "  [5-2*(ord-1), 2-(ord-1)],\n",
    "  [5-2*(ord-1), 3-(ord-1)],\n",
    "  [7-2*(ord-1), 3-(ord-1)],\n",
    "  [7-2*(ord-1), 4-(ord-1)]\n",
    "]: display(expr)"
   ]
  },
  {
   "cell_type": "code",
   "execution_count": 656,
   "metadata": {},
   "outputs": [
    {
     "data": {
      "text/html": [
       "<html><script type=\"math/tex; mode=display\">\\newcommand{\\Bold}[1]{\\mathbf{#1}}\\left[-2 \\, n + 5, -5 \\, n + 10\\right]</script></html>"
      ],
      "text/plain": [
       "[-2*n + 5, -5*n + 10]"
      ]
     },
     "metadata": {},
     "output_type": "display_data"
    },
    {
     "data": {
      "text/html": [
       "<html><script type=\"math/tex; mode=display\">\\newcommand{\\Bold}[1]{\\mathbf{#1}}\\left[-6 \\, n + 15, -5 \\, n + 15\\right]</script></html>"
      ],
      "text/plain": [
       "[-6*n + 15, -5*n + 15]"
      ]
     },
     "metadata": {},
     "output_type": "display_data"
    },
    {
     "data": {
      "text/html": [
       "<html><script type=\"math/tex; mode=display\">\\newcommand{\\Bold}[1]{\\mathbf{#1}}\\left[-20 \\, n + 70, -7 \\, n + 21\\right]</script></html>"
      ],
      "text/plain": [
       "[-20*n + 70, -7*n + 21]"
      ]
     },
     "metadata": {},
     "output_type": "display_data"
    },
    {
     "data": {
      "text/html": [
       "<html><script type=\"math/tex; mode=display\">\\newcommand{\\Bold}[1]{\\mathbf{#1}}\\left[-18 \\, n + 63, -14 \\, n + 56\\right]</script></html>"
      ],
      "text/plain": [
       "[-18*n + 63, -14*n + 56]"
      ]
     },
     "metadata": {},
     "output_type": "display_data"
    },
    {
     "data": {
      "text/html": [
       "<html><script type=\"math/tex; mode=display\">\\newcommand{\\Bold}[1]{\\mathbf{#1}}\\left[-2 \\, n + 9, -n + 4\\right]</script></html>"
      ],
      "text/plain": [
       "[-2*n + 9, -n + 4]"
      ]
     },
     "metadata": {},
     "output_type": "display_data"
    },
    {
     "data": {
      "text/html": [
       "<html><script type=\"math/tex; mode=display\">\\newcommand{\\Bold}[1]{\\mathbf{#1}}\\left[-2 \\, n + 9, -n + 5\\right]</script></html>"
      ],
      "text/plain": [
       "[-2*n + 9, -n + 5]"
      ]
     },
     "metadata": {},
     "output_type": "display_data"
    }
   ],
   "source": [
    "ord = var('n')\n",
    "for expr in [\n",
    "  [1*(3-2*(ord-1)), 5*(1-(ord-1))],\n",
    "  [3*(3-2*(ord-1)), 5*(2-(ord-1))],\n",
    "  [10*(5-2*(ord-1)), 7*(2-(ord-1))],\n",
    "  [9*(5-2*(ord-1)), 126/9*(3-(ord-1))],\n",
    "  [7-2*(ord-1), 3-(ord-1)],\n",
    "  [7-2*(ord-1), 4-(ord-1)]\n",
    "]: display(expr)"
   ]
  },
  {
   "cell_type": "code",
   "execution_count": 778,
   "metadata": {
    "scrolled": false
   },
   "outputs": [
    {
     "data": {
      "text/html": [
       "<html><script type=\"math/tex; mode=display\">\\newcommand{\\Bold}[1]{\\mathbf{#1}}-z^{2} K\\left(z\\right) + z^{2} \\frac{\\partial^{2}}{(\\partial z)^{2}}K\\left(z\\right) + z \\frac{\\partial}{\\partial z}K\\left(z\\right) - \\frac{1}{9} \\, K\\left(z\\right)</script></html>"
      ],
      "text/plain": [
       "-z^{2} K\\left(z\\right) + z^{2} \\frac{\\partial^{2}}{(\\partial z)^{2}}K\\left(z\\right) + z \\frac{\\partial}{\\partial z}K\\left(z\\right) - \\frac{1}{9} \\, K\\left(z\\right)"
      ]
     },
     "metadata": {},
     "output_type": "display_data"
    },
    {
     "data": {
      "text/html": [
       "<html><script type=\"math/tex; mode=display\">\\newcommand{\\Bold}[1]{\\mathbf{#1}}-z^{3} K\\left(z\\right) - z^{3} \\frac{\\partial^{3}}{(\\partial z)^{3}}K\\left(z\\right) - \\frac{3}{2} \\, z^{2} \\frac{\\partial^{2}}{(\\partial z)^{2}}K\\left(z\\right) + \\frac{5}{16} \\, z \\frac{\\partial}{\\partial z}K\\left(z\\right) - \\frac{5}{32} \\, K\\left(z\\right)</script></html>"
      ],
      "text/plain": [
       "-z^{3} K\\left(z\\right) - z^{3} \\frac{\\partial^{3}}{(\\partial z)^{3}}K\\left(z\\right) - \\frac{3}{2} \\, z^{2} \\frac{\\partial^{2}}{(\\partial z)^{2}}K\\left(z\\right) + \\frac{5}{16} \\, z \\frac{\\partial}{\\partial z}K\\left(z\\right) - \\frac{5}{32} \\, K\\left(z\\right)"
      ]
     },
     "metadata": {},
     "output_type": "display_data"
    },
    {
     "data": {
      "text/html": [
       "<html><script type=\"math/tex; mode=display\">\\newcommand{\\Bold}[1]{\\mathbf{#1}}-z^{4} K\\left(z\\right) + z^{4} \\frac{\\partial^{4}}{(\\partial z)^{4}}K\\left(z\\right) + 2 \\, z^{3} \\frac{\\partial^{3}}{(\\partial z)^{3}}K\\left(z\\right) - \\frac{3}{5} \\, z^{2} \\frac{\\partial^{2}}{(\\partial z)^{2}}K\\left(z\\right) + \\frac{3}{5} \\, z \\frac{\\partial}{\\partial z}K\\left(z\\right) - \\frac{231}{625} \\, K\\left(z\\right)</script></html>"
      ],
      "text/plain": [
       "-z^{4} K\\left(z\\right) + z^{4} \\frac{\\partial^{4}}{(\\partial z)^{4}}K\\left(z\\right) + 2 \\, z^{3} \\frac{\\partial^{3}}{(\\partial z)^{3}}K\\left(z\\right) - \\frac{3}{5} \\, z^{2} \\frac{\\partial^{2}}{(\\partial z)^{2}}K\\left(z\\right) + \\frac{3}{5} \\, z \\frac{\\partial}{\\partial z}K\\left(z\\right) - \\frac{231}{625} \\, K\\left(z\\right)"
      ]
     },
     "metadata": {},
     "output_type": "display_data"
    },
    {
     "data": {
      "text/html": [
       "<html><script type=\"math/tex; mode=display\">\\newcommand{\\Bold}[1]{\\mathbf{#1}}-z^{5} K\\left(z\\right) - z^{5} \\frac{\\partial^{5}}{(\\partial z)^{5}}K\\left(z\\right) - \\frac{5}{2} \\, z^{4} \\frac{\\partial^{4}}{(\\partial z)^{4}}K\\left(z\\right) + \\frac{35}{36} \\, z^{3} \\frac{\\partial^{3}}{(\\partial z)^{3}}K\\left(z\\right) - \\frac{35}{24} \\, z^{2} \\frac{\\partial^{2}}{(\\partial z)^{2}}K\\left(z\\right) + \\frac{581}{324} \\, z \\frac{\\partial}{\\partial z}K\\left(z\\right) - \\frac{133}{108} \\, K\\left(z\\right)</script></html>"
      ],
      "text/plain": [
       "-z^{5} K\\left(z\\right) - z^{5} \\frac{\\partial^{5}}{(\\partial z)^{5}}K\\left(z\\right) - \\frac{5}{2} \\, z^{4} \\frac{\\partial^{4}}{(\\partial z)^{4}}K\\left(z\\right) + \\frac{35}{36} \\, z^{3} \\frac{\\partial^{3}}{(\\partial z)^{3}}K\\left(z\\right) - \\frac{35}{24} \\, z^{2} \\frac{\\partial^{2}}{(\\partial z)^{2}}K\\left(z\\right) + \\frac{581}{324} \\, z \\frac{\\partial}{\\partial z}K\\left(z\\right) - \\frac{133}{108} \\, K\\left(z\\right)"
      ]
     },
     "metadata": {},
     "output_type": "display_data"
    },
    {
     "data": {
      "text/html": [
       "<html><script type=\"math/tex; mode=display\">\\newcommand{\\Bold}[1]{\\mathbf{#1}}-z^{6} K\\left(z\\right) + z^{6} \\frac{\\partial^{6}}{(\\partial z)^{6}}K\\left(z\\right) + 3 \\, z^{5} \\frac{\\partial^{5}}{(\\partial z)^{5}}K\\left(z\\right) - \\frac{10}{7} \\, z^{4} \\frac{\\partial^{4}}{(\\partial z)^{4}}K\\left(z\\right) + \\frac{20}{7} \\, z^{3} \\frac{\\partial^{3}}{(\\partial z)^{3}}K\\left(z\\right) - \\frac{1805}{343} \\, z^{2} \\frac{\\partial^{2}}{(\\partial z)^{2}}K\\left(z\\right) + \\frac{2475}{343} \\, z \\frac{\\partial}{\\partial z}K\\left(z\\right) - \\frac{623645}{117649} \\, K\\left(z\\right)</script></html>"
      ],
      "text/plain": [
       "-z^{6} K\\left(z\\right) + z^{6} \\frac{\\partial^{6}}{(\\partial z)^{6}}K\\left(z\\right) + 3 \\, z^{5} \\frac{\\partial^{5}}{(\\partial z)^{5}}K\\left(z\\right) - \\frac{10}{7} \\, z^{4} \\frac{\\partial^{4}}{(\\partial z)^{4}}K\\left(z\\right) + \\frac{20}{7} \\, z^{3} \\frac{\\partial^{3}}{(\\partial z)^{3}}K\\left(z\\right) - \\frac{1805}{343} \\, z^{2} \\frac{\\partial^{2}}{(\\partial z)^{2}}K\\left(z\\right) + \\frac{2475}{343} \\, z \\frac{\\partial}{\\partial z}K\\left(z\\right) - \\frac{623645}{117649} \\, K\\left(z\\right)"
      ]
     },
     "metadata": {},
     "output_type": "display_data"
    }
   ],
   "source": [
    "for n in range(3,8):\n",
    "  display(latex((((n-1)/n)^(n-1) * higher_airy_eqn(n)).subs({a: 1/(n-1)})))"
   ]
  },
  {
   "cell_type": "code",
   "execution_count": 890,
   "metadata": {
    "scrolled": true
   },
   "outputs": [
    {
     "data": {
      "text/html": [
       "<html><script type=\"math/tex; mode=display\">\\newcommand{\\Bold}[1]{\\mathbf{#1}}\\left(\\begin{array}{rrrrrrrrrr}\n",
       "1 & -\\frac{1}{9} & 0 & 0 & 0 & 0 & 0 & 0 & 0 & 0 \\\\\n",
       "-\\frac{3}{2} & \\frac{5}{16} & -\\frac{5}{32} & 0 & 0 & 0 & 0 & 0 & 0 & 0 \\\\\n",
       "2 & -\\frac{3}{5} & \\frac{3}{5} & -\\frac{231}{625} & 0 & 0 & 0 & 0 & 0 & 0 \\\\\n",
       "-\\frac{5}{2} & \\frac{35}{36} & -\\frac{35}{24} & \\frac{581}{324} & -\\frac{133}{108} & 0 & 0 & 0 & 0 & 0 \\\\\n",
       "3 & -\\frac{10}{7} & \\frac{20}{7} & -\\frac{1805}{343} & \\frac{2475}{343} & -\\frac{623645}{117649} & 0 & 0 & 0 & 0 \\\\\n",
       "-\\frac{7}{2} & \\frac{63}{32} & -\\frac{315}{64} & \\frac{49455}{4096} & -\\frac{203175}{8192} & \\frac{2385045}{65536} & -\\frac{3669705}{131072} & 0 & 0 & 0 \\\\\n",
       "4 & -\\frac{70}{27} & \\frac{70}{9} & -\\frac{52115}{2187} & \\frac{47530}{729} & -\\frac{76186495}{531441} & \\frac{117107375}{531441} & -\\frac{838612775}{4782969} & 0 & 0 \\\\\n",
       "-\\frac{9}{2} & \\frac{33}{10} & -\\frac{231}{20} & \\frac{424347}{10000} & -\\frac{580041}{4000} & \\frac{5309689}{12500} & -\\frac{2446521}{2500} & \\frac{2431440011}{1562500} & -\\frac{1985084101}{1562500} & 0 \\\\\n",
       "5 & -\\frac{45}{11} & \\frac{180}{11} & -\\frac{93303}{1331} & \\frac{382347}{1331} & -\\frac{169283520}{161051} & \\frac{519655500}{161051} & -\\frac{149883380829}{19487171} & \\frac{244590956883}{19487171} & -\\frac{271252029133449}{25937424601}\n",
       "\\end{array}\\right)</script></html>"
      ],
      "text/plain": [
       "[                           1                         -1/9                            0                            0                            0                            0                            0                            0                            0                            0]\n",
       "[                        -3/2                         5/16                        -5/32                            0                            0                            0                            0                            0                            0                            0]\n",
       "[                           2                         -3/5                          3/5                     -231/625                            0                            0                            0                            0                            0                            0]\n",
       "[                        -5/2                        35/36                       -35/24                      581/324                     -133/108                            0                            0                            0                            0                            0]\n",
       "[                           3                        -10/7                         20/7                    -1805/343                     2475/343               -623645/117649                            0                            0                            0                            0]\n",
       "[                        -7/2                        63/32                      -315/64                   49455/4096                 -203175/8192                2385045/65536              -3669705/131072                            0                            0                            0]\n",
       "[                           4                       -70/27                         70/9                  -52115/2187                    47530/729             -76186495/531441             117107375/531441           -838612775/4782969                            0                            0]\n",
       "[                        -9/2                        33/10                      -231/20                 424347/10000                 -580041/4000                5309689/12500                -2446521/2500           2431440011/1562500          -1985084101/1562500                            0]\n",
       "[                           5                       -45/11                       180/11                  -93303/1331                  382347/1331            -169283520/161051             519655500/161051       -149883380829/19487171        244590956883/19487171 -271252029133449/25937424601]"
      ]
     },
     "metadata": {},
     "output_type": "display_data"
    },
    {
     "data": {
      "text/html": [
       "<html><script type=\"math/tex; mode=display\">\\newcommand{\\Bold}[1]{\\mathbf{#1}}\\left(\\begin{array}{rrrrrrrrrr}\n",
       "3 & 1 & 0 & 0 & 0 & 0 & 0 & 0 & 0 & 0 \\\\\n",
       "6 & 5 & 10 & 0 & 0 & 0 & 0 & 0 & 0 & 0 \\\\\n",
       "10 & 15 & 75 & 231 & 0 & 0 & 0 & 0 & 0 & 0 \\\\\n",
       "15 & 35 & 315 & 2324 & 9576 & 0 & 0 & 0 & 0 & 0 \\\\\n",
       "21 & 70 & 980 & 12635 & 121275 & 623645 & 0 & 0 & 0 & 0 \\\\\n",
       "28 & 126 & 2520 & 49455 & 812700 & 9540180 & 58715280 & 0 & 0 & 0 \\\\\n",
       "36 & 210 & 5670 & 156345 & 3849930 & 76186495 & 1053966375 & 7547514975 & 0 & 0 \\\\\n",
       "45 & 330 & 11550 & 424347 & 14501025 & 424775120 & 9786084000 & 155612160704 & 1270453824640 & 0 \\\\\n",
       "55 & 495 & 21780 & 1026333 & 46263987 & 1862118720 & 62878315500 & 1648717189119 & 29595505782843 & 271252029133449\n",
       "\\end{array}\\right)</script></html>"
      ],
      "text/plain": [
       "[              3               1               0               0               0               0               0               0               0               0]\n",
       "[              6               5              10               0               0               0               0               0               0               0]\n",
       "[             10              15              75             231               0               0               0               0               0               0]\n",
       "[             15              35             315            2324            9576               0               0               0               0               0]\n",
       "[             21              70             980           12635          121275          623645               0               0               0               0]\n",
       "[             28             126            2520           49455          812700         9540180        58715280               0               0               0]\n",
       "[             36             210            5670          156345         3849930        76186495      1053966375      7547514975               0               0]\n",
       "[             45             330           11550          424347        14501025       424775120      9786084000    155612160704   1270453824640               0]\n",
       "[             55             495           21780         1026333        46263987      1862118720     62878315500   1648717189119  29595505782843 271252029133449]"
      ]
     },
     "metadata": {},
     "output_type": "display_data"
    }
   ],
   "source": [
    "n_range = range(3, 12)\n",
    "eqn_list = [(n, (((n-1)/n)^(n-1) * higher_airy_eqn(n)).subs({a: 1/(n-1)})) for n in n_range]\n",
    "computed_coeffs = matrix([\n",
    "  [rational_coefficient(eqn, z, n-1-k) for k in range(1, n_range.stop-1)]\n",
    "  for (n, eqn) in eqn_list\n",
    "])\n",
    "display(computed_coeffs)\n",
    "\n",
    "adjusted_coeffs = matrix([\n",
    "  [abs(n^k * rational_coefficient(eqn, z, n-1-k)) for k in range(1, n_range.stop-1)]\n",
    "  for (n, eqn) in eqn_list\n",
    "])\n",
    "display(adjusted_coeffs)"
   ]
  },
  {
   "cell_type": "code",
   "execution_count": 892,
   "metadata": {},
   "outputs": [
    {
     "data": {
      "text/html": [
       "<html><script type=\"math/tex; mode=display\">\\newcommand{\\Bold}[1]{\\mathbf{#1}}\\left[1, 10, 231, 9576, 623645, 58715280, 7547514975, 1270453824640, 271252029133449\\right]</script></html>"
      ],
      "text/plain": [
       "[1,\n",
       " 10,\n",
       " 231,\n",
       " 9576,\n",
       " 623645,\n",
       " 58715280,\n",
       " 7547514975,\n",
       " 1270453824640,\n",
       " 271252029133449]"
      ]
     },
     "metadata": {},
     "output_type": "display_data"
    },
    {
     "data": {
      "text/html": [
       "<html><script type=\"math/tex; mode=display\">\\newcommand{\\Bold}[1]{\\mathbf{#1}}\\left[1, 10, 231, 9576, 623645, 58715280, 7547514975, 1270453824640, 271252029133449\\right]</script></html>"
      ],
      "text/plain": [
       "[1,\n",
       " 10,\n",
       " 231,\n",
       " 9576,\n",
       " 623645,\n",
       " 58715280,\n",
       " 7547514975,\n",
       " 1270453824640,\n",
       " 271252029133449]"
      ]
     },
     "metadata": {},
     "output_type": "display_data"
    },
    {
     "data": {
      "text/html": [
       "<html><script type=\"math/tex; mode=display\">\\newcommand{\\Bold}[1]{\\mathbf{#1}}\\left[-\\frac{1}{9}, \\frac{5}{32}, -\\frac{231}{625}, \\frac{133}{108}, -\\frac{623645}{117649}, \\frac{3669705}{131072}, -\\frac{838612775}{4782969}, \\frac{1985084101}{1562500}, -\\frac{271252029133449}{25937424601}\\right]</script></html>"
      ],
      "text/plain": [
       "[-1/9,\n",
       " 5/32,\n",
       " -231/625,\n",
       " 133/108,\n",
       " -623645/117649,\n",
       " 3669705/131072,\n",
       " -838612775/4782969,\n",
       " 1985084101/1562500,\n",
       " -271252029133449/25937424601]"
      ]
     },
     "metadata": {},
     "output_type": "display_data"
    }
   ],
   "source": [
    "def last_coeff(n):\n",
    "  return ((n-1)/n)^(n-1) * falling_factorial(1/(n-1), n-1)\n",
    "def last_adjusted_coeff(n):\n",
    "  return product([(k-1)*n - k for k in range(2, n)])\n",
    "def alt_last_adjusted_coeff(n):\n",
    "  return -(1-n)^(n-1) * falling_factorial(1/(n-1), n-1)\n",
    "display([last_adjusted_coeff(n) for n in n_range])\n",
    "display([alt_last_adjusted_coeff(n) for n in n_range])\n",
    "display([last_coeff(n) for n in n_range])"
   ]
  },
  {
   "cell_type": "code",
   "execution_count": 879,
   "metadata": {},
   "outputs": [
    {
     "data": {
      "text/html": [
       "<html><script type=\"math/tex; mode=display\">\\newcommand{\\Bold}[1]{\\mathbf{#1}}\\left(\\begin{array}{rrrrrrrrr}\n",
       "1 & 0 & 0 & 0 & 0 & 0 & 0 & 0 & 0 \\\\\n",
       "2 & 5 & 0 & 0 & 0 & 0 & 0 & 0 & 0 \\\\\n",
       "3 & 7 & 11 & 0 & 0 & 0 & 0 & 0 & 0 \\\\\n",
       "4 & 9 & 14 & 19 & 0 & 0 & 0 & 0 & 0 \\\\\n",
       "5 & 11 & 17 & 23 & 29 & 0 & 0 & 0 & 0 \\\\\n",
       "6 & 13 & 20 & 27 & 34 & 41 & 0 & 0 & 0 \\\\\n",
       "7 & 15 & 23 & 31 & 39 & 47 & 55 & 0 & 0 \\\\\n",
       "8 & 17 & 26 & 35 & 44 & 53 & 62 & 71 & 0 \\\\\n",
       "9 & 19 & 29 & 39 & 49 & 59 & 69 & 79 & 89\n",
       "\\end{array}\\right)</script></html>"
      ],
      "text/plain": [
       "[ 1  0  0  0  0  0  0  0  0]\n",
       "[ 2  5  0  0  0  0  0  0  0]\n",
       "[ 3  7 11  0  0  0  0  0  0]\n",
       "[ 4  9 14 19  0  0  0  0  0]\n",
       "[ 5 11 17 23 29  0  0  0  0]\n",
       "[ 6 13 20 27 34 41  0  0  0]\n",
       "[ 7 15 23 31 39 47 55  0  0]\n",
       "[ 8 17 26 35 44 53 62 71  0]\n",
       "[ 9 19 29 39 49 59 69 79 89]"
      ]
     },
     "execution_count": 879,
     "metadata": {},
     "output_type": "execute_result"
    }
   ],
   "source": [
    "matrix([\n",
    "  [(k-1)*n - k for k in range(2, n)] + (n_range.stop-n-1)*[0]\n",
    "  for n in n_range\n",
    "])"
   ]
  },
  {
   "cell_type": "code",
   "execution_count": 915,
   "metadata": {},
   "outputs": [
    {
     "data": {
      "text/html": [
       "<html><script type=\"math/tex; mode=display\">\\newcommand{\\Bold}[1]{\\mathbf{#1}}\\left(\\begin{array}{rrrrrrrrrr}\n",
       "1 & -\\frac{1}{9} & 0 & 0 & 0 & 0 & 0 & 0 & 0 & 0 \\\\\n",
       "-\\frac{3}{2} & \\frac{5}{16} & -\\frac{5}{32} & 0 & 0 & 0 & 0 & 0 & 0 & 0 \\\\\n",
       "2 & -\\frac{3}{5} & \\frac{3}{5} & 0 & 0 & 0 & 0 & 0 & 0 & 0 \\\\\n",
       "-\\frac{5}{2} & \\frac{35}{36} & -\\frac{35}{24} & 0 & 0 & 0 & 0 & 0 & 0 & 0 \\\\\n",
       "3 & -\\frac{10}{7} & \\frac{20}{7} & 0 & 0 & 0 & 0 & 0 & 0 & 0 \\\\\n",
       "-\\frac{7}{2} & \\frac{63}{32} & -\\frac{315}{64} & 0 & 0 & 0 & 0 & 0 & 0 & 0 \\\\\n",
       "4 & -\\frac{70}{27} & \\frac{70}{9} & 0 & 0 & 0 & 0 & 0 & 0 & 0 \\\\\n",
       "-\\frac{9}{2} & \\frac{33}{10} & -\\frac{231}{20} & 0 & 0 & 0 & 0 & 0 & 0 & 0 \\\\\n",
       "5 & -\\frac{45}{11} & \\frac{180}{11} & 0 & 0 & 0 & 0 & 0 & 0 & 0\n",
       "\\end{array}\\right)</script></html>"
      ],
      "text/plain": [
       "[      1    -1/9       0       0       0       0       0       0       0       0]\n",
       "[   -3/2    5/16   -5/32       0       0       0       0       0       0       0]\n",
       "[      2    -3/5     3/5       0       0       0       0       0       0       0]\n",
       "[   -5/2   35/36  -35/24       0       0       0       0       0       0       0]\n",
       "[      3   -10/7    20/7       0       0       0       0       0       0       0]\n",
       "[   -7/2   63/32 -315/64       0       0       0       0       0       0       0]\n",
       "[      4  -70/27    70/9       0       0       0       0       0       0       0]\n",
       "[   -9/2   33/10 -231/20       0       0       0       0       0       0       0]\n",
       "[      5  -45/11  180/11       0       0       0       0       0       0       0]"
      ]
     },
     "metadata": {},
     "output_type": "display_data"
    },
    {
     "data": {
      "text/html": [
       "<html><script type=\"math/tex; mode=display\">\\newcommand{\\Bold}[1]{\\mathbf{#1}}\\left(\\begin{array}{rrrrrrrrrr}\n",
       "0 & 0 & 0 & 0 & 0 & 0 & 0 & 0 & 0 & 0 \\\\\n",
       "0 & 0 & 0 & 0 & 0 & 0 & 0 & 0 & 0 & 0 \\\\\n",
       "0 & 0 & 0 & -\\frac{231}{625} & 0 & 0 & 0 & 0 & 0 & 0 \\\\\n",
       "0 & 0 & 0 & \\frac{581}{324} & -\\frac{133}{108} & 0 & 0 & 0 & 0 & 0 \\\\\n",
       "0 & 0 & 0 & -\\frac{1805}{343} & \\frac{2475}{343} & -\\frac{623645}{117649} & 0 & 0 & 0 & 0 \\\\\n",
       "0 & 0 & 0 & \\frac{49455}{4096} & -\\frac{203175}{8192} & \\frac{2385045}{65536} & -\\frac{3669705}{131072} & 0 & 0 & 0 \\\\\n",
       "0 & 0 & 0 & -\\frac{52115}{2187} & \\frac{47530}{729} & -\\frac{76186495}{531441} & \\frac{117107375}{531441} & -\\frac{838612775}{4782969} & 0 & 0 \\\\\n",
       "0 & 0 & 0 & \\frac{424347}{10000} & -\\frac{580041}{4000} & \\frac{5309689}{12500} & -\\frac{2446521}{2500} & \\frac{2431440011}{1562500} & -\\frac{1985084101}{1562500} & 0 \\\\\n",
       "0 & 0 & 0 & -\\frac{93303}{1331} & \\frac{382347}{1331} & -\\frac{169283520}{161051} & \\frac{519655500}{161051} & -\\frac{149883380829}{19487171} & \\frac{244590956883}{19487171} & -\\frac{271252029133449}{25937424601}\n",
       "\\end{array}\\right)</script></html>"
      ],
      "text/plain": [
       "[                           0                            0                            0                            0                            0                            0                            0                            0                            0                            0]\n",
       "[                           0                            0                            0                            0                            0                            0                            0                            0                            0                            0]\n",
       "[                           0                            0                            0                     -231/625                            0                            0                            0                            0                            0                            0]\n",
       "[                           0                            0                            0                      581/324                     -133/108                            0                            0                            0                            0                            0]\n",
       "[                           0                            0                            0                    -1805/343                     2475/343               -623645/117649                            0                            0                            0                            0]\n",
       "[                           0                            0                            0                   49455/4096                 -203175/8192                2385045/65536              -3669705/131072                            0                            0                            0]\n",
       "[                           0                            0                            0                  -52115/2187                    47530/729             -76186495/531441             117107375/531441           -838612775/4782969                            0                            0]\n",
       "[                           0                            0                            0                 424347/10000                 -580041/4000                5309689/12500                -2446521/2500           2431440011/1562500          -1985084101/1562500                            0]\n",
       "[                           0                            0                            0                  -93303/1331                  382347/1331            -169283520/161051             519655500/161051       -149883380829/19487171        244590956883/19487171 -271252029133449/25937424601]"
      ]
     },
     "metadata": {},
     "output_type": "display_data"
    }
   ],
   "source": [
    "def build_coeffs(n):\n",
    "  coeffs = [(-1)^(n-1) * (n-1) / 2]\n",
    "  coeffs.append(-(n+1)*(n-2) / (3*4*n) * coeffs[-1])\n",
    "  coeffs.append(-(n-3) / 2 * coeffs[-1])\n",
    "  return coeffs\n",
    "\n",
    "expressed_coeffs = matrix([\n",
    "  build_coeffs(n) + (n_range.stop - 5)*[0]\n",
    "  for n in n_range\n",
    "])\n",
    "display(expressed_coeffs)\n",
    "display(computed_coeffs - expressed_coeffs)"
   ]
  },
  {
   "cell_type": "code",
   "execution_count": 1132,
   "metadata": {},
   "outputs": [
    {
     "data": {
      "text/html": [
       "<html><script type=\"math/tex; mode=display\">\\newcommand{\\Bold}[1]{\\mathbf{#1}}\\left(\\begin{array}{rrrrrrrrrr}\n",
       "3 & 1 & 0 & 0 & 0 & 0 & 0 & 0 & 0 & 0 \\\\\n",
       "6 & 5 & 10 & 0 & 0 & 0 & 0 & 0 & 0 & 0 \\\\\n",
       "10 & 15 & 75 & 0 & 0 & 0 & 0 & 0 & 0 & 0 \\\\\n",
       "15 & 35 & 315 & 0 & 9576 & 0 & 0 & 0 & 0 & 0 \\\\\n",
       "21 & 70 & 980 & 0 & 121275 & 0 & 0 & 0 & 0 & 0 \\\\\n",
       "28 & 126 & 2520 & 0 & 812700 & 0 & 0 & 0 & 0 & 0 \\\\\n",
       "36 & 210 & 5670 & 0 & 3849930 & 0 & 0 & 0 & 0 & 0 \\\\\n",
       "45 & 330 & 11550 & 0 & 14501025 & 0 & 0 & 0 & 0 & 0 \\\\\n",
       "55 & 495 & 21780 & 0 & 46263987 & 0 & 0 & 0 & 0 & 0\n",
       "\\end{array}\\right)</script></html>"
      ],
      "text/plain": [
       "[       3        1        0        0        0        0        0        0        0        0]\n",
       "[       6        5       10        0        0        0        0        0        0        0]\n",
       "[      10       15       75        0        0        0        0        0        0        0]\n",
       "[      15       35      315        0     9576        0        0        0        0        0]\n",
       "[      21       70      980        0   121275        0        0        0        0        0]\n",
       "[      28      126     2520        0   812700        0        0        0        0        0]\n",
       "[      36      210     5670        0  3849930        0        0        0        0        0]\n",
       "[      45      330    11550        0 14501025        0        0        0        0        0]\n",
       "[      55      495    21780        0 46263987        0        0        0        0        0]"
      ]
     },
     "metadata": {},
     "output_type": "display_data"
    },
    {
     "data": {
      "text/html": [
       "<html><script type=\"math/tex; mode=display\">\\newcommand{\\Bold}[1]{\\mathbf{#1}}\\left(\\begin{array}{rrrrrrrrrr}\n",
       "0 & 0 & 0 & 0 & 0 & 0 & 0 & 0 & 0 & 0 \\\\\n",
       "0 & 0 & 0 & 0 & 0 & 0 & 0 & 0 & 0 & 0 \\\\\n",
       "0 & 0 & 0 & 231 & 0 & 0 & 0 & 0 & 0 & 0 \\\\\n",
       "0 & 0 & 0 & 2324 & 0 & 0 & 0 & 0 & 0 & 0 \\\\\n",
       "0 & 0 & 0 & 12635 & 0 & 623645 & 0 & 0 & 0 & 0 \\\\\n",
       "0 & 0 & 0 & 49455 & 0 & 9540180 & 58715280 & 0 & 0 & 0 \\\\\n",
       "0 & 0 & 0 & 156345 & 0 & 76186495 & 1053966375 & 7547514975 & 0 & 0 \\\\\n",
       "0 & 0 & 0 & 424347 & 0 & 424775120 & 9786084000 & 155612160704 & 1270453824640 & 0 \\\\\n",
       "0 & 0 & 0 & 1026333 & 0 & 1862118720 & 62878315500 & 1648717189119 & 29595505782843 & 271252029133449\n",
       "\\end{array}\\right)</script></html>"
      ],
      "text/plain": [
       "[              0               0               0               0               0               0               0               0               0               0]\n",
       "[              0               0               0               0               0               0               0               0               0               0]\n",
       "[              0               0               0             231               0               0               0               0               0               0]\n",
       "[              0               0               0            2324               0               0               0               0               0               0]\n",
       "[              0               0               0           12635               0          623645               0               0               0               0]\n",
       "[              0               0               0           49455               0         9540180        58715280               0               0               0]\n",
       "[              0               0               0          156345               0        76186495      1053966375      7547514975               0               0]\n",
       "[              0               0               0          424347               0       424775120      9786084000    155612160704   1270453824640               0]\n",
       "[              0               0               0         1026333               0      1862118720     62878315500   1648717189119  29595505782843 271252029133449]"
      ]
     },
     "metadata": {},
     "output_type": "display_data"
    }
   ],
   "source": [
    "def build_adjusted_coeffs(n):\n",
    "  coeffs = [n*(n-1) / 2]\n",
    "  coeffs.append((n+1)*(n-2) / (3*4) * coeffs[-1])\n",
    "  coeffs.append(n*(n-3) / 2 * coeffs[-1])\n",
    "  coeffs.append(0)\n",
    "  coeffs.append(21/16*n*(3*n+1)*(11*n-2)*binomial(n+1, 7))\n",
    "  return coeffs\n",
    "\n",
    "expressed_adjusted_coeffs = matrix([\n",
    "  build_adjusted_coeffs(n) + (n_range.stop - 7)*[0]\n",
    "  for n in n_range\n",
    "])\n",
    "display(expressed_adjusted_coeffs)\n",
    "display(adjusted_coeffs - expressed_adjusted_coeffs)"
   ]
  },
  {
   "cell_type": "code",
   "execution_count": 1190,
   "metadata": {
    "scrolled": true
   },
   "outputs": [
    {
     "data": {
      "text/html": [
       "<html><script type=\"math/tex; mode=display\">\\newcommand{\\Bold}[1]{\\mathbf{#1}}\\left(\\begin{array}{rrrrrrrrrr}\n",
       "66 & 715 & 38610 & 2267265 & 129999870 & 6845823985 & 315047282550 & 12009319021700 & 352582189759800 & 7047265192531200 \\\\\n",
       "78 & 1001 & 65065 & 4654650 & 330269940 & 21970828880 & 1313812259760 & 67787865220075 & 2873487616249250 & 93292693244926175 \\\\\n",
       "91 & 1365 & 105105 & 8993985 & 772837065 & 63249492735 & 4750039168875 & 316601172587700 & 18059450810801400 & 841617929840688000 \\\\\n",
       "105 & 1820 & 163800 & 16514498 & 1688737050 & 166527399610 & 15308254533000 & 1274980294494907 & 93476069152170705 & 5832466394299114570 \\\\\n",
       "120 & 2380 & 247520 & 29031002 & 3482086608 & 406825078660 & 44863414596000 & 4553664549120687 & 415346748385713144 & 33163214347357486392 \\\\\n",
       "136 & 3060 & 364140 & 49148190 & 6830902260 & 932485824270 & 121364647554150 & 14720662805673825 & 1630006296346127700 & 161290219883701258350 \\\\\n",
       "153 & 3876 & 523260 & 80514210 & 12832689870 & 2022935014100 & 306577384052940 & 43737476639431575 & 5767594256002003425 & 690458001393795835200 \\\\\n",
       "171 & 4845 & 736440 & 128130870 & 23209458930 & 4182845523220 & 729797973996000 & 120864258833943625 & 18689183207667197225 & 2656343035062571279425\n",
       "\\end{array}\\right)</script></html>"
      ],
      "text/plain": [
       "[                    66                    715                  38610                2267265              129999870             6845823985           315047282550         12009319021700        352582189759800       7047265192531200]\n",
       "[                    78                   1001                  65065                4654650              330269940            21970828880          1313812259760         67787865220075       2873487616249250      93292693244926175]\n",
       "[                    91                   1365                 105105                8993985              772837065            63249492735          4750039168875        316601172587700      18059450810801400     841617929840688000]\n",
       "[                   105                   1820                 163800               16514498             1688737050           166527399610         15308254533000       1274980294494907      93476069152170705    5832466394299114570]\n",
       "[                   120                   2380                 247520               29031002             3482086608           406825078660         44863414596000       4553664549120687     415346748385713144   33163214347357486392]\n",
       "[                   136                   3060                 364140               49148190             6830902260           932485824270        121364647554150      14720662805673825    1630006296346127700  161290219883701258350]\n",
       "[                   153                   3876                 523260               80514210            12832689870          2022935014100        306577384052940      43737476639431575    5767594256002003425  690458001393795835200]\n",
       "[                   171                   4845                 736440              128130870            23209458930          4182845523220        729797973996000     120864258833943625   18689183207667197225 2656343035062571279425]"
      ]
     },
     "metadata": {},
     "output_type": "display_data"
    }
   ],
   "source": [
    "more_range = range(12, 20)\n",
    "more_eqn_list = [(n, (((n-1)/n)^(n-1) * higher_airy_eqn(n)).subs({a: 1/(n-1)})) for n in more_range]\n",
    "more_adjusted_coeffs = matrix([\n",
    "  [abs(n^k * rational_coefficient(eqn, z, n-1-k)) for k in range(1, n_range.stop-1)]\n",
    "  for (n, eqn) in more_eqn_list\n",
    "])\n",
    "display(more_adjusted_coeffs)\n",
    "all_adjusted_coeffs = block_matrix([[adjusted_coeffs], [more_adjusted_coeffs]])"
   ]
  },
  {
   "cell_type": "code",
   "execution_count": 1191,
   "metadata": {},
   "outputs": [
    {
     "data": {
      "text/html": [
       "<html><script type=\"math/tex; mode=display\">\\newcommand{\\Bold}[1]{\\mathbf{#1}}\\left(0,\\,0,\\,0,\\,0,\\,623645,\\,9540180,\\,76186495,\\,424775120,\\,1862118720,\\,6845823985,\\,21970828880,\\,63249492735,\\,166527399610,\\,406825078660,\\,932485824270,\\,2022935014100,\\,4182845523220\\right)</script></html>"
      ],
      "text/plain": [
       "(0, 0, 0, 0, 623645, 9540180, 76186495, 424775120, 1862118720, 6845823985, 21970828880, 63249492735, 166527399610, 406825078660, 932485824270, 2022935014100, 4182845523220)"
      ]
     },
     "execution_count": 1191,
     "metadata": {},
     "output_type": "execute_result"
    }
   ],
   "source": [
    "all_adjusted_coeffs.column(5)"
   ]
  },
  {
   "cell_type": "code",
   "execution_count": 1193,
   "metadata": {},
   "outputs": [
    {
     "data": {
      "text/html": [
       "<html><script type=\"math/tex; mode=display\">\\newcommand{\\Bold}[1]{\\mathbf{#1}}\\left(\\frac{1}{2}\\right) \\cdot (n - 1) \\cdot n</script></html>"
      ],
      "text/plain": [
       "(1/2) * (n - 1) * n"
      ]
     },
     "metadata": {},
     "output_type": "display_data"
    },
    {
     "data": {
      "text/html": [
       "<html><script type=\"math/tex; mode=display\">\\newcommand{\\Bold}[1]{\\mathbf{#1}}\\left(\\frac{1}{24}\\right) \\cdot (n - 2) \\cdot (n - 1) \\cdot n \\cdot (n + 1)</script></html>"
      ],
      "text/plain": [
       "(1/24) * (n - 2) * (n - 1) * n * (n + 1)"
      ]
     },
     "metadata": {},
     "output_type": "display_data"
    },
    {
     "data": {
      "text/html": [
       "<html><script type=\"math/tex; mode=display\">\\newcommand{\\Bold}[1]{\\mathbf{#1}}\\left(\\frac{1}{48}\\right) \\cdot (n - 3) \\cdot (n - 2) \\cdot (n - 1) \\cdot (n + 1) \\cdot n^{2}</script></html>"
      ],
      "text/plain": [
       "(1/48) * (n - 3) * (n - 2) * (n - 1) * (n + 1) * n^2"
      ]
     },
     "metadata": {},
     "output_type": "display_data"
    },
    {
     "data": {
      "text/html": [
       "<html><script type=\"math/tex; mode=display\">\\newcommand{\\Bold}[1]{\\mathbf{#1}}\\left(\\frac{73}{5760}\\right) \\cdot (n - 4) \\cdot (n - 3) \\cdot (n - 2) \\cdot (n - 1) \\cdot n \\cdot (n + 1) \\cdot (n^{2} + \\frac{5}{73} n - \\frac{2}{73})</script></html>"
      ],
      "text/plain": [
       "(73/5760) * (n - 4) * (n - 3) * (n - 2) * (n - 1) * n * (n + 1) * (n^2 + 5/73*n - 2/73)"
      ]
     },
     "metadata": {},
     "output_type": "display_data"
    },
    {
     "data": {
      "text/html": [
       "<html><script type=\"math/tex; mode=display\">\\newcommand{\\Bold}[1]{\\mathbf{#1}}\\left(\\frac{11}{1280}\\right) \\cdot (n - 5) \\cdot (n - 4) \\cdot (n - 3) \\cdot (n - 2) \\cdot (n - 1) \\cdot (n - \\frac{2}{11}) \\cdot (n + \\frac{1}{3}) \\cdot (n + 1) \\cdot n^{2}</script></html>"
      ],
      "text/plain": [
       "(11/1280) * (n - 5) * (n - 4) * (n - 3) * (n - 2) * (n - 1) * (n - 2/11) * (n + 1/3) * (n + 1) * n^2"
      ]
     },
     "metadata": {},
     "output_type": "display_data"
    },
    {
     "data": {
      "text/html": [
       "<html><script type=\"math/tex; mode=display\">\\newcommand{\\Bold}[1]{\\mathbf{#1}}\\left(\\frac{3625}{580608}\\right) \\cdot (n - 6) \\cdot (n - 5) \\cdot (n - 4) \\cdot (n - 3) \\cdot (n - 2) \\cdot (n - 1) \\cdot (n - \\frac{1}{5}) \\cdot n \\cdot (n + 1) \\cdot (n^{3} + \\frac{1579}{3625} n^{2} - \\frac{2}{725} n - \\frac{16}{3625})</script></html>"
      ],
      "text/plain": [
       "(3625/580608) * (n - 6) * (n - 5) * (n - 4) * (n - 3) * (n - 2) * (n - 1) * (n - 1/5) * n * (n + 1) * (n^3 + 1579/3625*n^2 - 2/725*n - 16/3625)"
      ]
     },
     "metadata": {},
     "output_type": "display_data"
    }
   ],
   "source": [
    "coeff_graph = [\n",
    "  list(enumerate(map(Integer, all_adjusted_coeffs.column(k-1)), 3))[max(k-2, 0):]\n",
    "  for k in range(1, n_range.stop-1)\n",
    "]\n",
    "coeff_ring = QQ['n']\n",
    "ord = coeff_ring.gen()\n",
    "interpolated_coeffs = [coeff_ring.lagrange_polynomial(graph) for graph in coeff_graph[:6]]\n",
    "for coeff in interpolated_coeffs:\n",
    "  display(factor(coeff))"
   ]
  },
  {
   "cell_type": "code",
   "execution_count": 1209,
   "metadata": {},
   "outputs": [
    {
     "data": {
      "text/html": [
       "<html><script type=\"math/tex; mode=display\">\\newcommand{\\Bold}[1]{\\mathbf{#1}}\\frac{1}{24}</script></html>"
      ],
      "text/plain": [
       "1/24"
      ]
     },
     "metadata": {},
     "output_type": "display_data"
    },
    {
     "data": {
      "text/html": [
       "<html><script type=\"math/tex; mode=display\">\\newcommand{\\Bold}[1]{\\mathbf{#1}}\\frac{1}{48} n</script></html>"
      ],
      "text/plain": [
       "1/48*n"
      ]
     },
     "metadata": {},
     "output_type": "display_data"
    },
    {
     "data": {
      "text/html": [
       "<html><script type=\"math/tex; mode=display\">\\newcommand{\\Bold}[1]{\\mathbf{#1}}\\frac{73}{5760} n^{2} + \\frac{1}{1152} n - \\frac{1}{2880}</script></html>"
      ],
      "text/plain": [
       "73/5760*n^2 + 1/1152*n - 1/2880"
      ]
     },
     "metadata": {},
     "output_type": "display_data"
    },
    {
     "data": {
      "text/html": [
       "<html><script type=\"math/tex; mode=display\">\\newcommand{\\Bold}[1]{\\mathbf{#1}}\\frac{11}{1280} n^{3} + \\frac{1}{768} n^{2} - \\frac{1}{1920} n</script></html>"
      ],
      "text/plain": [
       "11/1280*n^3 + 1/768*n^2 - 1/1920*n"
      ]
     },
     "metadata": {},
     "output_type": "display_data"
    },
    {
     "data": {
      "text/html": [
       "<html><script type=\"math/tex; mode=display\">\\newcommand{\\Bold}[1]{\\mathbf{#1}}\\frac{3625}{580608} n^{4} + \\frac{61}{41472} n^{3} - \\frac{181}{322560} n^{2} - \\frac{1}{41472} n + \\frac{1}{181440}</script></html>"
      ],
      "text/plain": [
       "3625/580608*n^4 + 61/41472*n^3 - 181/322560*n^2 - 1/41472*n + 1/181440"
      ]
     },
     "metadata": {},
     "output_type": "display_data"
    }
   ],
   "source": [
    "reduced_coeff_graph = [[(n, c / falling_factorial(n+1, k+2)) for (n, c) in coeff_graph[k-1]] for k in range(1, len(coeff_graph)+1)]\n",
    "interpolated_reduced_coeffs = [coeff_ring.lagrange_polynomial(graph) for graph in reduced_coeff_graph[1:6]]\n",
    "for coeff in interpolated_reduced_coeffs:\n",
    "  display(coeff)"
   ]
  },
  {
   "cell_type": "code",
   "execution_count": 1222,
   "metadata": {},
   "outputs": [
    {
     "data": {
      "text/html": [
       "<html><script type=\"math/tex; mode=display\">\\newcommand{\\Bold}[1]{\\mathbf{#1}}\\frac{5}{3072} n^{3} - \\frac{1811}{2903040} n^{2} - \\frac{1}{41472} n + \\frac{1}{181440}</script></html>"
      ],
      "text/plain": [
       "5/3072*n^3 - 1811/2903040*n^2 - 1/41472*n + 1/181440"
      ]
     },
     "execution_count": 1222,
     "metadata": {},
     "output_type": "execute_result"
    }
   ],
   "source": [
    "interpolated_reduced_coeffs[4] + (1/6)*(sum(ord^m * interpolated_reduced_coeffs[4-m] / (m+1) for m in range(1, 5)) + ord^4 / (2*6) - ord^4 / 7)"
   ]
  },
  {
   "cell_type": "code",
   "execution_count": 1182,
   "metadata": {},
   "outputs": [
    {
     "data": {
      "text/html": [
       "<html><script type=\"math/tex; mode=display\">\\newcommand{\\Bold}[1]{\\mathbf{#1}}\\frac{1}{2} n^{2} - \\frac{1}{2} n</script></html>"
      ],
      "text/plain": [
       "1/2*n^2 - 1/2*n"
      ]
     },
     "metadata": {},
     "output_type": "display_data"
    },
    {
     "data": {
      "text/html": [
       "<html><script type=\"math/tex; mode=display\">\\newcommand{\\Bold}[1]{\\mathbf{#1}}\\frac{1}{24} n^{4} - \\frac{1}{12} n^{3} - \\frac{1}{24} n^{2} + \\frac{1}{12} n</script></html>"
      ],
      "text/plain": [
       "1/24*n^4 - 1/12*n^3 - 1/24*n^2 + 1/12*n"
      ]
     },
     "metadata": {},
     "output_type": "display_data"
    },
    {
     "data": {
      "text/html": [
       "<html><script type=\"math/tex; mode=display\">\\newcommand{\\Bold}[1]{\\mathbf{#1}}\\frac{1}{48} n^{6} - \\frac{5}{48} n^{5} + \\frac{5}{48} n^{4} + \\frac{5}{48} n^{3} - \\frac{1}{8} n^{2}</script></html>"
      ],
      "text/plain": [
       "1/48*n^6 - 5/48*n^5 + 5/48*n^4 + 5/48*n^3 - 1/8*n^2"
      ]
     },
     "metadata": {},
     "output_type": "display_data"
    },
    {
     "data": {
      "text/html": [
       "<html><script type=\"math/tex; mode=display\">\\newcommand{\\Bold}[1]{\\mathbf{#1}}\\frac{73}{5760} n^{8} - \\frac{163}{1440} n^{7} + \\frac{889}{2880} n^{6} - \\frac{119}{720} n^{5} - \\frac{2023}{5760} n^{4} + \\frac{413}{1440} n^{3} + \\frac{43}{1440} n^{2} - \\frac{1}{120} n</script></html>"
      ],
      "text/plain": [
       "73/5760*n^8 - 163/1440*n^7 + 889/2880*n^6 - 119/720*n^5 - 2023/5760*n^4 + 413/1440*n^3 + 43/1440*n^2 - 1/120*n"
      ]
     },
     "metadata": {},
     "output_type": "display_data"
    },
    {
     "data": {
      "text/html": [
       "<html><script type=\"math/tex; mode=display\">\\newcommand{\\Bold}[1]{\\mathbf{#1}}\\frac{11}{1280} n^{10} - \\frac{457}{3840} n^{9} + \\frac{373}{640} n^{8} - \\frac{707}{640} n^{7} + \\frac{259}{1280} n^{6} + \\frac{1869}{1280} n^{5} - \\frac{137}{160} n^{4} - \\frac{227}{960} n^{3} + \\frac{1}{16} n^{2}</script></html>"
      ],
      "text/plain": [
       "11/1280*n^10 - 457/3840*n^9 + 373/640*n^8 - 707/640*n^7 + 259/1280*n^6 + 1869/1280*n^5 - 137/160*n^4 - 227/960*n^3 + 1/16*n^2"
      ]
     },
     "metadata": {},
     "output_type": "display_data"
    },
    {
     "data": {
      "text/html": [
       "<html><script type=\"math/tex; mode=display\">\\newcommand{\\Bold}[1]{\\mathbf{#1}}\\frac{6557}{8064} n^{11} - \\frac{11432119}{181440} n^{10} + \\frac{95207923}{36288} n^{9} - \\frac{874778935}{12096} n^{8} + \\frac{34002676591}{24192} n^{7} - \\frac{170787365197}{8640} n^{6} + \\frac{306443569547}{1512} n^{5} - \\frac{54554042422855}{36288} n^{4} + \\frac{71364515407103}{9072} n^{3} - \\frac{138890479891679}{5040} n^{2} + \\frac{7310806157813}{126} n - 55517962500</script></html>"
      ],
      "text/plain": [
       "6557/8064*n^11 - 11432119/181440*n^10 + 95207923/36288*n^9 - 874778935/12096*n^8 + 34002676591/24192*n^7 - 170787365197/8640*n^6 + 306443569547/1512*n^5 - 54554042422855/36288*n^4 + 71364515407103/9072*n^3 - 138890479891679/5040*n^2 + 7310806157813/126*n - 55517962500"
      ]
     },
     "metadata": {},
     "output_type": "display_data"
    }
   ],
   "source": [
    "for coeff in interpolated_coeffs:\n",
    "  display(coeff)"
   ]
  },
  {
   "cell_type": "code",
   "execution_count": 1189,
   "metadata": {},
   "outputs": [
    {
     "data": {
      "text/html": [
       "<html><script type=\"math/tex; mode=display\">\\newcommand{\\Bold}[1]{\\mathbf{#1}}\\left[120, 336\\right]</script></html>"
      ],
      "text/plain": [
       "[120, 336]"
      ]
     },
     "execution_count": 1189,
     "metadata": {},
     "output_type": "execute_result"
    }
   ],
   "source": [
    "[5760/48, 8064/24]"
   ]
  },
  {
   "cell_type": "code",
   "execution_count": 1153,
   "metadata": {},
   "outputs": [
    {
     "data": {
      "text/html": [
       "<html><script type=\"math/tex; mode=display\">\\newcommand{\\Bold}[1]{\\mathbf{#1}}\\left[0, 0, 231, 2324, 12635, 49455, 156345, 424347, 1026333, 2267265, 4654650, 8993985, 16514498, 29031002, 49148190, 80514210\\right]</script></html>"
      ],
      "text/plain": [
       "[0,\n",
       " 0,\n",
       " 231,\n",
       " 2324,\n",
       " 12635,\n",
       " 49455,\n",
       " 156345,\n",
       " 424347,\n",
       " 1026333,\n",
       " 2267265,\n",
       " 4654650,\n",
       " 8993985,\n",
       " 16514498,\n",
       " 29031002,\n",
       " 49148190,\n",
       " 80514210]"
      ]
     },
     "metadata": {},
     "output_type": "display_data"
    },
    {
     "data": {
      "text/html": [
       "<html><script type=\"math/tex; mode=display\">\\newcommand{\\Bold}[1]{\\mathbf{#1}}\\left[0, 0, 0, 9576, 121275, 812700, 3849930, 14501025, 46263987, 129999870, 330269940, 772837065, 1688737050, 3482086608, 6830902260, 12832689870\\right]</script></html>"
      ],
      "text/plain": [
       "[0,\n",
       " 0,\n",
       " 0,\n",
       " 9576,\n",
       " 121275,\n",
       " 812700,\n",
       " 3849930,\n",
       " 14501025,\n",
       " 46263987,\n",
       " 129999870,\n",
       " 330269940,\n",
       " 772837065,\n",
       " 1688737050,\n",
       " 3482086608,\n",
       " 6830902260,\n",
       " 12832689870]"
      ]
     },
     "metadata": {},
     "output_type": "display_data"
    }
   ],
   "source": [
    "c4 = [Integer(m) for m in list(adjusted_coeffs.column(3)) + list(more_adjusted_coeffs.column(3))]\n",
    "c5 = [Integer(m) for m in list(adjusted_coeffs.column(4)) + list(more_adjusted_coeffs.column(4))]\n",
    "display(c4)\n",
    "display(c5)"
   ]
  },
  {
   "cell_type": "code",
   "execution_count": 1154,
   "metadata": {},
   "outputs": [
    {
     "data": {
      "text/html": [
       "<html><script type=\"math/tex; mode=display\">\\newcommand{\\Bold}[1]{\\mathbf{#1}}2^{3} \\cdot 3^{2} \\cdot 7 \\cdot 19</script></html>"
      ],
      "text/plain": [
       "2^3 * 3^2 * 7 * 19"
      ]
     },
     "metadata": {},
     "output_type": "display_data"
    },
    {
     "data": {
      "text/html": [
       "<html><script type=\"math/tex; mode=display\">\\newcommand{\\Bold}[1]{\\mathbf{#1}}3^{2} \\cdot 5^{2} \\cdot 7^{2} \\cdot 11</script></html>"
      ],
      "text/plain": [
       "3^2 * 5^2 * 7^2 * 11"
      ]
     },
     "metadata": {},
     "output_type": "display_data"
    },
    {
     "data": {
      "text/html": [
       "<html><script type=\"math/tex; mode=display\">\\newcommand{\\Bold}[1]{\\mathbf{#1}}2^{2} \\cdot 3^{3} \\cdot 5^{2} \\cdot 7 \\cdot 43</script></html>"
      ],
      "text/plain": [
       "2^2 * 3^3 * 5^2 * 7 * 43"
      ]
     },
     "metadata": {},
     "output_type": "display_data"
    },
    {
     "data": {
      "text/html": [
       "<html><script type=\"math/tex; mode=display\">\\newcommand{\\Bold}[1]{\\mathbf{#1}}2 \\cdot 3^{4} \\cdot 5 \\cdot 7^{2} \\cdot 97</script></html>"
      ],
      "text/plain": [
       "2 * 3^4 * 5 * 7^2 * 97"
      ]
     },
     "metadata": {},
     "output_type": "display_data"
    },
    {
     "data": {
      "text/html": [
       "<html><script type=\"math/tex; mode=display\">\\newcommand{\\Bold}[1]{\\mathbf{#1}}3^{5} \\cdot 5^{2} \\cdot 7 \\cdot 11 \\cdot 31</script></html>"
      ],
      "text/plain": [
       "3^5 * 5^2 * 7 * 11 * 31"
      ]
     },
     "metadata": {},
     "output_type": "display_data"
    },
    {
     "data": {
      "text/html": [
       "<html><script type=\"math/tex; mode=display\">\\newcommand{\\Bold}[1]{\\mathbf{#1}}3^{3} \\cdot 7^{2} \\cdot 11^{2} \\cdot 17^{2}</script></html>"
      ],
      "text/plain": [
       "3^3 * 7^2 * 11^2 * 17^2"
      ]
     },
     "metadata": {},
     "output_type": "display_data"
    },
    {
     "data": {
      "text/html": [
       "<html><script type=\"math/tex; mode=display\">\\newcommand{\\Bold}[1]{\\mathbf{#1}}2 \\cdot 3^{3} \\cdot 5 \\cdot 7 \\cdot 11 \\cdot 13^{2} \\cdot 37</script></html>"
      ],
      "text/plain": [
       "2 * 3^3 * 5 * 7 * 11 * 13^2 * 37"
      ]
     },
     "metadata": {},
     "output_type": "display_data"
    },
    {
     "data": {
      "text/html": [
       "<html><script type=\"math/tex; mode=display\">\\newcommand{\\Bold}[1]{\\mathbf{#1}}2^{2} \\cdot 3^{3} \\cdot 5 \\cdot 7 \\cdot 11 \\cdot 13^{2} \\cdot 47</script></html>"
      ],
      "text/plain": [
       "2^2 * 3^3 * 5 * 7 * 11 * 13^2 * 47"
      ]
     },
     "metadata": {},
     "output_type": "display_data"
    },
    {
     "data": {
      "text/html": [
       "<html><script type=\"math/tex; mode=display\">\\newcommand{\\Bold}[1]{\\mathbf{#1}}3^{3} \\cdot 5 \\cdot 7^{2} \\cdot 11 \\cdot 13 \\cdot 19 \\cdot 43</script></html>"
      ],
      "text/plain": [
       "3^3 * 5 * 7^2 * 11 * 13 * 19 * 43"
      ]
     },
     "metadata": {},
     "output_type": "display_data"
    },
    {
     "data": {
      "text/html": [
       "<html><script type=\"math/tex; mode=display\">\\newcommand{\\Bold}[1]{\\mathbf{#1}}2 \\cdot 3^{2} \\cdot 5^{2} \\cdot 7 \\cdot 11 \\cdot 13 \\cdot 23 \\cdot 163</script></html>"
      ],
      "text/plain": [
       "2 * 3^2 * 5^2 * 7 * 11 * 13 * 23 * 163"
      ]
     },
     "metadata": {},
     "output_type": "display_data"
    },
    {
     "data": {
      "text/html": [
       "<html><script type=\"math/tex; mode=display\">\\newcommand{\\Bold}[1]{\\mathbf{#1}}2^{4} \\cdot 3^{2} \\cdot 7^{3} \\cdot 11 \\cdot 13 \\cdot 17 \\cdot 29</script></html>"
      ],
      "text/plain": [
       "2^4 * 3^2 * 7^3 * 11 * 13 * 17 * 29"
      ]
     },
     "metadata": {},
     "output_type": "display_data"
    },
    {
     "data": {
      "text/html": [
       "<html><script type=\"math/tex; mode=display\">\\newcommand{\\Bold}[1]{\\mathbf{#1}}2^{2} \\cdot 3^{3} \\cdot 5 \\cdot 7 \\cdot 13^{2} \\cdot 17^{2} \\cdot 37</script></html>"
      ],
      "text/plain": [
       "2^2 * 3^3 * 5 * 7 * 13^2 * 17^2 * 37"
      ]
     },
     "metadata": {},
     "output_type": "display_data"
    },
    {
     "data": {
      "text/html": [
       "<html><script type=\"math/tex; mode=display\">\\newcommand{\\Bold}[1]{\\mathbf{#1}}2 \\cdot 3^{4} \\cdot 5 \\cdot 7^{3} \\cdot 11 \\cdot 13 \\cdot 17 \\cdot 19</script></html>"
      ],
      "text/plain": [
       "2 * 3^4 * 5 * 7^3 * 11 * 13 * 17 * 19"
      ]
     },
     "metadata": {},
     "output_type": "display_data"
    }
   ],
   "source": [
    "for m in c5[3:]:\n",
    "  display(factor(m))"
   ]
  },
  {
   "cell_type": "code",
   "execution_count": 1155,
   "metadata": {},
   "outputs": [
    {
     "data": {
      "text/html": [
       "<html><script type=\"math/tex; mode=display\">\\newcommand{\\Bold}[1]{\\mathbf{#1}}\\left[1008, 11025, 65016, 274995, 935550, 2721411, 7027020, 16513497, 35945910, 73423350, 142125984, 262727010, 466643268\\right]</script></html>"
      ],
      "text/plain": [
       "[1008,\n",
       " 11025,\n",
       " 65016,\n",
       " 274995,\n",
       " 935550,\n",
       " 2721411,\n",
       " 7027020,\n",
       " 16513497,\n",
       " 35945910,\n",
       " 73423350,\n",
       " 142125984,\n",
       " 262727010,\n",
       " 466643268]"
      ]
     },
     "metadata": {},
     "output_type": "display_data"
    },
    {
     "data": {
      "text/html": [
       "<html><script type=\"math/tex; mode=display\">\\newcommand{\\Bold}[1]{\\mathbf{#1}}\\left[2^{4} \\cdot 3^{2} \\cdot 7, 3^{2} \\cdot 5^{2} \\cdot 7^{2}, 2^{3} \\cdot 3^{3} \\cdot 7 \\cdot 43, 3^{4} \\cdot 5 \\cdot 7 \\cdot 97, 2 \\cdot 3^{5} \\cdot 5^{2} \\cdot 7 \\cdot 11, 3^{3} \\cdot 7^{2} \\cdot 11^{2} \\cdot 17, 2^{2} \\cdot 3^{3} \\cdot 5 \\cdot 7 \\cdot 11 \\cdot 13^{2}, 3^{3} \\cdot 7 \\cdot 11 \\cdot 13^{2} \\cdot 47, 2 \\cdot 3^{3} \\cdot 5 \\cdot 7^{2} \\cdot 11 \\cdot 13 \\cdot 19, 2 \\cdot 3^{2} \\cdot 5^{2} \\cdot 7 \\cdot 11 \\cdot 13 \\cdot 163, 2^{5} \\cdot 3^{2} \\cdot 7 \\cdot 11 \\cdot 13 \\cdot 17 \\cdot 29, 2 \\cdot 3^{3} \\cdot 5 \\cdot 7 \\cdot 13 \\cdot 17^{2} \\cdot 37, 2^{2} \\cdot 3^{4} \\cdot 7^{3} \\cdot 13 \\cdot 17 \\cdot 19\\right]</script></html>"
      ],
      "text/plain": [
       "[2^4 * 3^2 * 7,\n",
       " 3^2 * 5^2 * 7^2,\n",
       " 2^3 * 3^3 * 7 * 43,\n",
       " 3^4 * 5 * 7 * 97,\n",
       " 2 * 3^5 * 5^2 * 7 * 11,\n",
       " 3^3 * 7^2 * 11^2 * 17,\n",
       " 2^2 * 3^3 * 5 * 7 * 11 * 13^2,\n",
       " 3^3 * 7 * 11 * 13^2 * 47,\n",
       " 2 * 3^3 * 5 * 7^2 * 11 * 13 * 19,\n",
       " 2 * 3^2 * 5^2 * 7 * 11 * 13 * 163,\n",
       " 2^5 * 3^2 * 7 * 11 * 13 * 17 * 29,\n",
       " 2 * 3^3 * 5 * 7 * 13 * 17^2 * 37,\n",
       " 2^2 * 3^4 * 7^3 * 13 * 17 * 19]"
      ]
     },
     "metadata": {},
     "output_type": "display_data"
    }
   ],
   "source": [
    "display([2*c / (3*n + 1) for (n, c) in list(enumerate(c5, 3))[3:]])\n",
    "display([factor(m) for m in [2*c / (3*n + 1) for (n, c) in list(enumerate(c5, 3))[3:]]])"
   ]
  },
  {
   "cell_type": "code",
   "execution_count": 1156,
   "metadata": {},
   "outputs": [
    {
     "data": {
      "text/html": [
       "<html><script type=\"math/tex; mode=display\">\\newcommand{\\Bold}[1]{\\mathbf{#1}}\\left[1, 6, 21, 56, 126, 252, 462, 792, 1287, 2002, 3003, 4368, 6188\\right]</script></html>"
      ],
      "text/plain": [
       "[1, 6, 21, 56, 126, 252, 462, 792, 1287, 2002, 3003, 4368, 6188]"
      ]
     },
     "metadata": {},
     "output_type": "display_data"
    },
    {
     "data": {
      "text/html": [
       "<html><script type=\"math/tex; mode=display\">\\newcommand{\\Bold}[1]{\\mathbf{#1}}\\left[1, 2 \\cdot 3, 3 \\cdot 7, 2^{3} \\cdot 7, 2 \\cdot 3^{2} \\cdot 7, 2^{2} \\cdot 3^{2} \\cdot 7, 2 \\cdot 3 \\cdot 7 \\cdot 11, 2^{3} \\cdot 3^{2} \\cdot 11, 3^{2} \\cdot 11 \\cdot 13, 2 \\cdot 7 \\cdot 11 \\cdot 13, 3 \\cdot 7 \\cdot 11 \\cdot 13, 2^{4} \\cdot 3 \\cdot 7 \\cdot 13, 2^{2} \\cdot 7 \\cdot 13 \\cdot 17\\right]</script></html>"
      ],
      "text/plain": [
       "[1,\n",
       " 2 * 3,\n",
       " 3 * 7,\n",
       " 2^3 * 7,\n",
       " 2 * 3^2 * 7,\n",
       " 2^2 * 3^2 * 7,\n",
       " 2 * 3 * 7 * 11,\n",
       " 2^3 * 3^2 * 11,\n",
       " 3^2 * 11 * 13,\n",
       " 2 * 7 * 11 * 13,\n",
       " 3 * 7 * 11 * 13,\n",
       " 2^4 * 3 * 7 * 13,\n",
       " 2^2 * 7 * 13 * 17]"
      ]
     },
     "metadata": {},
     "output_type": "display_data"
    }
   ],
   "source": [
    "display([32*c / (n^2*(n+1)*(3*n + 1)*(11*n - 2)) for (n, c) in list(enumerate(c5, 3))[3:]])\n",
    "display([factor(m) for m in [32*c / (n^2*(n+1)*(3*n + 1)*(11*n - 2)) for (n, c) in list(enumerate(c5, 3))[3:]]])"
   ]
  },
  {
   "cell_type": "code",
   "execution_count": 1157,
   "metadata": {},
   "outputs": [
    {
     "data": {
      "text/html": [
       "<html><script type=\"math/tex; mode=display\">\\newcommand{\\Bold}[1]{\\mathbf{#1}}\\left[1, 1, 1, 1, 1, 1, 1, 1, 1, 1, 1, 1, 1\\right]</script></html>"
      ],
      "text/plain": [
       "[1, 1, 1, 1, 1, 1, 1, 1, 1, 1, 1, 1, 1]"
      ]
     },
     "metadata": {},
     "output_type": "display_data"
    }
   ],
   "source": [
    "display([5*32*c / (n^2*(n+1)*(n-1)*(3*n + 1)*(11*n - 2)*binomial(n-2,4)) for (n, c) in list(enumerate(c5, 3))[3:]])"
   ]
  },
  {
   "cell_type": "code",
   "execution_count": 1158,
   "metadata": {},
   "outputs": [
    {
     "data": {
      "text/html": [
       "<html><script type=\"math/tex; mode=display\">\\newcommand{\\Bold}[1]{\\mathbf{#1}}\\left[9576, 121275, 812700, 3849930, 14501025, 46263987, 129999870, 330269940, 772837065, 1688737050, 3482086608, 6830902260, 12832689870\\right]</script></html>"
      ],
      "text/plain": [
       "[9576,\n",
       " 121275,\n",
       " 812700,\n",
       " 3849930,\n",
       " 14501025,\n",
       " 46263987,\n",
       " 129999870,\n",
       " 330269940,\n",
       " 772837065,\n",
       " 1688737050,\n",
       " 3482086608,\n",
       " 6830902260,\n",
       " 12832689870]"
      ]
     },
     "execution_count": 1158,
     "metadata": {},
     "output_type": "execute_result"
    }
   ],
   "source": [
    "[21/16*n*(3*n+1)*(11*n-2)*binomial(n+1, 7) for n in range(6, more_range.stop)]"
   ]
  },
  {
   "cell_type": "code",
   "execution_count": 1159,
   "metadata": {},
   "outputs": [
    {
     "data": {
      "text/html": [
       "<html><script type=\"math/tex; mode=display\">\\newcommand{\\Bold}[1]{\\mathbf{#1}}\\left[1848, 10624, 37905, 105504, 250152, 529056, 1026333, 1860320, 3191760, 5232864, 8257249, 12610752, 18723120, 27120576\\right]</script></html>"
      ],
      "text/plain": [
       "[1848,\n",
       " 10624,\n",
       " 37905,\n",
       " 105504,\n",
       " 250152,\n",
       " 529056,\n",
       " 1026333,\n",
       " 1860320,\n",
       " 3191760,\n",
       " 5232864,\n",
       " 8257249,\n",
       " 12610752,\n",
       " 18723120,\n",
       " 27120576]"
      ]
     },
     "metadata": {},
     "output_type": "display_data"
    }
   ],
   "source": [
    "display([3*32*c / ((n+1)*(n-3)) for (n, c) in list(enumerate(c4, 3))[2:]])"
   ]
  },
  {
   "cell_type": "code",
   "execution_count": 858,
   "metadata": {},
   "outputs": [
    {
     "data": {
      "text/html": [
       "<html><script type=\"math/tex; mode=display\">\\newcommand{\\Bold}[1]{\\mathbf{#1}}\\frac{11339}{2205}</script></html>"
      ],
      "text/plain": [
       "11339/2205"
      ]
     },
     "execution_count": 858,
     "metadata": {},
     "output_type": "execute_result"
    }
   ],
   "source": [
    "last_adjusted_coeff(7) / 121275"
   ]
  },
  {
   "cell_type": "code",
   "execution_count": 873,
   "metadata": {},
   "outputs": [
    {
     "data": {
      "text/html": [
       "<html><script type=\"math/tex; mode=display\">\\newcommand{\\Bold}[1]{\\mathbf{#1}}\\left[17 \\cdot 23 \\cdot 29, 3^{2} \\cdot 5 \\cdot 7^{2}, 623645, 29\\right]</script></html>"
      ],
      "text/plain": [
       "[17 * 23 * 29, 3^2 * 5 * 7^2, 623645, 29]"
      ]
     },
     "execution_count": 873,
     "metadata": {},
     "output_type": "execute_result"
    }
   ],
   "source": [
    "[factor(11339), factor(2205), 121275 * (5*11*17*23*29) / (3^2 * 5^2 * 7^2 * 11), (4*6+5)]"
   ]
  },
  {
   "cell_type": "code",
   "execution_count": 871,
   "metadata": {},
   "outputs": [
    {
     "data": {
      "text/html": [
       "<html><script type=\"math/tex; mode=display\">\\newcommand{\\Bold}[1]{\\mathbf{#1}}\\frac{2788}{453}</script></html>"
      ],
      "text/plain": [
       "2788/453"
      ]
     },
     "execution_count": 871,
     "metadata": {},
     "output_type": "execute_result"
    }
   ],
   "source": [
    "last_adjusted_coeff(8) / 9540180"
   ]
  },
  {
   "cell_type": "code",
   "execution_count": 872,
   "metadata": {},
   "outputs": [
    {
     "data": {
      "text/html": [
       "<html><script type=\"math/tex; mode=display\">\\newcommand{\\Bold}[1]{\\mathbf{#1}}\\left[2^{2} \\cdot 17 \\cdot 41, 3 \\cdot 151\\right]</script></html>"
      ],
      "text/plain": [
       "[2^2 * 17 * 41, 3 * 151]"
      ]
     },
     "execution_count": 872,
     "metadata": {},
     "output_type": "execute_result"
    }
   ],
   "source": [
    "[factor(2788), factor(453), (6*13*20*27*34*41) / ()]"
   ]
  },
  {
   "cell_type": "code",
   "execution_count": 821,
   "metadata": {},
   "outputs": [
    {
     "data": {
      "text/html": [
       "<html><script type=\"math/tex; mode=display\">\\newcommand{\\Bold}[1]{\\mathbf{#1}}2^{2} \\cdot 7 \\cdot 83</script></html>"
      ],
      "text/plain": [
       "2^2 * 7 * 83"
      ]
     },
     "execution_count": 821,
     "metadata": {},
     "output_type": "execute_result"
    }
   ],
   "source": [
    "factor(581/324 * 6^4)"
   ]
  },
  {
   "cell_type": "code",
   "execution_count": 862,
   "metadata": {},
   "outputs": [
    {
     "data": {
      "text/html": [
       "<html><script type=\"math/tex; mode=display\">\\newcommand{\\Bold}[1]{\\mathbf{#1}}\\frac{342}{83}</script></html>"
      ],
      "text/plain": [
       "342/83"
      ]
     },
     "execution_count": 862,
     "metadata": {},
     "output_type": "execute_result"
    }
   ],
   "source": [
    "last_adjusted_coeff(6) / 2324"
   ]
  },
  {
   "cell_type": "code",
   "execution_count": 870,
   "metadata": {},
   "outputs": [
    {
     "data": {
      "text/html": [
       "<html><script type=\"math/tex; mode=display\">\\newcommand{\\Bold}[1]{\\mathbf{#1}}\\left[2 \\cdot 3^{2} \\cdot 19, 9576\\right]</script></html>"
      ],
      "text/plain": [
       "[2 * 3^2 * 19, 9576]"
      ]
     },
     "execution_count": 870,
     "metadata": {},
     "output_type": "execute_result"
    }
   ],
   "source": [
    "[factor(342), 2324 * (4*9*14*19) / (2^2 * 7 * 83)]"
   ]
  },
  {
   "cell_type": "code",
   "execution_count": 825,
   "metadata": {},
   "outputs": [
    {
     "data": {
      "text/html": [
       "<html><script type=\"math/tex; mode=display\">\\newcommand{\\Bold}[1]{\\mathbf{#1}}5 \\cdot 7 \\cdot 19^{2}</script></html>"
      ],
      "text/plain": [
       "5 * 7 * 19^2"
      ]
     },
     "execution_count": 825,
     "metadata": {},
     "output_type": "execute_result"
    }
   ],
   "source": [
    "factor(1805/343 * 7^4)"
   ]
  },
  {
   "cell_type": "code",
   "execution_count": 823,
   "metadata": {},
   "outputs": [
    {
     "data": {
      "text/html": [
       "<html><script type=\"math/tex; mode=display\">\\newcommand{\\Bold}[1]{\\mathbf{#1}}3^{2} \\cdot 5 \\cdot 7 \\cdot 157</script></html>"
      ],
      "text/plain": [
       "3^2 * 5 * 7 * 157"
      ]
     },
     "execution_count": 823,
     "metadata": {},
     "output_type": "execute_result"
    }
   ],
   "source": [
    "factor(49455/4096 * 8^4)"
   ]
  },
  {
   "cell_type": "code",
   "execution_count": 828,
   "metadata": {},
   "outputs": [
    {
     "data": {
      "text/html": [
       "<html><script type=\"math/tex; mode=display\">\\newcommand{\\Bold}[1]{\\mathbf{#1}}3 \\cdot 5 \\cdot 7 \\cdot 1489</script></html>"
      ],
      "text/plain": [
       "3 * 5 * 7 * 1489"
      ]
     },
     "execution_count": 828,
     "metadata": {},
     "output_type": "execute_result"
    }
   ],
   "source": [
    "factor(52115/2187 * 9^4)"
   ]
  },
  {
   "cell_type": "code",
   "execution_count": 830,
   "metadata": {},
   "outputs": [
    {
     "data": {
      "text/html": [
       "<html><script type=\"math/tex; mode=display\">\\newcommand{\\Bold}[1]{\\mathbf{#1}}3^{3} \\cdot 7^{2} \\cdot 11 \\cdot 17</script></html>"
      ],
      "text/plain": [
       "3^3 * 7^2 * 11 * 17"
      ]
     },
     "execution_count": 830,
     "metadata": {},
     "output_type": "execute_result"
    }
   ],
   "source": [
    "factor(247401/10000 * 10^4)"
   ]
  },
  {
   "cell_type": "code",
   "execution_count": 832,
   "metadata": {},
   "outputs": [
    {
     "data": {
      "text/html": [
       "<html><script type=\"math/tex; mode=display\">\\newcommand{\\Bold}[1]{\\mathbf{#1}}3^{2} \\cdot 7 \\cdot 11 \\cdot 1481</script></html>"
      ],
      "text/plain": [
       "3^2 * 7 * 11 * 1481"
      ]
     },
     "execution_count": 832,
     "metadata": {},
     "output_type": "execute_result"
    }
   ],
   "source": [
    "factor(93303/1331 * 11^4)"
   ]
  },
  {
   "cell_type": "code",
   "execution_count": 452,
   "metadata": {},
   "outputs": [
    {
     "data": {
      "text/html": [
       "<html><script type=\"math/tex; mode=display\">\\newcommand{\\Bold}[1]{\\mathbf{#1}}-z^{12} K\\left(z\\right) + z^{12} \\frac{\\partial^{12}}{(\\partial z)^{12}}K\\left(z\\right) + 6 \\, z^{11} \\frac{\\partial^{11}}{(\\partial z)^{11}}K\\left(z\\right) - \\frac{77}{13} \\, z^{10} \\frac{\\partial^{10}}{(\\partial z)^{10}}K\\left(z\\right) + \\frac{385}{13} \\, z^{9} \\frac{\\partial^{9}}{(\\partial z)^{9}}K\\left(z\\right) - \\frac{358050}{2197} \\, z^{8} \\frac{\\partial^{8}}{(\\partial z)^{8}}K\\left(z\\right) + \\frac{1954260}{2197} \\, z^{7} \\frac{\\partial^{7}}{(\\partial z)^{7}}K\\left(z\\right) - \\frac{1690063760}{371293} \\, z^{6} \\frac{\\partial^{6}}{(\\partial z)^{6}}K\\left(z\\right) + \\frac{7774037040}{371293} \\, z^{5} \\frac{\\partial^{5}}{(\\partial z)^{5}}K\\left(z\\right) - \\frac{5214451170775}{62748517} \\, z^{4} \\frac{\\partial^{4}}{(\\partial z)^{4}}K\\left(z\\right) + \\frac{17002885303250}{62748517} \\, z^{3} \\frac{\\partial^{3}}{(\\partial z)^{3}}K\\left(z\\right) - \\frac{7176361018840475}{10604499373} \\, z^{2} \\frac{\\partial^{2}}{(\\partial z)^{2}}K\\left(z\\right) + \\frac{12153371324215275}{10604499373} \\, z \\frac{\\partial}{\\partial z}K\\left(z\\right) - \\frac{22929813173612997575}{23298085122481} \\, K\\left(z\\right)</script></html>"
      ],
      "text/plain": [
       "-z^{12} K\\left(z\\right) + z^{12} \\frac{\\partial^{12}}{(\\partial z)^{12}}K\\left(z\\right) + 6 \\, z^{11} \\frac{\\partial^{11}}{(\\partial z)^{11}}K\\left(z\\right) - \\frac{77}{13} \\, z^{10} \\frac{\\partial^{10}}{(\\partial z)^{10}}K\\left(z\\right) + \\frac{385}{13} \\, z^{9} \\frac{\\partial^{9}}{(\\partial z)^{9}}K\\left(z\\right) - \\frac{358050}{2197} \\, z^{8} \\frac{\\partial^{8}}{(\\partial z)^{8}}K\\left(z\\right) + \\frac{1954260}{2197} \\, z^{7} \\frac{\\partial^{7}}{(\\partial z)^{7}}K\\left(z\\right) - \\frac{1690063760}{371293} \\, z^{6} \\frac{\\partial^{6}}{(\\partial z)^{6}}K\\left(z\\right) + \\frac{7774037040}{371293} \\, z^{5} \\frac{\\partial^{5}}{(\\partial z)^{5}}K\\left(z\\right) - \\frac{5214451170775}{62748517} \\, z^{4} \\frac{\\partial^{4}}{(\\partial z)^{4}}K\\left(z\\right) + \\frac{17002885303250}{62748517} \\, z^{3} \\frac{\\partial^{3}}{(\\partial z)^{3}}K\\left(z\\right) - \\frac{7176361018840475}{10604499373} \\, z^{2} \\frac{\\partial^{2}}{(\\partial z)^{2}}K\\left(z\\right) + \\frac{12153371324215275}{10604499373} \\, z \\frac{\\partial}{\\partial z}K\\left(z\\right) - \\frac{22929813173612997575}{23298085122481} \\, K\\left(z\\right)"
      ]
     },
     "metadata": {},
     "output_type": "display_data"
    }
   ],
   "source": [
    "for n in [13]:\n",
    "  display(latex((((n-1)/n)^(n-1) * higher_airy_eqn(n)).subs({a: 1/(n-1)})))"
   ]
  },
  {
   "cell_type": "code",
   "execution_count": 342,
   "metadata": {},
   "outputs": [
    {
     "name": "stdout",
     "output_type": "stream",
     "text": [
      "[1, 10, 231, 9576, 623645, 58715280, 7547514975]\n",
      "[9, 64, 625, 7776, 117649, 2097152, 43046721]\n"
     ]
    },
    {
     "data": {
      "text/html": [
       "<html><script type=\"math/tex; mode=display\">\\newcommand{\\Bold}[1]{\\mathbf{#1}}\\left[\\frac{1}{9}, \\frac{5}{32}, \\frac{231}{625}, \\frac{133}{108}, \\frac{623645}{117649}, \\frac{3669705}{131072}, \\frac{838612775}{4782969}\\right]</script></html>"
      ],
      "text/plain": [
       "\\left[\\frac{1}{9}, \\frac{5}{32}, \\frac{231}{625}, \\frac{133}{108}, \\frac{623645}{117649}, \\frac{3669705}{131072}, \\frac{838612775}{4782969}\\right]"
      ]
     },
     "metadata": {},
     "output_type": "display_data"
    }
   ],
   "source": [
    "final_nums = [1, 10, 231, 9576, 623645, 58715280, 7547514975]\n",
    "final_denoms = [n^(n-1) for n in range(3,10)]\n",
    "print(final_nums)\n",
    "print(final_denoms)\n",
    "display(latex([a/b for (a, b) in zip(final_nums, final_denoms)]))"
   ]
  },
  {
   "cell_type": "code",
   "execution_count": 343,
   "metadata": {},
   "outputs": [
    {
     "data": {
      "text/html": [
       "<html><script type=\"math/tex; mode=display\">\\newcommand{\\Bold}[1]{\\mathbf{#1}}\\left[1, 2 \\cdot 5, 3 \\cdot 7 \\cdot 11, 2^{3} \\cdot 3^{2} \\cdot 7 \\cdot 19, 5 \\cdot 11 \\cdot 17 \\cdot 23 \\cdot 29, 2^{4} \\cdot 3^{4} \\cdot 5 \\cdot 13 \\cdot 17 \\cdot 41, 3^{2} \\cdot 5^{2} \\cdot 7 \\cdot 11 \\cdot 13 \\cdot 23 \\cdot 31 \\cdot 47\\right]</script></html>"
      ],
      "text/plain": [
       "[1,\n",
       " 2 * 5,\n",
       " 3 * 7 * 11,\n",
       " 2^3 * 3^2 * 7 * 19,\n",
       " 5 * 11 * 17 * 23 * 29,\n",
       " 2^4 * 3^4 * 5 * 13 * 17 * 41,\n",
       " 3^2 * 5^2 * 7 * 11 * 13 * 23 * 31 * 47]"
      ]
     },
     "execution_count": 343,
     "metadata": {},
     "output_type": "execute_result"
    }
   ],
   "source": [
    "[factor(num) for num in final_nums]"
   ]
  },
  {
   "cell_type": "code",
   "execution_count": 344,
   "metadata": {},
   "outputs": [
    {
     "data": {
      "text/html": [
       "<html><script type=\"math/tex; mode=display\">\\newcommand{\\Bold}[1]{\\mathbf{#1}}\\left[1, 10, 231, 9576\\right]</script></html>"
      ],
      "text/plain": [
       "[1, 10, 231, 9576]"
      ]
     },
     "execution_count": 344,
     "metadata": {},
     "output_type": "execute_result"
    }
   ],
   "source": [
    "[1, 2*(2+3), 3*(3+4)*(3+2*4), 4*(4+5)*(4+2*5)*(4+3*5)]"
   ]
  },
  {
   "cell_type": "code",
   "execution_count": 352,
   "metadata": {},
   "outputs": [
    {
     "data": {
      "text/latex": [
       "General final numerator:\n",
       "\\begin{align*}\n",
       "\\operatorname{num}_n^{(n-1)} & = \\prod_{k = 0}^{n-3} [(n-2) + k(n-1)] \\\\\n",
       "& = \\prod_{k = 0}^{n-3} [(k+1)n - (k+2)] \\\\\n",
       "& = (n-2)(2n-3)(3n-4) \\cdots [(n-2)n - (n-1)]\n",
       "\\end{align*}\n"
      ],
      "text/plain": [
       "<IPython.core.display.Latex object>"
      ]
     },
     "metadata": {},
     "output_type": "display_data"
    }
   ],
   "source": [
    "%%latex\n",
    "General final numerator:\n",
    "\\begin{align*}\n",
    "\\operatorname{num}_n^{(n-1)} & = \\prod_{k = 0}^{n-3} [(n-2) + k(n-1)] \\\\\n",
    "& = \\prod_{k = 0}^{n-3} [(k+1)n - (k+2)] \\\\\n",
    "& = (n-2)(2n-3)(3n-4) \\cdots [(n-2)n - (n-1)]\n",
    "\\end{align*}"
   ]
  },
  {
   "cell_type": "code",
   "execution_count": 453,
   "metadata": {},
   "outputs": [
    {
     "data": {
      "text/html": [
       "<html><script type=\"math/tex; mode=display\">\\newcommand{\\Bold}[1]{\\mathbf{#1}}\\left[\\frac{1}{9}, \\frac{5}{16}, \\frac{3}{5}, \\frac{35}{36}, \\frac{10}{7}, \\frac{63}{32}, \\frac{70}{27}, \\frac{33}{10}, \\frac{45}{11}, \\frac{715}{144}, \\frac{77}{13}, \\frac{195}{28}\\right]</script></html>"
      ],
      "text/plain": [
       "[1/9,\n",
       " 5/16,\n",
       " 3/5,\n",
       " 35/36,\n",
       " 10/7,\n",
       " 63/32,\n",
       " 70/27,\n",
       " 33/10,\n",
       " 45/11,\n",
       " 715/144,\n",
       " 77/13,\n",
       " 195/28]"
      ]
     },
     "execution_count": 453,
     "metadata": {},
     "output_type": "execute_result"
    }
   ],
   "source": [
    "[1/3^2, 5/4^2, 15/5^2, 35/6^2, 70/7^2, 126/8^2, 210/9^2, 330/10^2, 495/11^2, 715/12^2, 77/13, 195/28]"
   ]
  },
  {
   "cell_type": "markdown",
   "metadata": {},
   "source": [
    "The even ones' coefficients are the square pyramidal numbers (A000330), and the odd ones' are the binomial coefficients 4 choose 4, 6 choose 4, 8 choose 4, 10 choose 4... (A053134)!"
   ]
  },
  {
   "cell_type": "code",
   "execution_count": 464,
   "metadata": {},
   "outputs": [
    {
     "data": {
      "text/html": [
       "<html><script type=\"math/tex; mode=display\">\\newcommand{\\Bold}[1]{\\mathbf{#1}}\\left[\\frac{1}{9}, \\frac{5}{16}, \\frac{3}{5}, \\frac{35}{36}, \\frac{10}{7}, \\frac{63}{32}, \\frac{70}{27}, \\frac{33}{10}, \\frac{45}{11}, \\frac{715}{144}, \\frac{77}{13}, \\frac{195}{28}\\right]</script></html>"
      ],
      "text/plain": [
       "[1/9,\n",
       " 5/16,\n",
       " 3/5,\n",
       " 35/36,\n",
       " 10/7,\n",
       " 63/32,\n",
       " 70/27,\n",
       " 33/10,\n",
       " 45/11,\n",
       " 715/144,\n",
       " 77/13,\n",
       " 195/28]"
      ]
     },
     "execution_count": 464,
     "metadata": {},
     "output_type": "execute_result"
    }
   ],
   "source": [
    "[1/3^2, 1/4 + 1/4^2, 15/5^2, 5*(1/6 + 1/6^2), 70/7^2, 14*(1/8 + 1/8^2), 210/9^2, 30*(1/10 + 1/10^2), 495/11^2, 55*(1/12 + 1/12^2), 77/13, 91*(1/14 + 1/14^2)]"
   ]
  },
  {
   "cell_type": "code",
   "execution_count": 473,
   "metadata": {
    "scrolled": true
   },
   "outputs": [
    {
     "data": {
      "text/html": [
       "<html><script type=\"math/tex; mode=display\">\\newcommand{\\Bold}[1]{\\mathbf{#1}}\\left[\\frac{1}{9}, \\frac{5}{16}, \\frac{3}{5}, \\frac{35}{36}, \\frac{10}{7}, \\frac{63}{32}, \\frac{70}{27}, \\frac{33}{10}, \\frac{45}{11}, \\frac{715}{144}, \\frac{77}{13}, \\frac{195}{28}\\right]</script></html>"
      ],
      "text/plain": [
       "[1/9,\n",
       " 5/16,\n",
       " 3/5,\n",
       " 35/36,\n",
       " 10/7,\n",
       " 63/32,\n",
       " 70/27,\n",
       " 33/10,\n",
       " 45/11,\n",
       " 715/144,\n",
       " 77/13,\n",
       " 195/28]"
      ]
     },
     "execution_count": 473,
     "metadata": {},
     "output_type": "execute_result"
    }
   ],
   "source": [
    "[binomial(n,4)/(n-1)^2 for n in range(4, 16)]"
   ]
  },
  {
   "cell_type": "code",
   "execution_count": 391,
   "metadata": {},
   "outputs": [
    {
     "data": {
      "text/html": [
       "<html><script type=\"math/tex; mode=display\">\\newcommand{\\Bold}[1]{\\mathbf{#1}}\\left[\\frac{5}{16}, \\frac{3}{5}, \\frac{581}{324}, \\frac{2475}{343}\\right]</script></html>"
      ],
      "text/plain": [
       "[5/16, 3/5, 581/324, 2475/343]"
      ]
     },
     "execution_count": 391,
     "metadata": {},
     "output_type": "execute_result"
    }
   ],
   "source": [
    "second_final = [5/16, 3/5, 581/324, 2475/343]\n",
    "second_final"
   ]
  },
  {
   "cell_type": "code",
   "execution_count": 404,
   "metadata": {},
   "outputs": [
    {
     "data": {
      "text/html": [
       "<html><script type=\"math/tex; mode=display\">\\newcommand{\\Bold}[1]{\\mathbf{#1}}\\frac{581}{324}</script></html>"
      ],
      "text/plain": [
       "581/324"
      ]
     },
     "execution_count": 404,
     "metadata": {},
     "output_type": "execute_result"
    }
   ],
   "source": [
    "2324/6^4"
   ]
  },
  {
   "cell_type": "code",
   "execution_count": 405,
   "metadata": {},
   "outputs": [
    {
     "data": {
      "text/html": [
       "<html><script type=\"math/tex; mode=display\">\\newcommand{\\Bold}[1]{\\mathbf{#1}}1296</script></html>"
      ],
      "text/plain": [
       "1296"
      ]
     },
     "execution_count": 405,
     "metadata": {},
     "output_type": "execute_result"
    }
   ],
   "source": [
    "6^4"
   ]
  },
  {
   "cell_type": "code",
   "execution_count": 408,
   "metadata": {},
   "outputs": [
    {
     "data": {
      "text/html": [
       "<html><script type=\"math/tex; mode=display\">\\newcommand{\\Bold}[1]{\\mathbf{#1}}\\left[16, 125, 1296, 16807\\right]</script></html>"
      ],
      "text/plain": [
       "[16, 125, 1296, 16807]"
      ]
     },
     "execution_count": 408,
     "metadata": {},
     "output_type": "execute_result"
    }
   ],
   "source": [
    "[4^2, 5^3, 6^4, 7^5]"
   ]
  },
  {
   "cell_type": "code",
   "execution_count": 415,
   "metadata": {},
   "outputs": [
    {
     "data": {
      "text/html": [
       "<html><script type=\"math/tex; mode=display\">\\newcommand{\\Bold}[1]{\\mathbf{#1}}\\left[\\frac{5}{16}, \\frac{3}{5}, \\frac{581}{324}, \\frac{2475}{343}\\right]</script></html>"
      ],
      "text/plain": [
       "[5/16, 3/5, 581/324, 2475/343]"
      ]
     },
     "execution_count": 415,
     "metadata": {},
     "output_type": "execute_result"
    }
   ],
   "source": [
    "[5/4^2, 75/5^3, 2324/6^4, 121275/7^5]"
   ]
  },
  {
   "cell_type": "code",
   "execution_count": 440,
   "metadata": {},
   "outputs": [
    {
     "data": {
      "text/html": [
       "<html><script type=\"math/tex; mode=display\">\\newcommand{\\Bold}[1]{\\mathbf{#1}}\\left[\\frac{5}{16}, \\frac{3}{5}, \\frac{635}{648}\\right]</script></html>"
      ],
      "text/plain": [
       "[5/16, 3/5, 635/648]"
      ]
     },
     "execution_count": 440,
     "metadata": {},
     "output_type": "execute_result"
    }
   ],
   "source": [
    "[1/4 + 1/4^2, 2/5 + 4/5^2 + 5/5^3, 4/6 + 10/6^2 + 6/6^3 + 10/6^4]"
   ]
  },
  {
   "cell_type": "code",
   "execution_count": null,
   "metadata": {},
   "outputs": [],
   "source": []
  }
 ],
 "metadata": {
  "kernelspec": {
   "display_name": "SageMath 9.0",
   "language": "sage",
   "name": "sagemath"
  },
  "language_info": {
   "codemirror_mode": {
    "name": "ipython",
    "version": 3
   },
   "file_extension": ".py",
   "mimetype": "text/x-python",
   "name": "python",
   "nbconvert_exporter": "python",
   "pygments_lexer": "ipython3",
   "version": "3.8.10"
  }
 },
 "nbformat": 4,
 "nbformat_minor": 4
}
