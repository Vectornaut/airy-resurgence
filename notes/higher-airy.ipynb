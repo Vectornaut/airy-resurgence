{
 "cells": [
  {
   "cell_type": "code",
   "execution_count": 4,
   "metadata": {},
   "outputs": [],
   "source": [
    "%display latex"
   ]
  },
  {
   "cell_type": "code",
   "execution_count": 227,
   "metadata": {},
   "outputs": [
    {
     "data": {
      "text/latex": [
       "\\begin{align*}\n",
       "z & = (-1)^n \\tfrac{1}{a+1} y^{a+1} & a & = \\tfrac{1}{n-1} \\\\\n",
       "& = (-1)^n \\tfrac{n-1}{n} y^{n/(n-1)} \\\\\n",
       "(\\tfrac{n}{n-1} z)^{n-1} & = y^n\n",
       "\\end{align*}\n"
      ],
      "text/plain": [
       "<IPython.core.display.Latex object>"
      ]
     },
     "metadata": {},
     "output_type": "display_data"
    }
   ],
   "source": [
    "%%latex\n",
    "\\begin{align*}\n",
    "z & = (-1)^n \\tfrac{1}{a+1} y^{a+1} & a & = \\tfrac{1}{n-1} \\\\\n",
    "& = (-1)^n \\tfrac{n-1}{n} y^{n/(n-1)} \\\\\n",
    "(\\tfrac{n}{n-1} z)^{n-1} & = y^n\n",
    "\\end{align*}"
   ]
  },
  {
   "cell_type": "code",
   "execution_count": 228,
   "metadata": {},
   "outputs": [],
   "source": [
    "z, y, a = var('z y a')\n",
    "K = function('K')\n",
    "def in_coord_y(expr, n):\n",
    "  return expr.subs({z: (1 if is_even(n) else -1) * y^(a+1) / (a+1)})\n",
    "def in_coord_z(expr, n, top_power):\n",
    "  for k in range(top_power + 1):\n",
    "    expr = expr.subs({y^(k*a+k): ((1 if is_even(n) else -1) * (a+1) * z)^k})\n",
    "  expr = expr.subs({y^(a+n+1): ((1 if is_even(n) else -1) * (a+1) * z)^n})\n",
    "  expr = expr.subs({y^n: ((a+1) * z)^(n-1)})\n",
    "  return expr"
   ]
  },
  {
   "cell_type": "code",
   "execution_count": 229,
   "metadata": {},
   "outputs": [
    {
     "data": {
      "text/latex": [
       "When we write the hyper-Airy function as\n",
       "\\[ \\operatorname{Ai}_n(y) = y^a K\\big((-1)^n \\tfrac{1}{a+1} y^{a+1}\\big), \\]\n",
       "the higher Airy equation\n",
       "\\[ \\left[\\left(-\\tfrac{\\partial}{\\partial y}\\right)^{n-1} - y\\right] Ai_n = 0 \\]\n",
       "becomes an equation for $K$, given by higher_airy_eqn(n).\n"
      ],
      "text/plain": [
       "<IPython.core.display.Latex object>"
      ]
     },
     "metadata": {},
     "output_type": "display_data"
    }
   ],
   "source": [
    "%%latex\n",
    "When we write the hyper-Airy function as\n",
    "\\[ \\operatorname{Ai}_n(y) = y^a K\\big((-1)^n \\tfrac{1}{a+1} y^{a+1}\\big), \\]\n",
    "the higher Airy equation\n",
    "\\[ \\left[\\left(-\\tfrac{\\partial}{\\partial y}\\right)^{n-1} - y\\right] Ai_n = 0 \\]\n",
    "becomes an equation for $K$, given by higher_airy_eqn(n)."
   ]
  },
  {
   "cell_type": "code",
   "execution_count": 321,
   "metadata": {},
   "outputs": [],
   "source": [
    "from sage.symbolic.operators import add_vararg\n",
    "\n",
    "def factor_terms(expr):\n",
    "  if (expr.operator() == add_vararg):\n",
    "    return sum([term.factor() for term in expr.operands()])\n",
    "  else:\n",
    "    return expr\n",
    "\n",
    "def simplify_terms(expr):\n",
    "  if (expr.operator() == add_vararg):\n",
    "    return sum([term.simplify() for term in expr.operands()])\n",
    "  else:\n",
    "    return expr\n",
    "\n",
    "def hyper_airy(n):\n",
    "  return y^a * in_coord_y(K(z), n)\n",
    "\n",
    "def higher_airy_eqn(n):\n",
    "  diff_in_y = (y^(-a-1)*y^n * (-1)^(n-1) * hyper_airy(n).derivative(y, n-1)).canonicalize_radical()\n",
    "  mult_in_y = (y^(-a-1)*y^(n+1) * hyper_airy(n)).canonicalize_radical()\n",
    "  return (in_coord_z(diff_in_y - mult_in_y, n, n)).simplify()"
   ]
  },
  {
   "cell_type": "code",
   "execution_count": 588,
   "metadata": {},
   "outputs": [
    {
     "data": {
      "text/html": [
       "<html><script type=\"math/tex; mode=display\">\\newcommand{\\Bold}[1]{\\mathbf{#1}}-{\\left(a + 1\\right)}^{2} z^{2} K\\left(z\\right) + {\\left(a + 1\\right)}^{2} z^{2} \\frac{\\partial^{2}}{(\\partial z)^{2}}K\\left(z\\right) + 3 \\, {\\left(a + 1\\right)} a z \\frac{\\partial}{\\partial z}K\\left(z\\right) + {\\left(a - 1\\right)} a K\\left(z\\right)</script></html>"
      ],
      "text/plain": [
       "-{\\left(a + 1\\right)}^{2} z^{2} K\\left(z\\right) + {\\left(a + 1\\right)}^{2} z^{2} \\frac{\\partial^{2}}{(\\partial z)^{2}}K\\left(z\\right) + 3 \\, {\\left(a + 1\\right)} a z \\frac{\\partial}{\\partial z}K\\left(z\\right) + {\\left(a - 1\\right)} a K\\left(z\\right)"
      ]
     },
     "metadata": {},
     "output_type": "display_data"
    },
    {
     "data": {
      "text/html": [
       "<html><script type=\"math/tex; mode=display\">\\newcommand{\\Bold}[1]{\\mathbf{#1}}-{\\left(a + 1\\right)}^{3} z^{3} K\\left(z\\right) - {\\left(a + 1\\right)}^{3} z^{3} \\frac{\\partial^{3}}{(\\partial z)^{3}}K\\left(z\\right) - 6 \\, {\\left(a + 1\\right)}^{2} a z^{2} \\frac{\\partial^{2}}{(\\partial z)^{2}}K\\left(z\\right) - {\\left(7 \\, a - 4\\right)} {\\left(a + 1\\right)} a z \\frac{\\partial}{\\partial z}K\\left(z\\right) - {\\left(a - 1\\right)} {\\left(a - 2\\right)} a K\\left(z\\right)</script></html>"
      ],
      "text/plain": [
       "-{\\left(a + 1\\right)}^{3} z^{3} K\\left(z\\right) - {\\left(a + 1\\right)}^{3} z^{3} \\frac{\\partial^{3}}{(\\partial z)^{3}}K\\left(z\\right) - 6 \\, {\\left(a + 1\\right)}^{2} a z^{2} \\frac{\\partial^{2}}{(\\partial z)^{2}}K\\left(z\\right) - {\\left(7 \\, a - 4\\right)} {\\left(a + 1\\right)} a z \\frac{\\partial}{\\partial z}K\\left(z\\right) - {\\left(a - 1\\right)} {\\left(a - 2\\right)} a K\\left(z\\right)"
      ]
     },
     "metadata": {},
     "output_type": "display_data"
    },
    {
     "data": {
      "text/html": [
       "<html><script type=\"math/tex; mode=display\">\\newcommand{\\Bold}[1]{\\mathbf{#1}}-{\\left(a + 1\\right)}^{4} z^{4} K\\left(z\\right) + {\\left(a + 1\\right)}^{4} z^{4} \\frac{\\partial^{4}}{(\\partial z)^{4}}K\\left(z\\right) + 10 \\, {\\left(a + 1\\right)}^{3} a z^{3} \\frac{\\partial^{3}}{(\\partial z)^{3}}K\\left(z\\right) + 5 \\, {\\left(5 \\, a - 2\\right)} {\\left(a + 1\\right)}^{2} a z^{2} \\frac{\\partial^{2}}{(\\partial z)^{2}}K\\left(z\\right) + 5 \\, {\\left(3 \\, a - 2\\right)} {\\left(a + 1\\right)} {\\left(a - 1\\right)} a z \\frac{\\partial}{\\partial z}K\\left(z\\right) + {\\left(a - 1\\right)} {\\left(a - 2\\right)} {\\left(a - 3\\right)} a K\\left(z\\right)</script></html>"
      ],
      "text/plain": [
       "-{\\left(a + 1\\right)}^{4} z^{4} K\\left(z\\right) + {\\left(a + 1\\right)}^{4} z^{4} \\frac{\\partial^{4}}{(\\partial z)^{4}}K\\left(z\\right) + 10 \\, {\\left(a + 1\\right)}^{3} a z^{3} \\frac{\\partial^{3}}{(\\partial z)^{3}}K\\left(z\\right) + 5 \\, {\\left(5 \\, a - 2\\right)} {\\left(a + 1\\right)}^{2} a z^{2} \\frac{\\partial^{2}}{(\\partial z)^{2}}K\\left(z\\right) + 5 \\, {\\left(3 \\, a - 2\\right)} {\\left(a + 1\\right)} {\\left(a - 1\\right)} a z \\frac{\\partial}{\\partial z}K\\left(z\\right) + {\\left(a - 1\\right)} {\\left(a - 2\\right)} {\\left(a - 3\\right)} a K\\left(z\\right)"
      ]
     },
     "metadata": {},
     "output_type": "display_data"
    },
    {
     "data": {
      "text/html": [
       "<html><script type=\"math/tex; mode=display\">\\newcommand{\\Bold}[1]{\\mathbf{#1}}-{\\left(a + 1\\right)}^{5} z^{5} K\\left(z\\right) - {\\left(a + 1\\right)}^{5} z^{5} \\frac{\\partial^{5}}{(\\partial z)^{5}}K\\left(z\\right) - 15 \\, {\\left(a + 1\\right)}^{4} a z^{4} \\frac{\\partial^{4}}{(\\partial z)^{4}}K\\left(z\\right) - 5 \\, {\\left(13 \\, a - 4\\right)} {\\left(a + 1\\right)}^{3} a z^{3} \\frac{\\partial^{3}}{(\\partial z)^{3}}K\\left(z\\right) - 15 \\, {\\left(3 \\, a - 2\\right)} {\\left(2 \\, a - 1\\right)} {\\left(a + 1\\right)}^{2} a z^{2} \\frac{\\partial^{2}}{(\\partial z)^{2}}K\\left(z\\right) - {\\left(a - 1\\right)} {\\left(a - 2\\right)} {\\left(a - 3\\right)} {\\left(a - 4\\right)} a K\\left(z\\right) - {\\left(31 \\, a^{2} - 70 \\, a + 36\\right)} {\\left(a + 1\\right)} {\\left(a - 1\\right)} a z \\frac{\\partial}{\\partial z}K\\left(z\\right)</script></html>"
      ],
      "text/plain": [
       "-{\\left(a + 1\\right)}^{5} z^{5} K\\left(z\\right) - {\\left(a + 1\\right)}^{5} z^{5} \\frac{\\partial^{5}}{(\\partial z)^{5}}K\\left(z\\right) - 15 \\, {\\left(a + 1\\right)}^{4} a z^{4} \\frac{\\partial^{4}}{(\\partial z)^{4}}K\\left(z\\right) - 5 \\, {\\left(13 \\, a - 4\\right)} {\\left(a + 1\\right)}^{3} a z^{3} \\frac{\\partial^{3}}{(\\partial z)^{3}}K\\left(z\\right) - 15 \\, {\\left(3 \\, a - 2\\right)} {\\left(2 \\, a - 1\\right)} {\\left(a + 1\\right)}^{2} a z^{2} \\frac{\\partial^{2}}{(\\partial z)^{2}}K\\left(z\\right) - {\\left(a - 1\\right)} {\\left(a - 2\\right)} {\\left(a - 3\\right)} {\\left(a - 4\\right)} a K\\left(z\\right) - {\\left(31 \\, a^{2} - 70 \\, a + 36\\right)} {\\left(a + 1\\right)} {\\left(a - 1\\right)} a z \\frac{\\partial}{\\partial z}K\\left(z\\right)"
      ]
     },
     "metadata": {},
     "output_type": "display_data"
    },
    {
     "data": {
      "text/html": [
       "<html><script type=\"math/tex; mode=display\">\\newcommand{\\Bold}[1]{\\mathbf{#1}}-{\\left(a + 1\\right)}^{6} z^{6} K\\left(z\\right) + {\\left(a + 1\\right)}^{6} z^{6} \\frac{\\partial^{6}}{(\\partial z)^{6}}K\\left(z\\right) + 21 \\, {\\left(a + 1\\right)}^{5} a z^{5} \\frac{\\partial^{5}}{(\\partial z)^{5}}K\\left(z\\right) + 35 \\, {\\left(4 \\, a - 1\\right)} {\\left(a + 1\\right)}^{4} a z^{4} \\frac{\\partial^{4}}{(\\partial z)^{4}}K\\left(z\\right) + 35 \\, {\\left(5 \\, a - 2\\right)} {\\left(2 \\, a - 1\\right)} {\\left(a + 1\\right)}^{3} a z^{3} \\frac{\\partial^{3}}{(\\partial z)^{3}}K\\left(z\\right) + 21 \\, {\\left(3 \\, a - 4\\right)} {\\left(a + 1\\right)} {\\left(a - 1\\right)}^{2} {\\left(a - 2\\right)} a z \\frac{\\partial}{\\partial z}K\\left(z\\right) + 7 \\, {\\left(43 \\, a^{2} - 55 \\, a + 18\\right)} {\\left(a + 1\\right)}^{2} {\\left(a - 1\\right)} a z^{2} \\frac{\\partial^{2}}{(\\partial z)^{2}}K\\left(z\\right) + {\\left(a - 1\\right)} {\\left(a - 2\\right)} {\\left(a - 3\\right)} {\\left(a - 4\\right)} {\\left(a - 5\\right)} a K\\left(z\\right)</script></html>"
      ],
      "text/plain": [
       "-{\\left(a + 1\\right)}^{6} z^{6} K\\left(z\\right) + {\\left(a + 1\\right)}^{6} z^{6} \\frac{\\partial^{6}}{(\\partial z)^{6}}K\\left(z\\right) + 21 \\, {\\left(a + 1\\right)}^{5} a z^{5} \\frac{\\partial^{5}}{(\\partial z)^{5}}K\\left(z\\right) + 35 \\, {\\left(4 \\, a - 1\\right)} {\\left(a + 1\\right)}^{4} a z^{4} \\frac{\\partial^{4}}{(\\partial z)^{4}}K\\left(z\\right) + 35 \\, {\\left(5 \\, a - 2\\right)} {\\left(2 \\, a - 1\\right)} {\\left(a + 1\\right)}^{3} a z^{3} \\frac{\\partial^{3}}{(\\partial z)^{3}}K\\left(z\\right) + 21 \\, {\\left(3 \\, a - 4\\right)} {\\left(a + 1\\right)} {\\left(a - 1\\right)}^{2} {\\left(a - 2\\right)} a z \\frac{\\partial}{\\partial z}K\\left(z\\right) + 7 \\, {\\left(43 \\, a^{2} - 55 \\, a + 18\\right)} {\\left(a + 1\\right)}^{2} {\\left(a - 1\\right)} a z^{2} \\frac{\\partial^{2}}{(\\partial z)^{2}}K\\left(z\\right) + {\\left(a - 1\\right)} {\\left(a - 2\\right)} {\\left(a - 3\\right)} {\\left(a - 4\\right)} {\\left(a - 5\\right)} a K\\left(z\\right)"
      ]
     },
     "metadata": {},
     "output_type": "display_data"
    }
   ],
   "source": [
    "for n in range(3,8):\n",
    "  display(latex(factor_terms(higher_airy_eqn(n))))"
   ]
  },
  {
   "cell_type": "code",
   "execution_count": 638,
   "metadata": {},
   "outputs": [
    {
     "data": {
      "text/html": [
       "<html><script type=\"math/tex; mode=display\">\\newcommand{\\Bold}[1]{\\mathbf{#1}}5 \\, {\\left(3 \\, a - 2\\right)} {\\left(a - 1\\right)} a z \\frac{\\partial}{\\partial z}K\\left(z\\right)</script></html>"
      ],
      "text/plain": [
       "5*(3*a - 2)*(a - 1)*a*z*diff(K(z), z)"
      ]
     },
     "metadata": {},
     "output_type": "display_data"
    },
    {
     "data": {
      "text/html": [
       "<html><script type=\"math/tex; mode=display\">\\newcommand{\\Bold}[1]{\\mathbf{#1}}-15 \\, {\\left(3 \\, a - 2\\right)} {\\left(2 \\, a - 1\\right)} a z^{2} \\frac{\\partial^{2}}{(\\partial z)^{2}}K\\left(z\\right)</script></html>"
      ],
      "text/plain": [
       "-15*(3*a - 2)*(2*a - 1)*a*z^2*diff(K(z), z, z)"
      ]
     },
     "metadata": {},
     "output_type": "display_data"
    },
    {
     "data": {
      "text/html": [
       "<html><script type=\"math/tex; mode=display\">\\newcommand{\\Bold}[1]{\\mathbf{#1}}35 \\, {\\left(5 \\, a - 2\\right)} {\\left(2 \\, a - 1\\right)} a z^{3} \\frac{\\partial^{3}}{(\\partial z)^{3}}K\\left(z\\right)</script></html>"
      ],
      "text/plain": [
       "35*(5*a - 2)*(2*a - 1)*a*z^3*diff(K(z), z, z, z)"
      ]
     },
     "metadata": {},
     "output_type": "display_data"
    },
    {
     "data": {
      "text/html": [
       "<html><script type=\"math/tex; mode=display\">\\newcommand{\\Bold}[1]{\\mathbf{#1}}-70 \\, {\\left(5 \\, a - 2\\right)} {\\left(3 \\, a - 1\\right)} a z^{4} \\frac{\\partial^{4}}{(\\partial z)^{4}}K\\left(z\\right)</script></html>"
      ],
      "text/plain": [
       "-70*(5*a - 2)*(3*a - 1)*a*z^4*diff(K(z), z, z, z, z)"
      ]
     },
     "metadata": {},
     "output_type": "display_data"
    },
    {
     "data": {
      "text/html": [
       "<html><script type=\"math/tex; mode=display\">\\newcommand{\\Bold}[1]{\\mathbf{#1}}126 \\, {\\left(7 \\, a - 2\\right)} {\\left(3 \\, a - 1\\right)} a z^{5} \\frac{\\partial^{5}}{(\\partial z)^{5}}K\\left(z\\right)</script></html>"
      ],
      "text/plain": [
       "126*(7*a - 2)*(3*a - 1)*a*z^5*diff(K(z), z, z, z, z, z)"
      ]
     },
     "metadata": {},
     "output_type": "display_data"
    },
    {
     "data": {
      "text/html": [
       "<html><script type=\"math/tex; mode=display\">\\newcommand{\\Bold}[1]{\\mathbf{#1}}-210 \\, {\\left(7 \\, a - 2\\right)} {\\left(4 \\, a - 1\\right)} a z^{6} \\frac{\\partial^{6}}{(\\partial z)^{6}}K\\left(z\\right)</script></html>"
      ],
      "text/plain": [
       "-210*(7*a - 2)*(4*a - 1)*a*z^6*diff(K(z), z, z, z, z, z, z)"
      ]
     },
     "metadata": {},
     "output_type": "display_data"
    },
    {
     "data": {
      "text/html": [
       "<html><script type=\"math/tex; mode=display\">\\newcommand{\\Bold}[1]{\\mathbf{#1}}330 \\, {\\left(9 \\, a - 2\\right)} {\\left(4 \\, a - 1\\right)} a z^{7} \\frac{\\partial^{7}}{(\\partial z)^{7}}K\\left(z\\right)</script></html>"
      ],
      "text/plain": [
       "330*(9*a - 2)*(4*a - 1)*a*z^7*diff(K(z), z, z, z, z, z, z, z)"
      ]
     },
     "metadata": {},
     "output_type": "display_data"
    }
   ],
   "source": [
    "view = 3\n",
    "##ord = var('n')\n",
    "for n in range(view+2, view+9):\n",
    "  eqn = factor_terms(higher_airy_eqn(n))\n",
    "  display(eqn.operands()[view+1] / (a+1)^(n-1-view))\n",
    "  ##display((ord-1)^view * (eqn.operands()[view+1] / (a+1)^(n-1-view)).subs({a: 1/(ord-1)}))"
   ]
  },
  {
   "cell_type": "code",
   "execution_count": 647,
   "metadata": {},
   "outputs": [
    {
     "data": {
      "text/html": [
       "<html><script type=\"math/tex; mode=display\">\\newcommand{\\Bold}[1]{\\mathbf{#1}}\\left[-2 \\, n + 5, -n + 2\\right]</script></html>"
      ],
      "text/plain": [
       "[-2*n + 5, -n + 2]"
      ]
     },
     "metadata": {},
     "output_type": "display_data"
    },
    {
     "data": {
      "text/html": [
       "<html><script type=\"math/tex; mode=display\">\\newcommand{\\Bold}[1]{\\mathbf{#1}}\\left[-2 \\, n + 5, -n + 3\\right]</script></html>"
      ],
      "text/plain": [
       "[-2*n + 5, -n + 3]"
      ]
     },
     "metadata": {},
     "output_type": "display_data"
    },
    {
     "data": {
      "text/html": [
       "<html><script type=\"math/tex; mode=display\">\\newcommand{\\Bold}[1]{\\mathbf{#1}}\\left[-2 \\, n + 7, -n + 3\\right]</script></html>"
      ],
      "text/plain": [
       "[-2*n + 7, -n + 3]"
      ]
     },
     "metadata": {},
     "output_type": "display_data"
    },
    {
     "data": {
      "text/html": [
       "<html><script type=\"math/tex; mode=display\">\\newcommand{\\Bold}[1]{\\mathbf{#1}}\\left[-2 \\, n + 7, -n + 4\\right]</script></html>"
      ],
      "text/plain": [
       "[-2*n + 7, -n + 4]"
      ]
     },
     "metadata": {},
     "output_type": "display_data"
    },
    {
     "data": {
      "text/html": [
       "<html><script type=\"math/tex; mode=display\">\\newcommand{\\Bold}[1]{\\mathbf{#1}}\\left[-2 \\, n + 9, -n + 4\\right]</script></html>"
      ],
      "text/plain": [
       "[-2*n + 9, -n + 4]"
      ]
     },
     "metadata": {},
     "output_type": "display_data"
    },
    {
     "data": {
      "text/html": [
       "<html><script type=\"math/tex; mode=display\">\\newcommand{\\Bold}[1]{\\mathbf{#1}}\\left[-2 \\, n + 9, -n + 5\\right]</script></html>"
      ],
      "text/plain": [
       "[-2*n + 9, -n + 5]"
      ]
     },
     "metadata": {},
     "output_type": "display_data"
    }
   ],
   "source": [
    "ord = var('n')\n",
    "for expr in [\n",
    "  [3-2*(ord-1), 1-(ord-1)],\n",
    "  [3-2*(ord-1), 2-(ord-1)],\n",
    "  [5-2*(ord-1), 2-(ord-1)],\n",
    "  [5-2*(ord-1), 3-(ord-1)],\n",
    "  [7-2*(ord-1), 3-(ord-1)],\n",
    "  [7-2*(ord-1), 4-(ord-1)]\n",
    "]: display(expr)"
   ]
  },
  {
   "cell_type": "code",
   "execution_count": 656,
   "metadata": {},
   "outputs": [
    {
     "data": {
      "text/html": [
       "<html><script type=\"math/tex; mode=display\">\\newcommand{\\Bold}[1]{\\mathbf{#1}}\\left[-2 \\, n + 5, -5 \\, n + 10\\right]</script></html>"
      ],
      "text/plain": [
       "[-2*n + 5, -5*n + 10]"
      ]
     },
     "metadata": {},
     "output_type": "display_data"
    },
    {
     "data": {
      "text/html": [
       "<html><script type=\"math/tex; mode=display\">\\newcommand{\\Bold}[1]{\\mathbf{#1}}\\left[-6 \\, n + 15, -5 \\, n + 15\\right]</script></html>"
      ],
      "text/plain": [
       "[-6*n + 15, -5*n + 15]"
      ]
     },
     "metadata": {},
     "output_type": "display_data"
    },
    {
     "data": {
      "text/html": [
       "<html><script type=\"math/tex; mode=display\">\\newcommand{\\Bold}[1]{\\mathbf{#1}}\\left[-20 \\, n + 70, -7 \\, n + 21\\right]</script></html>"
      ],
      "text/plain": [
       "[-20*n + 70, -7*n + 21]"
      ]
     },
     "metadata": {},
     "output_type": "display_data"
    },
    {
     "data": {
      "text/html": [
       "<html><script type=\"math/tex; mode=display\">\\newcommand{\\Bold}[1]{\\mathbf{#1}}\\left[-18 \\, n + 63, -14 \\, n + 56\\right]</script></html>"
      ],
      "text/plain": [
       "[-18*n + 63, -14*n + 56]"
      ]
     },
     "metadata": {},
     "output_type": "display_data"
    },
    {
     "data": {
      "text/html": [
       "<html><script type=\"math/tex; mode=display\">\\newcommand{\\Bold}[1]{\\mathbf{#1}}\\left[-2 \\, n + 9, -n + 4\\right]</script></html>"
      ],
      "text/plain": [
       "[-2*n + 9, -n + 4]"
      ]
     },
     "metadata": {},
     "output_type": "display_data"
    },
    {
     "data": {
      "text/html": [
       "<html><script type=\"math/tex; mode=display\">\\newcommand{\\Bold}[1]{\\mathbf{#1}}\\left[-2 \\, n + 9, -n + 5\\right]</script></html>"
      ],
      "text/plain": [
       "[-2*n + 9, -n + 5]"
      ]
     },
     "metadata": {},
     "output_type": "display_data"
    }
   ],
   "source": [
    "ord = var('n')\n",
    "for expr in [\n",
    "  [1*(3-2*(ord-1)), 5*(1-(ord-1))],\n",
    "  [3*(3-2*(ord-1)), 5*(2-(ord-1))],\n",
    "  [10*(5-2*(ord-1)), 7*(2-(ord-1))],\n",
    "  [9*(5-2*(ord-1)), 126/9*(3-(ord-1))],\n",
    "  [7-2*(ord-1), 3-(ord-1)],\n",
    "  [7-2*(ord-1), 4-(ord-1)]\n",
    "]: display(expr)"
   ]
  },
  {
   "cell_type": "code",
   "execution_count": 450,
   "metadata": {
    "scrolled": false
   },
   "outputs": [
    {
     "data": {
      "text/html": [
       "<html><script type=\"math/tex; mode=display\">\\newcommand{\\Bold}[1]{\\mathbf{#1}}-z^{2} K\\left(z\\right) + z^{2} \\frac{\\partial^{2}}{(\\partial z)^{2}}K\\left(z\\right) + z \\frac{\\partial}{\\partial z}K\\left(z\\right) - \\frac{1}{9} \\, K\\left(z\\right)</script></html>"
      ],
      "text/plain": [
       "-z^{2} K\\left(z\\right) + z^{2} \\frac{\\partial^{2}}{(\\partial z)^{2}}K\\left(z\\right) + z \\frac{\\partial}{\\partial z}K\\left(z\\right) - \\frac{1}{9} \\, K\\left(z\\right)"
      ]
     },
     "metadata": {},
     "output_type": "display_data"
    },
    {
     "data": {
      "text/html": [
       "<html><script type=\"math/tex; mode=display\">\\newcommand{\\Bold}[1]{\\mathbf{#1}}-z^{3} K\\left(z\\right) - z^{3} \\frac{\\partial^{3}}{(\\partial z)^{3}}K\\left(z\\right) - \\frac{3}{2} \\, z^{2} \\frac{\\partial^{2}}{(\\partial z)^{2}}K\\left(z\\right) + \\frac{5}{16} \\, z \\frac{\\partial}{\\partial z}K\\left(z\\right) - \\frac{5}{32} \\, K\\left(z\\right)</script></html>"
      ],
      "text/plain": [
       "-z^{3} K\\left(z\\right) - z^{3} \\frac{\\partial^{3}}{(\\partial z)^{3}}K\\left(z\\right) - \\frac{3}{2} \\, z^{2} \\frac{\\partial^{2}}{(\\partial z)^{2}}K\\left(z\\right) + \\frac{5}{16} \\, z \\frac{\\partial}{\\partial z}K\\left(z\\right) - \\frac{5}{32} \\, K\\left(z\\right)"
      ]
     },
     "metadata": {},
     "output_type": "display_data"
    },
    {
     "data": {
      "text/html": [
       "<html><script type=\"math/tex; mode=display\">\\newcommand{\\Bold}[1]{\\mathbf{#1}}-z^{4} K\\left(z\\right) + z^{4} \\frac{\\partial^{4}}{(\\partial z)^{4}}K\\left(z\\right) + 2 \\, z^{3} \\frac{\\partial^{3}}{(\\partial z)^{3}}K\\left(z\\right) - \\frac{3}{5} \\, z^{2} \\frac{\\partial^{2}}{(\\partial z)^{2}}K\\left(z\\right) + \\frac{3}{5} \\, z \\frac{\\partial}{\\partial z}K\\left(z\\right) - \\frac{231}{625} \\, K\\left(z\\right)</script></html>"
      ],
      "text/plain": [
       "-z^{4} K\\left(z\\right) + z^{4} \\frac{\\partial^{4}}{(\\partial z)^{4}}K\\left(z\\right) + 2 \\, z^{3} \\frac{\\partial^{3}}{(\\partial z)^{3}}K\\left(z\\right) - \\frac{3}{5} \\, z^{2} \\frac{\\partial^{2}}{(\\partial z)^{2}}K\\left(z\\right) + \\frac{3}{5} \\, z \\frac{\\partial}{\\partial z}K\\left(z\\right) - \\frac{231}{625} \\, K\\left(z\\right)"
      ]
     },
     "metadata": {},
     "output_type": "display_data"
    },
    {
     "data": {
      "text/html": [
       "<html><script type=\"math/tex; mode=display\">\\newcommand{\\Bold}[1]{\\mathbf{#1}}-z^{5} K\\left(z\\right) - z^{5} \\frac{\\partial^{5}}{(\\partial z)^{5}}K\\left(z\\right) - \\frac{5}{2} \\, z^{4} \\frac{\\partial^{4}}{(\\partial z)^{4}}K\\left(z\\right) + \\frac{35}{36} \\, z^{3} \\frac{\\partial^{3}}{(\\partial z)^{3}}K\\left(z\\right) - \\frac{35}{24} \\, z^{2} \\frac{\\partial^{2}}{(\\partial z)^{2}}K\\left(z\\right) + \\frac{581}{324} \\, z \\frac{\\partial}{\\partial z}K\\left(z\\right) - \\frac{133}{108} \\, K\\left(z\\right)</script></html>"
      ],
      "text/plain": [
       "-z^{5} K\\left(z\\right) - z^{5} \\frac{\\partial^{5}}{(\\partial z)^{5}}K\\left(z\\right) - \\frac{5}{2} \\, z^{4} \\frac{\\partial^{4}}{(\\partial z)^{4}}K\\left(z\\right) + \\frac{35}{36} \\, z^{3} \\frac{\\partial^{3}}{(\\partial z)^{3}}K\\left(z\\right) - \\frac{35}{24} \\, z^{2} \\frac{\\partial^{2}}{(\\partial z)^{2}}K\\left(z\\right) + \\frac{581}{324} \\, z \\frac{\\partial}{\\partial z}K\\left(z\\right) - \\frac{133}{108} \\, K\\left(z\\right)"
      ]
     },
     "metadata": {},
     "output_type": "display_data"
    },
    {
     "data": {
      "text/html": [
       "<html><script type=\"math/tex; mode=display\">\\newcommand{\\Bold}[1]{\\mathbf{#1}}-z^{6} K\\left(z\\right) + z^{6} \\frac{\\partial^{6}}{(\\partial z)^{6}}K\\left(z\\right) + 3 \\, z^{5} \\frac{\\partial^{5}}{(\\partial z)^{5}}K\\left(z\\right) - \\frac{10}{7} \\, z^{4} \\frac{\\partial^{4}}{(\\partial z)^{4}}K\\left(z\\right) + \\frac{20}{7} \\, z^{3} \\frac{\\partial^{3}}{(\\partial z)^{3}}K\\left(z\\right) - \\frac{1805}{343} \\, z^{2} \\frac{\\partial^{2}}{(\\partial z)^{2}}K\\left(z\\right) + \\frac{2475}{343} \\, z \\frac{\\partial}{\\partial z}K\\left(z\\right) - \\frac{623645}{117649} \\, K\\left(z\\right)</script></html>"
      ],
      "text/plain": [
       "-z^{6} K\\left(z\\right) + z^{6} \\frac{\\partial^{6}}{(\\partial z)^{6}}K\\left(z\\right) + 3 \\, z^{5} \\frac{\\partial^{5}}{(\\partial z)^{5}}K\\left(z\\right) - \\frac{10}{7} \\, z^{4} \\frac{\\partial^{4}}{(\\partial z)^{4}}K\\left(z\\right) + \\frac{20}{7} \\, z^{3} \\frac{\\partial^{3}}{(\\partial z)^{3}}K\\left(z\\right) - \\frac{1805}{343} \\, z^{2} \\frac{\\partial^{2}}{(\\partial z)^{2}}K\\left(z\\right) + \\frac{2475}{343} \\, z \\frac{\\partial}{\\partial z}K\\left(z\\right) - \\frac{623645}{117649} \\, K\\left(z\\right)"
      ]
     },
     "metadata": {},
     "output_type": "display_data"
    }
   ],
   "source": [
    "##ord = var('n')\n",
    "for n in range(3,8):\n",
    "  display(latex((((n-1)/n)^(n-1) * higher_airy_eqn(n)).subs({a: 1/(n-1)})))\n",
    "  ##display(latex(expand((((ord-1)/ord)^(n-1) * higher_airy_eqn(n)).subs({a: 1/(ord-1)})).collect(K(z)).collect(K(z).derivative(z)).collect(K(z).derivative(z, 2))))"
   ]
  },
  {
   "cell_type": "code",
   "execution_count": 589,
   "metadata": {},
   "outputs": [
    {
     "data": {
      "text/html": [
       "<html><script type=\"math/tex; mode=display\">\\newcommand{\\Bold}[1]{\\mathbf{#1}}\\left[3 \\, {\\left| \\frac{\\partial}{\\partial z}K\\left(z\\right) \\right|}, 1\\right]</script></html>"
      ],
      "text/plain": [
       "[3*abs(diff(K(z), z)), 1]"
      ]
     },
     "metadata": {},
     "output_type": "display_data"
    },
    {
     "data": {
      "text/html": [
       "<html><script type=\"math/tex; mode=display\">\\newcommand{\\Bold}[1]{\\mathbf{#1}}\\left[6, 5, 10\\right]</script></html>"
      ],
      "text/plain": [
       "[6, 5, 10]"
      ]
     },
     "metadata": {},
     "output_type": "display_data"
    },
    {
     "data": {
      "text/html": [
       "<html><script type=\"math/tex; mode=display\">\\newcommand{\\Bold}[1]{\\mathbf{#1}}\\left[10, 15, 75, 231\\right]</script></html>"
      ],
      "text/plain": [
       "[10, 15, 75, 231]"
      ]
     },
     "metadata": {},
     "output_type": "display_data"
    },
    {
     "data": {
      "text/html": [
       "<html><script type=\"math/tex; mode=display\">\\newcommand{\\Bold}[1]{\\mathbf{#1}}\\left[15, 35, 315, 2324, 9576\\right]</script></html>"
      ],
      "text/plain": [
       "[15, 35, 315, 2324, 9576]"
      ]
     },
     "metadata": {},
     "output_type": "display_data"
    },
    {
     "data": {
      "text/html": [
       "<html><script type=\"math/tex; mode=display\">\\newcommand{\\Bold}[1]{\\mathbf{#1}}\\left[21, 70, 980, 12635, 121275, 623645\\right]</script></html>"
      ],
      "text/plain": [
       "[21, 70, 980, 12635, 121275, 623645]"
      ]
     },
     "metadata": {},
     "output_type": "display_data"
    },
    {
     "data": {
      "text/html": [
       "<html><script type=\"math/tex; mode=display\">\\newcommand{\\Bold}[1]{\\mathbf{#1}}\\left[28, 126, 2520, 49455, 812700, 9540180, 58715280\\right]</script></html>"
      ],
      "text/plain": [
       "[28, 126, 2520, 49455, 812700, 9540180, 58715280]"
      ]
     },
     "metadata": {},
     "output_type": "display_data"
    },
    {
     "data": {
      "text/html": [
       "<html><script type=\"math/tex; mode=display\">\\newcommand{\\Bold}[1]{\\mathbf{#1}}\\left[36, 210, 5670, 156345, 3849930, 76186495, 1053966375, 7547514975\\right]</script></html>"
      ],
      "text/plain": [
       "[36, 210, 5670, 156345, 3849930, 76186495, 1053966375, 7547514975]"
      ]
     },
     "metadata": {},
     "output_type": "display_data"
    }
   ],
   "source": [
    "def get_coeffs(eqn):\n",
    "  return [abs(term.operands()[-1]) for term in eqn.operands()[2:]]\n",
    "for n in range(3, 10):\n",
    "  eqn = (((n-1)/n)^(n-1) * higher_airy_eqn(n)).subs({a: 1/(n-1)})\n",
    "  coeffs = get_coeffs(eqn)\n",
    "  display([n^(k+1) * coeffs[k] for k in range(len(coeffs))])"
   ]
  },
  {
   "cell_type": "code",
   "execution_count": 586,
   "metadata": {},
   "outputs": [
    {
     "data": {
      "text/html": [
       "<html><script type=\"math/tex; mode=display\">\\newcommand{\\Bold}[1]{\\mathbf{#1}}\\left[3, 6, 10, 15, 21, 28, 36, 45, 55\\right]</script></html>"
      ],
      "text/plain": [
       "[3, 6, 10, 15, 21, 28, 36, 45, 55]"
      ]
     },
     "metadata": {},
     "output_type": "display_data"
    },
    {
     "data": {
      "text/html": [
       "<html><script type=\"math/tex; mode=display\">\\newcommand{\\Bold}[1]{\\mathbf{#1}}\\left[1, 5, 15, 35, 70, 126, 210, 330, 495\\right]</script></html>"
      ],
      "text/plain": [
       "[1, 5, 15, 35, 70, 126, 210, 330, 495]"
      ]
     },
     "metadata": {},
     "output_type": "display_data"
    },
    {
     "data": {
      "text/html": [
       "<html><script type=\"math/tex; mode=display\">\\newcommand{\\Bold}[1]{\\mathbf{#1}}\\left[10, 75, 315, 980, 2520, 5670, 11550, 21780, 38610\\right]</script></html>"
      ],
      "text/plain": [
       "[10, 75, 315, 980, 2520, 5670, 11550, 21780, 38610]"
      ]
     },
     "metadata": {},
     "output_type": "display_data"
    },
    {
     "data": {
      "text/html": [
       "<html><script type=\"math/tex; mode=display\">\\newcommand{\\Bold}[1]{\\mathbf{#1}}\\left[10, 75, 315, 980, 2520, 5670, 11550, 21780, 38610\\right]</script></html>"
      ],
      "text/plain": [
       "[10, 75, 315, 980, 2520, 5670, 11550, 21780, 38610]"
      ]
     },
     "metadata": {},
     "output_type": "display_data"
    },
    {
     "data": {
      "text/html": [
       "<html><script type=\"math/tex; mode=display\">\\newcommand{\\Bold}[1]{\\mathbf{#1}}\\left[3, 35, 210, 882, 2940, 8316, 20790, 47190, 99099\\right]</script></html>"
      ],
      "text/plain": [
       "[3, 35, 210, 882, 2940, 8316, 20790, 47190, 99099]"
      ]
     },
     "metadata": {},
     "output_type": "display_data"
    },
    {
     "data": {
      "text/html": [
       "<html><script type=\"math/tex; mode=display\">\\newcommand{\\Bold}[1]{\\mathbf{#1}}\\left[1, 8, 36, 120, 330, 792, 1716, 3432, 6435\\right]</script></html>"
      ],
      "text/plain": [
       "[1, 8, 36, 120, 330, 792, 1716, 3432, 6435]"
      ]
     },
     "metadata": {},
     "output_type": "display_data"
    }
   ],
   "source": [
    "display([binomial(n, 2) for n in range(3, 12)])\n",
    "display([binomial(n+1, 4) for n in range(3, 12)])\n",
    "display([5*(n+1)/2 * binomial(n+2, 5) for n in range(3, 12)])\n",
    "display([5/n * binomial(n+1, 2) * binomial(n+2, 5) for n in range(3, 12)])\n",
    "display([n*(n+1)/4 * binomial(n+3, 6) for n in range(3, 12)])\n",
    "display([binomial(n+4, 7) for n in range(3, 12)])"
   ]
  },
  {
   "cell_type": "code",
   "execution_count": 547,
   "metadata": {},
   "outputs": [
    {
     "data": {
      "text/html": [
       "<html><script type=\"math/tex; mode=display\">\\newcommand{\\Bold}[1]{\\mathbf{#1}}\\left[\\left[10\\right], \\left[75, 231\\right]\\right]</script></html>"
      ],
      "text/plain": [
       "[[10], [75, 231]]"
      ]
     },
     "execution_count": 547,
     "metadata": {},
     "output_type": "execute_result"
    }
   ],
   "source": [
    "[[2*5],\n",
    "[5*(4+1)/2 * binomial(4+2,5), 3*7*11]]"
   ]
  },
  {
   "cell_type": "code",
   "execution_count": 579,
   "metadata": {},
   "outputs": [
    {
     "data": {
      "text/html": [
       "<html><script type=\"math/tex; mode=display\">\\newcommand{\\Bold}[1]{\\mathbf{#1}}\\left[231, 332, \\frac{1805}{4}, \\frac{2355}{4}, \\frac{1489}{2}\\right]</script></html>"
      ],
      "text/plain": [
       "[231, 332, 1805/4, 2355/4, 1489/2]"
      ]
     },
     "execution_count": 579,
     "metadata": {},
     "output_type": "execute_result"
    }
   ],
   "source": [
    "[231, 2324/7, 12635/28, 49455/84, 156345/210]"
   ]
  },
  {
   "cell_type": "code",
   "execution_count": 582,
   "metadata": {},
   "outputs": [
    {
     "data": {
      "text/html": [
       "<html><script type=\"math/tex; mode=display\">\\newcommand{\\Bold}[1]{\\mathbf{#1}}2^{2} \\cdot 83</script></html>"
      ],
      "text/plain": [
       "2^2 * 83"
      ]
     },
     "execution_count": 582,
     "metadata": {},
     "output_type": "execute_result"
    }
   ],
   "source": [
    "factor(332)"
   ]
  },
  {
   "cell_type": "code",
   "execution_count": 565,
   "metadata": {},
   "outputs": [
    {
     "data": {
      "text/html": [
       "<html><script type=\"math/tex; mode=display\">\\newcommand{\\Bold}[1]{\\mathbf{#1}}\\left[9576, \\frac{121275}{8}, 22575, \\frac{128331}{4}\\right]</script></html>"
      ],
      "text/plain": [
       "[9576, 121275/8, 22575, 128331/4]"
      ]
     },
     "execution_count": 565,
     "metadata": {},
     "output_type": "execute_result"
    }
   ],
   "source": [
    "[9576/1, 121275/8, 812700/36, 3849930/120]"
   ]
  },
  {
   "cell_type": "code",
   "execution_count": 452,
   "metadata": {},
   "outputs": [
    {
     "data": {
      "text/html": [
       "<html><script type=\"math/tex; mode=display\">\\newcommand{\\Bold}[1]{\\mathbf{#1}}-z^{12} K\\left(z\\right) + z^{12} \\frac{\\partial^{12}}{(\\partial z)^{12}}K\\left(z\\right) + 6 \\, z^{11} \\frac{\\partial^{11}}{(\\partial z)^{11}}K\\left(z\\right) - \\frac{77}{13} \\, z^{10} \\frac{\\partial^{10}}{(\\partial z)^{10}}K\\left(z\\right) + \\frac{385}{13} \\, z^{9} \\frac{\\partial^{9}}{(\\partial z)^{9}}K\\left(z\\right) - \\frac{358050}{2197} \\, z^{8} \\frac{\\partial^{8}}{(\\partial z)^{8}}K\\left(z\\right) + \\frac{1954260}{2197} \\, z^{7} \\frac{\\partial^{7}}{(\\partial z)^{7}}K\\left(z\\right) - \\frac{1690063760}{371293} \\, z^{6} \\frac{\\partial^{6}}{(\\partial z)^{6}}K\\left(z\\right) + \\frac{7774037040}{371293} \\, z^{5} \\frac{\\partial^{5}}{(\\partial z)^{5}}K\\left(z\\right) - \\frac{5214451170775}{62748517} \\, z^{4} \\frac{\\partial^{4}}{(\\partial z)^{4}}K\\left(z\\right) + \\frac{17002885303250}{62748517} \\, z^{3} \\frac{\\partial^{3}}{(\\partial z)^{3}}K\\left(z\\right) - \\frac{7176361018840475}{10604499373} \\, z^{2} \\frac{\\partial^{2}}{(\\partial z)^{2}}K\\left(z\\right) + \\frac{12153371324215275}{10604499373} \\, z \\frac{\\partial}{\\partial z}K\\left(z\\right) - \\frac{22929813173612997575}{23298085122481} \\, K\\left(z\\right)</script></html>"
      ],
      "text/plain": [
       "-z^{12} K\\left(z\\right) + z^{12} \\frac{\\partial^{12}}{(\\partial z)^{12}}K\\left(z\\right) + 6 \\, z^{11} \\frac{\\partial^{11}}{(\\partial z)^{11}}K\\left(z\\right) - \\frac{77}{13} \\, z^{10} \\frac{\\partial^{10}}{(\\partial z)^{10}}K\\left(z\\right) + \\frac{385}{13} \\, z^{9} \\frac{\\partial^{9}}{(\\partial z)^{9}}K\\left(z\\right) - \\frac{358050}{2197} \\, z^{8} \\frac{\\partial^{8}}{(\\partial z)^{8}}K\\left(z\\right) + \\frac{1954260}{2197} \\, z^{7} \\frac{\\partial^{7}}{(\\partial z)^{7}}K\\left(z\\right) - \\frac{1690063760}{371293} \\, z^{6} \\frac{\\partial^{6}}{(\\partial z)^{6}}K\\left(z\\right) + \\frac{7774037040}{371293} \\, z^{5} \\frac{\\partial^{5}}{(\\partial z)^{5}}K\\left(z\\right) - \\frac{5214451170775}{62748517} \\, z^{4} \\frac{\\partial^{4}}{(\\partial z)^{4}}K\\left(z\\right) + \\frac{17002885303250}{62748517} \\, z^{3} \\frac{\\partial^{3}}{(\\partial z)^{3}}K\\left(z\\right) - \\frac{7176361018840475}{10604499373} \\, z^{2} \\frac{\\partial^{2}}{(\\partial z)^{2}}K\\left(z\\right) + \\frac{12153371324215275}{10604499373} \\, z \\frac{\\partial}{\\partial z}K\\left(z\\right) - \\frac{22929813173612997575}{23298085122481} \\, K\\left(z\\right)"
      ]
     },
     "metadata": {},
     "output_type": "display_data"
    }
   ],
   "source": [
    "for n in [13]:\n",
    "  display(latex((((n-1)/n)^(n-1) * higher_airy_eqn(n)).subs({a: 1/(n-1)})))"
   ]
  },
  {
   "cell_type": "code",
   "execution_count": 342,
   "metadata": {},
   "outputs": [
    {
     "name": "stdout",
     "output_type": "stream",
     "text": [
      "[1, 10, 231, 9576, 623645, 58715280, 7547514975]\n",
      "[9, 64, 625, 7776, 117649, 2097152, 43046721]\n"
     ]
    },
    {
     "data": {
      "text/html": [
       "<html><script type=\"math/tex; mode=display\">\\newcommand{\\Bold}[1]{\\mathbf{#1}}\\left[\\frac{1}{9}, \\frac{5}{32}, \\frac{231}{625}, \\frac{133}{108}, \\frac{623645}{117649}, \\frac{3669705}{131072}, \\frac{838612775}{4782969}\\right]</script></html>"
      ],
      "text/plain": [
       "\\left[\\frac{1}{9}, \\frac{5}{32}, \\frac{231}{625}, \\frac{133}{108}, \\frac{623645}{117649}, \\frac{3669705}{131072}, \\frac{838612775}{4782969}\\right]"
      ]
     },
     "metadata": {},
     "output_type": "display_data"
    }
   ],
   "source": [
    "final_nums = [1, 10, 231, 9576, 623645, 58715280, 7547514975]\n",
    "final_denoms = [n^(n-1) for n in range(3,10)]\n",
    "print(final_nums)\n",
    "print(final_denoms)\n",
    "display(latex([a/b for (a, b) in zip(final_nums, final_denoms)]))"
   ]
  },
  {
   "cell_type": "code",
   "execution_count": 343,
   "metadata": {},
   "outputs": [
    {
     "data": {
      "text/html": [
       "<html><script type=\"math/tex; mode=display\">\\newcommand{\\Bold}[1]{\\mathbf{#1}}\\left[1, 2 \\cdot 5, 3 \\cdot 7 \\cdot 11, 2^{3} \\cdot 3^{2} \\cdot 7 \\cdot 19, 5 \\cdot 11 \\cdot 17 \\cdot 23 \\cdot 29, 2^{4} \\cdot 3^{4} \\cdot 5 \\cdot 13 \\cdot 17 \\cdot 41, 3^{2} \\cdot 5^{2} \\cdot 7 \\cdot 11 \\cdot 13 \\cdot 23 \\cdot 31 \\cdot 47\\right]</script></html>"
      ],
      "text/plain": [
       "[1,\n",
       " 2 * 5,\n",
       " 3 * 7 * 11,\n",
       " 2^3 * 3^2 * 7 * 19,\n",
       " 5 * 11 * 17 * 23 * 29,\n",
       " 2^4 * 3^4 * 5 * 13 * 17 * 41,\n",
       " 3^2 * 5^2 * 7 * 11 * 13 * 23 * 31 * 47]"
      ]
     },
     "execution_count": 343,
     "metadata": {},
     "output_type": "execute_result"
    }
   ],
   "source": [
    "[factor(num) for num in final_nums]"
   ]
  },
  {
   "cell_type": "code",
   "execution_count": 344,
   "metadata": {},
   "outputs": [
    {
     "data": {
      "text/html": [
       "<html><script type=\"math/tex; mode=display\">\\newcommand{\\Bold}[1]{\\mathbf{#1}}\\left[1, 10, 231, 9576\\right]</script></html>"
      ],
      "text/plain": [
       "[1, 10, 231, 9576]"
      ]
     },
     "execution_count": 344,
     "metadata": {},
     "output_type": "execute_result"
    }
   ],
   "source": [
    "[1, 2*(2+3), 3*(3+4)*(3+2*4), 4*(4+5)*(4+2*5)*(4+3*5)]"
   ]
  },
  {
   "cell_type": "code",
   "execution_count": 352,
   "metadata": {},
   "outputs": [
    {
     "data": {
      "text/latex": [
       "General final numerator:\n",
       "\\begin{align*}\n",
       "\\operatorname{num}_n^{(n-1)} & = \\prod_{k = 0}^{n-3} [(n-2) + k(n-1)] \\\\\n",
       "& = \\prod_{k = 0}^{n-3} [(k+1)n - (k+2)] \\\\\n",
       "& = (n-2)(2n-3)(3n-4) \\cdots [(n-2)n - (n-1)]\n",
       "\\end{align*}\n"
      ],
      "text/plain": [
       "<IPython.core.display.Latex object>"
      ]
     },
     "metadata": {},
     "output_type": "display_data"
    }
   ],
   "source": [
    "%%latex\n",
    "General final numerator:\n",
    "\\begin{align*}\n",
    "\\operatorname{num}_n^{(n-1)} & = \\prod_{k = 0}^{n-3} [(n-2) + k(n-1)] \\\\\n",
    "& = \\prod_{k = 0}^{n-3} [(k+1)n - (k+2)] \\\\\n",
    "& = (n-2)(2n-3)(3n-4) \\cdots [(n-2)n - (n-1)]\n",
    "\\end{align*}"
   ]
  },
  {
   "cell_type": "code",
   "execution_count": 453,
   "metadata": {},
   "outputs": [
    {
     "data": {
      "text/html": [
       "<html><script type=\"math/tex; mode=display\">\\newcommand{\\Bold}[1]{\\mathbf{#1}}\\left[\\frac{1}{9}, \\frac{5}{16}, \\frac{3}{5}, \\frac{35}{36}, \\frac{10}{7}, \\frac{63}{32}, \\frac{70}{27}, \\frac{33}{10}, \\frac{45}{11}, \\frac{715}{144}, \\frac{77}{13}, \\frac{195}{28}\\right]</script></html>"
      ],
      "text/plain": [
       "[1/9,\n",
       " 5/16,\n",
       " 3/5,\n",
       " 35/36,\n",
       " 10/7,\n",
       " 63/32,\n",
       " 70/27,\n",
       " 33/10,\n",
       " 45/11,\n",
       " 715/144,\n",
       " 77/13,\n",
       " 195/28]"
      ]
     },
     "execution_count": 453,
     "metadata": {},
     "output_type": "execute_result"
    }
   ],
   "source": [
    "[1/3^2, 5/4^2, 15/5^2, 35/6^2, 70/7^2, 126/8^2, 210/9^2, 330/10^2, 495/11^2, 715/12^2, 77/13, 195/28]"
   ]
  },
  {
   "cell_type": "markdown",
   "metadata": {},
   "source": [
    "The even ones' coefficients are the square pyramidal numbers (A000330), and the odd ones' are the binomial coefficients 4 choose 4, 6 choose 4, 8 choose 4, 10 choose 4... (A053134)!"
   ]
  },
  {
   "cell_type": "code",
   "execution_count": 464,
   "metadata": {},
   "outputs": [
    {
     "data": {
      "text/html": [
       "<html><script type=\"math/tex; mode=display\">\\newcommand{\\Bold}[1]{\\mathbf{#1}}\\left[\\frac{1}{9}, \\frac{5}{16}, \\frac{3}{5}, \\frac{35}{36}, \\frac{10}{7}, \\frac{63}{32}, \\frac{70}{27}, \\frac{33}{10}, \\frac{45}{11}, \\frac{715}{144}, \\frac{77}{13}, \\frac{195}{28}\\right]</script></html>"
      ],
      "text/plain": [
       "[1/9,\n",
       " 5/16,\n",
       " 3/5,\n",
       " 35/36,\n",
       " 10/7,\n",
       " 63/32,\n",
       " 70/27,\n",
       " 33/10,\n",
       " 45/11,\n",
       " 715/144,\n",
       " 77/13,\n",
       " 195/28]"
      ]
     },
     "execution_count": 464,
     "metadata": {},
     "output_type": "execute_result"
    }
   ],
   "source": [
    "[1/3^2, 1/4 + 1/4^2, 15/5^2, 5*(1/6 + 1/6^2), 70/7^2, 14*(1/8 + 1/8^2), 210/9^2, 30*(1/10 + 1/10^2), 495/11^2, 55*(1/12 + 1/12^2), 77/13, 91*(1/14 + 1/14^2)]"
   ]
  },
  {
   "cell_type": "code",
   "execution_count": 473,
   "metadata": {
    "scrolled": true
   },
   "outputs": [
    {
     "data": {
      "text/html": [
       "<html><script type=\"math/tex; mode=display\">\\newcommand{\\Bold}[1]{\\mathbf{#1}}\\left[\\frac{1}{9}, \\frac{5}{16}, \\frac{3}{5}, \\frac{35}{36}, \\frac{10}{7}, \\frac{63}{32}, \\frac{70}{27}, \\frac{33}{10}, \\frac{45}{11}, \\frac{715}{144}, \\frac{77}{13}, \\frac{195}{28}\\right]</script></html>"
      ],
      "text/plain": [
       "[1/9,\n",
       " 5/16,\n",
       " 3/5,\n",
       " 35/36,\n",
       " 10/7,\n",
       " 63/32,\n",
       " 70/27,\n",
       " 33/10,\n",
       " 45/11,\n",
       " 715/144,\n",
       " 77/13,\n",
       " 195/28]"
      ]
     },
     "execution_count": 473,
     "metadata": {},
     "output_type": "execute_result"
    }
   ],
   "source": [
    "[binomial(n,4)/(n-1)^2 for n in range(4, 16)]"
   ]
  },
  {
   "cell_type": "code",
   "execution_count": 391,
   "metadata": {},
   "outputs": [
    {
     "data": {
      "text/html": [
       "<html><script type=\"math/tex; mode=display\">\\newcommand{\\Bold}[1]{\\mathbf{#1}}\\left[\\frac{5}{16}, \\frac{3}{5}, \\frac{581}{324}, \\frac{2475}{343}\\right]</script></html>"
      ],
      "text/plain": [
       "[5/16, 3/5, 581/324, 2475/343]"
      ]
     },
     "execution_count": 391,
     "metadata": {},
     "output_type": "execute_result"
    }
   ],
   "source": [
    "second_final = [5/16, 3/5, 581/324, 2475/343]\n",
    "second_final"
   ]
  },
  {
   "cell_type": "code",
   "execution_count": 404,
   "metadata": {},
   "outputs": [
    {
     "data": {
      "text/html": [
       "<html><script type=\"math/tex; mode=display\">\\newcommand{\\Bold}[1]{\\mathbf{#1}}\\frac{581}{324}</script></html>"
      ],
      "text/plain": [
       "581/324"
      ]
     },
     "execution_count": 404,
     "metadata": {},
     "output_type": "execute_result"
    }
   ],
   "source": [
    "2324/6^4"
   ]
  },
  {
   "cell_type": "code",
   "execution_count": 405,
   "metadata": {},
   "outputs": [
    {
     "data": {
      "text/html": [
       "<html><script type=\"math/tex; mode=display\">\\newcommand{\\Bold}[1]{\\mathbf{#1}}1296</script></html>"
      ],
      "text/plain": [
       "1296"
      ]
     },
     "execution_count": 405,
     "metadata": {},
     "output_type": "execute_result"
    }
   ],
   "source": [
    "6^4"
   ]
  },
  {
   "cell_type": "code",
   "execution_count": 408,
   "metadata": {},
   "outputs": [
    {
     "data": {
      "text/html": [
       "<html><script type=\"math/tex; mode=display\">\\newcommand{\\Bold}[1]{\\mathbf{#1}}\\left[16, 125, 1296, 16807\\right]</script></html>"
      ],
      "text/plain": [
       "[16, 125, 1296, 16807]"
      ]
     },
     "execution_count": 408,
     "metadata": {},
     "output_type": "execute_result"
    }
   ],
   "source": [
    "[4^2, 5^3, 6^4, 7^5]"
   ]
  },
  {
   "cell_type": "code",
   "execution_count": 415,
   "metadata": {},
   "outputs": [
    {
     "data": {
      "text/html": [
       "<html><script type=\"math/tex; mode=display\">\\newcommand{\\Bold}[1]{\\mathbf{#1}}\\left[\\frac{5}{16}, \\frac{3}{5}, \\frac{581}{324}, \\frac{2475}{343}\\right]</script></html>"
      ],
      "text/plain": [
       "[5/16, 3/5, 581/324, 2475/343]"
      ]
     },
     "execution_count": 415,
     "metadata": {},
     "output_type": "execute_result"
    }
   ],
   "source": [
    "[5/4^2, 75/5^3, 2324/6^4, 121275/7^5]"
   ]
  },
  {
   "cell_type": "code",
   "execution_count": 440,
   "metadata": {},
   "outputs": [
    {
     "data": {
      "text/html": [
       "<html><script type=\"math/tex; mode=display\">\\newcommand{\\Bold}[1]{\\mathbf{#1}}\\left[\\frac{5}{16}, \\frac{3}{5}, \\frac{635}{648}\\right]</script></html>"
      ],
      "text/plain": [
       "[5/16, 3/5, 635/648]"
      ]
     },
     "execution_count": 440,
     "metadata": {},
     "output_type": "execute_result"
    }
   ],
   "source": [
    "[1/4 + 1/4^2, 2/5 + 4/5^2 + 5/5^3, 4/6 + 10/6^2 + 6/6^3 + 10/6^4]"
   ]
  },
  {
   "cell_type": "code",
   "execution_count": null,
   "metadata": {},
   "outputs": [],
   "source": []
  }
 ],
 "metadata": {
  "kernelspec": {
   "display_name": "SageMath 9.0",
   "language": "sage",
   "name": "sagemath"
  },
  "language_info": {
   "codemirror_mode": {
    "name": "ipython",
    "version": 3
   },
   "file_extension": ".py",
   "mimetype": "text/x-python",
   "name": "python",
   "nbconvert_exporter": "python",
   "pygments_lexer": "ipython3",
   "version": "3.8.10"
  }
 },
 "nbformat": 4,
 "nbformat_minor": 4
}
