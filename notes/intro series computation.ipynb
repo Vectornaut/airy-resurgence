{
 "cells": [
  {
   "cell_type": "code",
   "execution_count": 2,
   "id": "6624d6f7",
   "metadata": {},
   "outputs": [],
   "source": [
    "%display latex"
   ]
  },
  {
   "cell_type": "markdown",
   "id": "b56903be",
   "metadata": {},
   "source": [
    "We're working with the substitution $\\tfrac{1}{2} t^2 = 4u^3 - 3u + 1$. To center at the critical point $u = \\tfrac{1}{2}$, we use the new variable $w = u - \\tfrac{1}{2}$, giving\n",
    "$$\\begin{align*}\n",
    "\\tfrac{1}{2} t^2 & = 4w^3 + 6w^2 \\\\\n",
    "\\tfrac{1}{12} t^2 & = \\tfrac{2}{3}w^3 + w^2 \\\\\n",
    "\\tfrac{1}{2\\sqrt{3}} t & = w \\sqrt{1 + \\tfrac{2}{3}w}.\n",
    "\\end{align*}$$"
   ]
  },
  {
   "cell_type": "code",
   "execution_count": 3,
   "id": "86b48a06",
   "metadata": {},
   "outputs": [],
   "source": [
    "R.<w> = PowerSeriesRing(SR, 'w')\n",
    "t_wrt_w = 2*sqrt(3) * w * sqrt(1 + 2/3*w)"
   ]
  },
  {
   "cell_type": "code",
   "execution_count": 4,
   "id": "8b77c759",
   "metadata": {},
   "outputs": [
    {
     "data": {
      "text/html": [
       "<html><script type=\"math/tex; mode=display\">\\newcommand{\\Bold}[1]{\\mathbf{#1}}2 \\, \\sqrt{3} w + \\frac{2}{3} \\, \\sqrt{3} w^{2} - \\frac{1}{9} \\, \\sqrt{3} w^{3} + \\frac{1}{27} \\, \\sqrt{3} w^{4} - \\frac{5}{324} \\, \\sqrt{3} w^{5} + \\frac{7}{972} \\, \\sqrt{3} w^{6} - \\frac{7}{1944} \\, \\sqrt{3} w^{7} + \\frac{11}{5832} \\, \\sqrt{3} w^{8} - \\frac{143}{139968} \\, \\sqrt{3} w^{9} + O(w^{10})</script></html>"
      ],
      "text/latex": [
       "$$\\newcommand{\\Bold}[1]{\\mathbf{#1}}2 \\, \\sqrt{3} w + \\frac{2}{3} \\, \\sqrt{3} w^{2} - \\frac{1}{9} \\, \\sqrt{3} w^{3} + \\frac{1}{27} \\, \\sqrt{3} w^{4} - \\frac{5}{324} \\, \\sqrt{3} w^{5} + \\frac{7}{972} \\, \\sqrt{3} w^{6} - \\frac{7}{1944} \\, \\sqrt{3} w^{7} + \\frac{11}{5832} \\, \\sqrt{3} w^{8} - \\frac{143}{139968} \\, \\sqrt{3} w^{9} + O(w^{10})$$"
      ],
      "text/plain": [
       "2*sqrt(3)*w + 2/3*sqrt(3)*w^2 - 1/9*sqrt(3)*w^3 + 1/27*sqrt(3)*w^4 - 5/324*sqrt(3)*w^5 + 7/972*sqrt(3)*w^6 - 7/1944*sqrt(3)*w^7 + 11/5832*sqrt(3)*w^8 - 143/139968*sqrt(3)*w^9 + O(w^10)"
      ]
     },
     "execution_count": 4,
     "metadata": {},
     "output_type": "execute_result"
    }
   ],
   "source": [
    "t_wrt_w.O(10)"
   ]
  },
  {
   "cell_type": "markdown",
   "id": "fa3c30ae",
   "metadata": {},
   "source": [
    "Now that we have a series for $t$ with respect to $w$, we invert it to get a series for $w$ with respect to $t$."
   ]
  },
  {
   "cell_type": "code",
   "execution_count": 5,
   "id": "ac0f4a56",
   "metadata": {},
   "outputs": [],
   "source": [
    "t = polygen(SR, 't')\n",
    "w_wrt_t = t_wrt_w.reverse().subs({w: t})"
   ]
  },
  {
   "cell_type": "code",
   "execution_count": 6,
   "id": "aa225f32",
   "metadata": {},
   "outputs": [
    {
     "data": {
      "text/html": [
       "<html><script type=\"math/tex; mode=display\">\\newcommand{\\Bold}[1]{\\mathbf{#1}}\\frac{1}{6} \\, \\sqrt{3} t - \\frac{1}{36} t^{2} + \\frac{5}{1296} \\, \\sqrt{3} t^{3} - \\frac{1}{486} t^{4} + \\frac{77}{186624} \\, \\sqrt{3} t^{5} - \\frac{7}{26244} t^{6} + \\frac{2431}{40310784} \\, \\sqrt{3} t^{7} - \\frac{5}{118098} t^{8} + \\frac{1062347}{104485552128} \\, \\sqrt{3} t^{9} + O(t^{10})</script></html>"
      ],
      "text/latex": [
       "$$\\newcommand{\\Bold}[1]{\\mathbf{#1}}\\frac{1}{6} \\, \\sqrt{3} t - \\frac{1}{36} t^{2} + \\frac{5}{1296} \\, \\sqrt{3} t^{3} - \\frac{1}{486} t^{4} + \\frac{77}{186624} \\, \\sqrt{3} t^{5} - \\frac{7}{26244} t^{6} + \\frac{2431}{40310784} \\, \\sqrt{3} t^{7} - \\frac{5}{118098} t^{8} + \\frac{1062347}{104485552128} \\, \\sqrt{3} t^{9} + O(t^{10})$$"
      ],
      "text/plain": [
       "1/6*sqrt(3)*t - 1/36*t^2 + 5/1296*sqrt(3)*t^3 - 1/486*t^4 + 77/186624*sqrt(3)*t^5 - 7/26244*t^6 + 2431/40310784*sqrt(3)*t^7 - 5/118098*t^8 + 1062347/104485552128*sqrt(3)*t^9 + O(t^10)"
      ]
     },
     "execution_count": 6,
     "metadata": {},
     "output_type": "execute_result"
    }
   ],
   "source": [
    "w_wrt_t.O(10)"
   ]
  },
  {
   "cell_type": "code",
   "execution_count": 7,
   "id": "508d966e",
   "metadata": {},
   "outputs": [],
   "source": [
    "w_t_wrt_t = w_wrt_t.derivative()"
   ]
  },
  {
   "cell_type": "code",
   "execution_count": 8,
   "id": "5eea3898",
   "metadata": {},
   "outputs": [
    {
     "data": {
      "text/html": [
       "<html><script type=\"math/tex; mode=display\">\\newcommand{\\Bold}[1]{\\mathbf{#1}}1 - \\frac{1}{9} \\, \\sqrt{3} t + \\frac{5}{72} t^{2} - \\frac{4}{243} \\, \\sqrt{3} t^{3} + \\frac{385}{31104} t^{4} - \\frac{7}{2187} \\, \\sqrt{3} t^{5} + \\frac{17017}{6718464} t^{6} - \\frac{40}{59049} \\, \\sqrt{3} t^{7} + \\frac{1062347}{1934917632} t^{8} - \\frac{715}{4782969} \\, \\sqrt{3} t^{9} + O(t^{10})</script></html>"
      ],
      "text/latex": [
       "$$\\newcommand{\\Bold}[1]{\\mathbf{#1}}1 - \\frac{1}{9} \\, \\sqrt{3} t + \\frac{5}{72} t^{2} - \\frac{4}{243} \\, \\sqrt{3} t^{3} + \\frac{385}{31104} t^{4} - \\frac{7}{2187} \\, \\sqrt{3} t^{5} + \\frac{17017}{6718464} t^{6} - \\frac{40}{59049} \\, \\sqrt{3} t^{7} + \\frac{1062347}{1934917632} t^{8} - \\frac{715}{4782969} \\, \\sqrt{3} t^{9} + O(t^{10})$$"
      ],
      "text/plain": [
       "1 - 1/9*sqrt(3)*t + 5/72*t^2 - 4/243*sqrt(3)*t^3 + 385/31104*t^4 - 7/2187*sqrt(3)*t^5 + 17017/6718464*t^6 - 40/59049*sqrt(3)*t^7 + 1062347/1934917632*t^8 - 715/4782969*sqrt(3)*t^9 + O(t^10)"
      ]
     },
     "execution_count": 8,
     "metadata": {},
     "output_type": "execute_result"
    }
   ],
   "source": [
    "2*sqrt(3) * w_t_wrt_t.O(10)"
   ]
  }
 ],
 "metadata": {
  "kernelspec": {
   "display_name": "SageMath 9.5",
   "language": "sage",
   "name": "sagemath"
  },
  "language_info": {
   "codemirror_mode": {
    "name": "ipython",
    "version": 3
   },
   "file_extension": ".py",
   "mimetype": "text/x-python",
   "name": "python",
   "nbconvert_exporter": "python",
   "pygments_lexer": "ipython3",
   "version": "3.10.12"
  }
 },
 "nbformat": 4,
 "nbformat_minor": 5
}
